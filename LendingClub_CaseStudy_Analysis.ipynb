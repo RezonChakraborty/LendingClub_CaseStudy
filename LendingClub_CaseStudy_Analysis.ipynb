{
 "cells": [
  {
   "cell_type": "markdown",
   "id": "aff3fadb",
   "metadata": {},
   "source": [
    "# Lending Club Case Study"
   ]
  },
  {
   "cell_type": "markdown",
   "id": "2d6ffd0d",
   "metadata": {},
   "source": [
    "<h3>Importing Libs</h3>"
   ]
  },
  {
   "cell_type": "code",
   "execution_count": 1,
   "id": "14d94746",
   "metadata": {},
   "outputs": [
    {
     "name": "stderr",
     "output_type": "stream",
     "text": [
      "C:\\Users\\ayush\\anaconda3\\lib\\site-packages\\scipy\\__init__.py:146: UserWarning: A NumPy version >=1.16.5 and <1.23.0 is required for this version of SciPy (detected version 1.24.3\n",
      "  warnings.warn(f\"A NumPy version >={np_minversion} and <{np_maxversion}\"\n"
     ]
    }
   ],
   "source": [
    "import pandas as pd\n",
    "import os\n",
    "import matplotlib.pyplot as plt\n",
    "import seaborn as sns\n",
    "import numpy as np"
   ]
  },
  {
   "cell_type": "markdown",
   "id": "4972dcea",
   "metadata": {},
   "source": [
    "<h3> Loading Data </h3>"
   ]
  },
  {
   "cell_type": "code",
   "execution_count": 2,
   "id": "b8a519d3",
   "metadata": {},
   "outputs": [
    {
     "name": "stderr",
     "output_type": "stream",
     "text": [
      "C:\\Users\\ayush\\anaconda3\\lib\\site-packages\\IPython\\core\\interactiveshell.py:3444: DtypeWarning: Columns (47) have mixed types.Specify dtype option on import or set low_memory=False.\n",
      "  exec(code_obj, self.user_global_ns, self.user_ns)\n"
     ]
    },
    {
     "data": {
      "text/html": [
       "<div>\n",
       "<style scoped>\n",
       "    .dataframe tbody tr th:only-of-type {\n",
       "        vertical-align: middle;\n",
       "    }\n",
       "\n",
       "    .dataframe tbody tr th {\n",
       "        vertical-align: top;\n",
       "    }\n",
       "\n",
       "    .dataframe thead th {\n",
       "        text-align: right;\n",
       "    }\n",
       "</style>\n",
       "<table border=\"1\" class=\"dataframe\">\n",
       "  <thead>\n",
       "    <tr style=\"text-align: right;\">\n",
       "      <th></th>\n",
       "      <th>id</th>\n",
       "      <th>member_id</th>\n",
       "      <th>loan_amnt</th>\n",
       "      <th>funded_amnt</th>\n",
       "      <th>funded_amnt_inv</th>\n",
       "      <th>term</th>\n",
       "      <th>int_rate</th>\n",
       "      <th>installment</th>\n",
       "      <th>grade</th>\n",
       "      <th>sub_grade</th>\n",
       "      <th>...</th>\n",
       "      <th>num_tl_90g_dpd_24m</th>\n",
       "      <th>num_tl_op_past_12m</th>\n",
       "      <th>pct_tl_nvr_dlq</th>\n",
       "      <th>percent_bc_gt_75</th>\n",
       "      <th>pub_rec_bankruptcies</th>\n",
       "      <th>tax_liens</th>\n",
       "      <th>tot_hi_cred_lim</th>\n",
       "      <th>total_bal_ex_mort</th>\n",
       "      <th>total_bc_limit</th>\n",
       "      <th>total_il_high_credit_limit</th>\n",
       "    </tr>\n",
       "  </thead>\n",
       "  <tbody>\n",
       "    <tr>\n",
       "      <th>0</th>\n",
       "      <td>1077501</td>\n",
       "      <td>1296599</td>\n",
       "      <td>5000</td>\n",
       "      <td>5000</td>\n",
       "      <td>4975.0</td>\n",
       "      <td>36 months</td>\n",
       "      <td>10.65%</td>\n",
       "      <td>162.87</td>\n",
       "      <td>B</td>\n",
       "      <td>B2</td>\n",
       "      <td>...</td>\n",
       "      <td>NaN</td>\n",
       "      <td>NaN</td>\n",
       "      <td>NaN</td>\n",
       "      <td>NaN</td>\n",
       "      <td>0.0</td>\n",
       "      <td>0.0</td>\n",
       "      <td>NaN</td>\n",
       "      <td>NaN</td>\n",
       "      <td>NaN</td>\n",
       "      <td>NaN</td>\n",
       "    </tr>\n",
       "    <tr>\n",
       "      <th>1</th>\n",
       "      <td>1077430</td>\n",
       "      <td>1314167</td>\n",
       "      <td>2500</td>\n",
       "      <td>2500</td>\n",
       "      <td>2500.0</td>\n",
       "      <td>60 months</td>\n",
       "      <td>15.27%</td>\n",
       "      <td>59.83</td>\n",
       "      <td>C</td>\n",
       "      <td>C4</td>\n",
       "      <td>...</td>\n",
       "      <td>NaN</td>\n",
       "      <td>NaN</td>\n",
       "      <td>NaN</td>\n",
       "      <td>NaN</td>\n",
       "      <td>0.0</td>\n",
       "      <td>0.0</td>\n",
       "      <td>NaN</td>\n",
       "      <td>NaN</td>\n",
       "      <td>NaN</td>\n",
       "      <td>NaN</td>\n",
       "    </tr>\n",
       "    <tr>\n",
       "      <th>2</th>\n",
       "      <td>1077175</td>\n",
       "      <td>1313524</td>\n",
       "      <td>2400</td>\n",
       "      <td>2400</td>\n",
       "      <td>2400.0</td>\n",
       "      <td>36 months</td>\n",
       "      <td>15.96%</td>\n",
       "      <td>84.33</td>\n",
       "      <td>C</td>\n",
       "      <td>C5</td>\n",
       "      <td>...</td>\n",
       "      <td>NaN</td>\n",
       "      <td>NaN</td>\n",
       "      <td>NaN</td>\n",
       "      <td>NaN</td>\n",
       "      <td>0.0</td>\n",
       "      <td>0.0</td>\n",
       "      <td>NaN</td>\n",
       "      <td>NaN</td>\n",
       "      <td>NaN</td>\n",
       "      <td>NaN</td>\n",
       "    </tr>\n",
       "    <tr>\n",
       "      <th>3</th>\n",
       "      <td>1076863</td>\n",
       "      <td>1277178</td>\n",
       "      <td>10000</td>\n",
       "      <td>10000</td>\n",
       "      <td>10000.0</td>\n",
       "      <td>36 months</td>\n",
       "      <td>13.49%</td>\n",
       "      <td>339.31</td>\n",
       "      <td>C</td>\n",
       "      <td>C1</td>\n",
       "      <td>...</td>\n",
       "      <td>NaN</td>\n",
       "      <td>NaN</td>\n",
       "      <td>NaN</td>\n",
       "      <td>NaN</td>\n",
       "      <td>0.0</td>\n",
       "      <td>0.0</td>\n",
       "      <td>NaN</td>\n",
       "      <td>NaN</td>\n",
       "      <td>NaN</td>\n",
       "      <td>NaN</td>\n",
       "    </tr>\n",
       "    <tr>\n",
       "      <th>4</th>\n",
       "      <td>1075358</td>\n",
       "      <td>1311748</td>\n",
       "      <td>3000</td>\n",
       "      <td>3000</td>\n",
       "      <td>3000.0</td>\n",
       "      <td>60 months</td>\n",
       "      <td>12.69%</td>\n",
       "      <td>67.79</td>\n",
       "      <td>B</td>\n",
       "      <td>B5</td>\n",
       "      <td>...</td>\n",
       "      <td>NaN</td>\n",
       "      <td>NaN</td>\n",
       "      <td>NaN</td>\n",
       "      <td>NaN</td>\n",
       "      <td>0.0</td>\n",
       "      <td>0.0</td>\n",
       "      <td>NaN</td>\n",
       "      <td>NaN</td>\n",
       "      <td>NaN</td>\n",
       "      <td>NaN</td>\n",
       "    </tr>\n",
       "  </tbody>\n",
       "</table>\n",
       "<p>5 rows × 111 columns</p>\n",
       "</div>"
      ],
      "text/plain": [
       "        id  member_id  loan_amnt  funded_amnt  funded_amnt_inv        term  \\\n",
       "0  1077501    1296599       5000         5000           4975.0   36 months   \n",
       "1  1077430    1314167       2500         2500           2500.0   60 months   \n",
       "2  1077175    1313524       2400         2400           2400.0   36 months   \n",
       "3  1076863    1277178      10000        10000          10000.0   36 months   \n",
       "4  1075358    1311748       3000         3000           3000.0   60 months   \n",
       "\n",
       "  int_rate  installment grade sub_grade  ... num_tl_90g_dpd_24m  \\\n",
       "0   10.65%       162.87     B        B2  ...                NaN   \n",
       "1   15.27%        59.83     C        C4  ...                NaN   \n",
       "2   15.96%        84.33     C        C5  ...                NaN   \n",
       "3   13.49%       339.31     C        C1  ...                NaN   \n",
       "4   12.69%        67.79     B        B5  ...                NaN   \n",
       "\n",
       "  num_tl_op_past_12m pct_tl_nvr_dlq  percent_bc_gt_75 pub_rec_bankruptcies  \\\n",
       "0                NaN            NaN               NaN                  0.0   \n",
       "1                NaN            NaN               NaN                  0.0   \n",
       "2                NaN            NaN               NaN                  0.0   \n",
       "3                NaN            NaN               NaN                  0.0   \n",
       "4                NaN            NaN               NaN                  0.0   \n",
       "\n",
       "  tax_liens tot_hi_cred_lim total_bal_ex_mort total_bc_limit  \\\n",
       "0       0.0             NaN               NaN            NaN   \n",
       "1       0.0             NaN               NaN            NaN   \n",
       "2       0.0             NaN               NaN            NaN   \n",
       "3       0.0             NaN               NaN            NaN   \n",
       "4       0.0             NaN               NaN            NaN   \n",
       "\n",
       "  total_il_high_credit_limit  \n",
       "0                        NaN  \n",
       "1                        NaN  \n",
       "2                        NaN  \n",
       "3                        NaN  \n",
       "4                        NaN  \n",
       "\n",
       "[5 rows x 111 columns]"
      ]
     },
     "execution_count": 2,
     "metadata": {},
     "output_type": "execute_result"
    }
   ],
   "source": [
    "dataset_path = os.path.join('loan', 'loan.csv')\n",
    "df = pd.read_csv(dataset_path)\n",
    "df.head()"
   ]
  },
  {
   "cell_type": "markdown",
   "id": "8b07af4c",
   "metadata": {},
   "source": [
    "<h3>Dataset size</h3>"
   ]
  },
  {
   "cell_type": "code",
   "execution_count": 3,
   "id": "5947d205",
   "metadata": {},
   "outputs": [
    {
     "data": {
      "text/plain": [
       "(39717, 111)"
      ]
     },
     "execution_count": 3,
     "metadata": {},
     "output_type": "execute_result"
    }
   ],
   "source": [
    "df.shape"
   ]
  },
  {
   "cell_type": "markdown",
   "id": "53a349c6",
   "metadata": {},
   "source": [
    "<h3> Checking Null Values Count On Each Columns</h3>"
   ]
  },
  {
   "cell_type": "code",
   "execution_count": 4,
   "id": "ea752819",
   "metadata": {},
   "outputs": [
    {
     "data": {
      "text/plain": [
       "id                                0\n",
       "member_id                         0\n",
       "loan_amnt                         0\n",
       "funded_amnt                       0\n",
       "funded_amnt_inv                   0\n",
       "                              ...  \n",
       "tax_liens                        39\n",
       "tot_hi_cred_lim               39717\n",
       "total_bal_ex_mort             39717\n",
       "total_bc_limit                39717\n",
       "total_il_high_credit_limit    39717\n",
       "Length: 111, dtype: int64"
      ]
     },
     "execution_count": 4,
     "metadata": {},
     "output_type": "execute_result"
    }
   ],
   "source": [
    "null_counts = df.isnull().sum()\n",
    "null_counts"
   ]
  },
  {
   "cell_type": "markdown",
   "id": "79a624eb",
   "metadata": {},
   "source": [
    "<h3>Removing All Columns which are completly Null</h3>"
   ]
  },
  {
   "cell_type": "code",
   "execution_count": 5,
   "id": "6807285c",
   "metadata": {},
   "outputs": [
    {
     "data": {
      "text/plain": [
       "(39717, 57)"
      ]
     },
     "execution_count": 5,
     "metadata": {},
     "output_type": "execute_result"
    }
   ],
   "source": [
    "df = df.dropna(axis=1, how='all')\n",
    "df.shape"
   ]
  },
  {
   "cell_type": "markdown",
   "id": "aa3f2163",
   "metadata": {},
   "source": [
    "<font color='red'>Out of 111 Columns, 54 Columns contains only null value</font><br>\n",
    "<font color='red'>Removed 54 Columns Now we have 57 Columns left to Analysis</font>"
   ]
  },
  {
   "cell_type": "markdown",
   "id": "01ff333c",
   "metadata": {},
   "source": [
    "<h4>Now Analysing Null Value Count of Remaning Columns</h4>"
   ]
  },
  {
   "cell_type": "code",
   "execution_count": 6,
   "id": "c7ee1197",
   "metadata": {},
   "outputs": [
    {
     "data": {
      "image/png": "[encoded data removed]",
      "text/plain": [
       "<Figure size 432x288 with 1 Axes>"
      ]
     },
     "metadata": {
      "needs_background": "light"
     },
     "output_type": "display_data"
    },
    {
     "data": {
      "text/plain": [
       "<Figure size 864x576 with 0 Axes>"
      ]
     },
     "metadata": {},
     "output_type": "display_data"
    }
   ],
   "source": [
    "# Count the null values in each column\n",
    "null_counts = df.isnull().sum()\n",
    "null_counts = null_counts[null_counts > 0]\n",
    "# Create a bar plot\n",
    "null_counts.plot(kind='bar')\n",
    "\n",
    "# Customize the plot\n",
    "plt.title('Null Values by Column', fontsize=14)\n",
    "plt.xlabel('Columns', fontsize=12)\n",
    "plt.ylabel('Number of Null Values (log scale)', fontsize=12)  # Update the y-label text\n",
    "plt.xticks(rotation=45, ha='right', fontsize=10)\n",
    "\n",
    "# Increase the size of the plot window\n",
    "plt.figure(figsize=(12, 8))\n",
    "\n",
    "# Display the plot\n",
    "plt.tight_layout()\n",
    "plt.show()"
   ]
  },
  {
   "cell_type": "markdown",
   "id": "f8e3ccf6",
   "metadata": {},
   "source": [
    "<h3>Removing below Columns as it not possible to fix Missing Values</h3>\n",
    "    <br>\n",
    "<b><font color=\"Blue\">mths_since_last_delinq</font>&nbsp;</b> {The number of months since the borrower's last delinquency.} <br>\n",
    "<b><font color=\"Blue\">mths_since_last_record</font>&nbsp;</b> {The number of months since the last public record.}<br>\n",
    "<b><font color=\"Blue\">next_pymnt_d</font>&nbsp;</b>\t{Next scheduled payment date}<br>\n",
    "\n",
    "Also Removing <b><font color=\"Blue\">desc</font>&nbsp;</b> as it can't be standardised<br>\n",
    "<b><font color=\"Blue\">desc</font>&nbsp;</b>\t{Loan description provided by the borrower}<br>"
   ]
  },
  {
   "cell_type": "code",
   "execution_count": 7,
   "id": "d531244d",
   "metadata": {},
   "outputs": [
    {
     "data": {
      "text/plain": [
       "(39717, 53)"
      ]
     },
     "execution_count": 7,
     "metadata": {},
     "output_type": "execute_result"
    }
   ],
   "source": [
    "columns_to_drop = ['mths_since_last_delinq', 'mths_since_last_record', 'next_pymnt_d', 'desc']\n",
    "df = df.drop(columns=columns_to_drop)\n",
    "df.shape\n",
    "\n"
   ]
  },
  {
   "cell_type": "code",
   "execution_count": 8,
   "id": "5c4fab2e",
   "metadata": {},
   "outputs": [
    {
     "data": {
      "text/plain": [
       "(39717, 39)"
      ]
     },
     "execution_count": 8,
     "metadata": {},
     "output_type": "execute_result"
    }
   ],
   "source": [
    "Final_columns = ['addr_state',\n",
    "'annual_inc',\n",
    "'collection_recovery_fee',\n",
    "'delinq_2yrs',\n",
    "'dti',\n",
    "'earliest_cr_line',\n",
    "'emp_length',\n",
    "'funded_amnt',\n",
    "'funded_amnt_inv',\n",
    "'grade',\n",
    "'home_ownership',\n",
    "'initial_list_status',\n",
    "'inq_last_6mths',\n",
    "'installment',\n",
    "'int_rate',\n",
    "'issue_d',\n",
    "'last_credit_pull_d',\n",
    "'last_pymnt_amnt',\n",
    "'last_pymnt_d',\n",
    "'loan_amnt',\n",
    "'loan_status',\n",
    "'open_acc',\n",
    "'out_prncp',\n",
    "'out_prncp_inv',\n",
    "'pub_rec',\n",
    "'pub_rec_bankruptcies',\n",
    "'purpose',\n",
    "'recoveries',\n",
    "'revol_bal',\n",
    "'revol_util',\n",
    "'sub_grade',\n",
    "'term',\n",
    "'total_acc',\n",
    "'total_pymnt',\n",
    "'total_pymnt_inv',\n",
    "'total_rec_int',\n",
    "'total_rec_late_fee',\n",
    "'total_rec_prncp',\n",
    "'verification_status']\n",
    "df = df[Final_columns]\n",
    "df.shape"
   ]
  },
  {
   "cell_type": "markdown",
   "id": "1bd1d814",
   "metadata": {},
   "source": [
    "<h6><font color='red'>Now we left with 39 Columns</font></h6>"
   ]
  },
  {
   "cell_type": "code",
   "execution_count": 9,
   "id": "7ffc673b",
   "metadata": {},
   "outputs": [
    {
     "data": {
      "image/png": "[encoded data removed]",
      "text/plain": [
       "<Figure size 432x288 with 1 Axes>"
      ]
     },
     "metadata": {
      "needs_background": "light"
     },
     "output_type": "display_data"
    },
    {
     "data": {
      "text/plain": [
       "<Figure size 864x576 with 0 Axes>"
      ]
     },
     "metadata": {},
     "output_type": "display_data"
    }
   ],
   "source": [
    "# Count the null values in each column\n",
    "null_counts = df.isnull().sum()\n",
    "null_counts = null_counts[null_counts > 0]\n",
    "# Create a bar plot\n",
    "null_counts.plot(kind='bar')\n",
    "\n",
    "# Customize the plot\n",
    "plt.title('Null Values by Column', fontsize=14)\n",
    "plt.xlabel('Columns', fontsize=12)\n",
    "plt.ylabel('Number of Null Values (log scale)', fontsize=12)  # Update the y-label text\n",
    "plt.xticks(rotation=45, ha='right', fontsize=10)\n",
    "\n",
    "# Increase the size of the plot window\n",
    "plt.figure(figsize=(12, 8))\n",
    "\n",
    "# Display the plot\n",
    "plt.tight_layout()\n",
    "plt.show()"
   ]
  },
  {
   "cell_type": "code",
   "execution_count": 10,
   "id": "53eaa943",
   "metadata": {},
   "outputs": [
    {
     "data": {
      "text/plain": [
       "Index(['addr_state', 'annual_inc', 'collection_recovery_fee', 'delinq_2yrs',\n",
       "       'dti', 'earliest_cr_line', 'emp_length', 'funded_amnt',\n",
       "       'funded_amnt_inv', 'grade', 'home_ownership', 'initial_list_status',\n",
       "       'inq_last_6mths', 'installment', 'int_rate', 'issue_d',\n",
       "       'last_credit_pull_d', 'last_pymnt_amnt', 'last_pymnt_d', 'loan_amnt',\n",
       "       'loan_status', 'open_acc', 'out_prncp', 'out_prncp_inv', 'pub_rec',\n",
       "       'pub_rec_bankruptcies', 'purpose', 'recoveries', 'revol_bal',\n",
       "       'revol_util', 'sub_grade', 'term', 'total_acc', 'total_pymnt',\n",
       "       'total_pymnt_inv', 'total_rec_int', 'total_rec_late_fee',\n",
       "       'total_rec_prncp', 'verification_status'],\n",
       "      dtype='object')"
      ]
     },
     "execution_count": 10,
     "metadata": {},
     "output_type": "execute_result"
    }
   ],
   "source": [
    "df.columns"
   ]
  },
  {
   "cell_type": "code",
   "execution_count": 11,
   "id": "4f09950d",
   "metadata": {},
   "outputs": [
    {
     "data": {
      "text/plain": [
       "0        0\n",
       "1        0\n",
       "2        0\n",
       "3        0\n",
       "4        0\n",
       "        ..\n",
       "39712    1\n",
       "39713    1\n",
       "39714    1\n",
       "39715    1\n",
       "39716    1\n",
       "Length: 39717, dtype: int64"
      ]
     },
     "execution_count": 11,
     "metadata": {},
     "output_type": "execute_result"
    }
   ],
   "source": [
    "#Check Missing Values in Rows\n",
    "df.isnull().sum(axis=1)"
   ]
  },
  {
   "cell_type": "code",
   "execution_count": 12,
   "id": "69016ef3",
   "metadata": {},
   "outputs": [
    {
     "data": {
      "text/plain": [
       "{'1 year',\n",
       " '10+ years',\n",
       " '2 years',\n",
       " '3 years',\n",
       " '4 years',\n",
       " '5 years',\n",
       " '6 years',\n",
       " '7 years',\n",
       " '8 years',\n",
       " '9 years',\n",
       " '< 1 year',\n",
       " nan}"
      ]
     },
     "execution_count": 12,
     "metadata": {},
     "output_type": "execute_result"
    }
   ],
   "source": [
    "set(df['emp_length'])"
   ]
  },
  {
   "cell_type": "code",
   "execution_count": 13,
   "id": "08166acf",
   "metadata": {},
   "outputs": [
    {
     "data": {
      "text/plain": [
       "{0,\n",
       " '1 year',\n",
       " '10+ years',\n",
       " '2 years',\n",
       " '3 years',\n",
       " '4 years',\n",
       " '5 years',\n",
       " '6 years',\n",
       " '7 years',\n",
       " '8 years',\n",
       " '9 years',\n",
       " '< 1 year'}"
      ]
     },
     "execution_count": 13,
     "metadata": {},
     "output_type": "execute_result"
    }
   ],
   "source": [
    "#In emp_length there are nan values present, filling 'nan' with 0\n",
    "df['emp_length'] = df['emp_length'].fillna(0)\n",
    "set(df['emp_length'])"
   ]
  },
  {
   "cell_type": "code",
   "execution_count": 14,
   "id": "940762de",
   "metadata": {},
   "outputs": [
    {
     "data": {
      "text/plain": [
       "{'MORTGAGE', 'NONE', 'OTHER', 'OWN', 'RENT'}"
      ]
     },
     "execution_count": 14,
     "metadata": {},
     "output_type": "execute_result"
    }
   ],
   "source": [
    "set(df['home_ownership'])"
   ]
  },
  {
   "cell_type": "code",
   "execution_count": 15,
   "id": "0cd6596a",
   "metadata": {},
   "outputs": [
    {
     "data": {
      "text/plain": [
       "{'MORTGAGE', 'OTHER', 'OWN', 'RENT'}"
      ]
     },
     "execution_count": 15,
     "metadata": {},
     "output_type": "execute_result"
    }
   ],
   "source": [
    "#Remove Records which have None\n",
    "df = df[df['home_ownership']!='NONE']\n",
    "set(df['home_ownership'])"
   ]
  },
  {
   "cell_type": "code",
   "execution_count": 16,
   "id": "3b3e9f1d",
   "metadata": {},
   "outputs": [
    {
     "data": {
      "text/plain": [
       "(39714, 39)"
      ]
     },
     "execution_count": 16,
     "metadata": {},
     "output_type": "execute_result"
    }
   ],
   "source": [
    "df.shape"
   ]
  },
  {
   "cell_type": "code",
   "execution_count": 17,
   "id": "957ac436",
   "metadata": {
    "scrolled": true
   },
   "outputs": [
    {
     "name": "stdout",
     "output_type": "stream",
     "text": [
      "<class 'pandas.core.frame.DataFrame'>\n",
      "Int64Index: 39714 entries, 0 to 39716\n",
      "Data columns (total 39 columns):\n",
      " #   Column                   Non-Null Count  Dtype  \n",
      "---  ------                   --------------  -----  \n",
      " 0   addr_state               39714 non-null  object \n",
      " 1   annual_inc               39714 non-null  float64\n",
      " 2   collection_recovery_fee  39714 non-null  float64\n",
      " 3   delinq_2yrs              39714 non-null  int64  \n",
      " 4   dti                      39714 non-null  float64\n",
      " 5   earliest_cr_line         39714 non-null  object \n",
      " 6   emp_length               39714 non-null  object \n",
      " 7   funded_amnt              39714 non-null  int64  \n",
      " 8   funded_amnt_inv          39714 non-null  float64\n",
      " 9   grade                    39714 non-null  object \n",
      " 10  home_ownership           39714 non-null  object \n",
      " 11  initial_list_status      39714 non-null  object \n",
      " 12  inq_last_6mths           39714 non-null  int64  \n",
      " 13  installment              39714 non-null  float64\n",
      " 14  int_rate                 39714 non-null  object \n",
      " 15  issue_d                  39714 non-null  object \n",
      " 16  last_credit_pull_d       39712 non-null  object \n",
      " 17  last_pymnt_amnt          39714 non-null  float64\n",
      " 18  last_pymnt_d             39643 non-null  object \n",
      " 19  loan_amnt                39714 non-null  int64  \n",
      " 20  loan_status              39714 non-null  object \n",
      " 21  open_acc                 39714 non-null  int64  \n",
      " 22  out_prncp                39714 non-null  float64\n",
      " 23  out_prncp_inv            39714 non-null  float64\n",
      " 24  pub_rec                  39714 non-null  int64  \n",
      " 25  pub_rec_bankruptcies     39020 non-null  float64\n",
      " 26  purpose                  39714 non-null  object \n",
      " 27  recoveries               39714 non-null  float64\n",
      " 28  revol_bal                39714 non-null  int64  \n",
      " 29  revol_util               39664 non-null  object \n",
      " 30  sub_grade                39714 non-null  object \n",
      " 31  term                     39714 non-null  object \n",
      " 32  total_acc                39714 non-null  int64  \n",
      " 33  total_pymnt              39714 non-null  float64\n",
      " 34  total_pymnt_inv          39714 non-null  float64\n",
      " 35  total_rec_int            39714 non-null  float64\n",
      " 36  total_rec_late_fee       39714 non-null  float64\n",
      " 37  total_rec_prncp          39714 non-null  float64\n",
      " 38  verification_status      39714 non-null  object \n",
      "dtypes: float64(15), int64(8), object(16)\n",
      "memory usage: 12.1+ MB\n"
     ]
    }
   ],
   "source": [
    "df.info()"
   ]
  },
  {
   "cell_type": "markdown",
   "id": "a1923e16",
   "metadata": {},
   "source": [
    "### Remove <b>`'%'`</b> sign from the values in the column `revol_util`"
   ]
  },
  {
   "cell_type": "code",
   "execution_count": 18,
   "id": "fd17d914",
   "metadata": {},
   "outputs": [],
   "source": [
    "df= df[~df['revol_util'].isnull()]"
   ]
  },
  {
   "cell_type": "code",
   "execution_count": 19,
   "id": "990f864a",
   "metadata": {},
   "outputs": [
    {
     "data": {
      "text/plain": [
       "0"
      ]
     },
     "execution_count": 19,
     "metadata": {},
     "output_type": "execute_result"
    }
   ],
   "source": [
    "df['revol_util'].isnull().sum()"
   ]
  },
  {
   "cell_type": "code",
   "execution_count": 20,
   "id": "08deaaa2",
   "metadata": {},
   "outputs": [
    {
     "data": {
      "text/plain": [
       "0    83.70%\n",
       "1     9.40%\n",
       "2    98.50%\n",
       "3       21%\n",
       "4    53.90%\n",
       "Name: revol_util, dtype: object"
      ]
     },
     "execution_count": 20,
     "metadata": {},
     "output_type": "execute_result"
    }
   ],
   "source": [
    "df['revol_util'].head()"
   ]
  },
  {
   "cell_type": "code",
   "execution_count": 21,
   "id": "a98de4df",
   "metadata": {},
   "outputs": [],
   "source": [
    "df['revol_util'] = df['revol_util'].str.rstrip('%')"
   ]
  },
  {
   "cell_type": "code",
   "execution_count": 22,
   "id": "835f9ffc",
   "metadata": {
    "scrolled": true
   },
   "outputs": [
    {
     "data": {
      "text/plain": [
       "0    83.70\n",
       "1     9.40\n",
       "2    98.50\n",
       "3       21\n",
       "4    53.90\n",
       "Name: revol_util, dtype: object"
      ]
     },
     "execution_count": 22,
     "metadata": {},
     "output_type": "execute_result"
    }
   ],
   "source": [
    "df['revol_util'].head()"
   ]
  },
  {
   "cell_type": "markdown",
   "id": "efb96449",
   "metadata": {},
   "source": [
    "#### Segment the `revol_util` column into four categories"
   ]
  },
  {
   "cell_type": "code",
   "execution_count": 23,
   "id": "87b0e50d",
   "metadata": {},
   "outputs": [],
   "source": [
    "def revol_util_categories_func(x):\n",
    "    x = float(x)\n",
    "    if x <= 5:\n",
    "        return \"Extremely Good\"\n",
    "    elif (x > 5) & (x <= 30):\n",
    "        return \"Good\"\n",
    "    elif (x > 30) & (x <= 50):\n",
    "        return \"Moderate\"\n",
    "    elif (x > 50) & (x <= 70):\n",
    "        return \"Risky\"\n",
    "    elif x > 70:\n",
    "        return \"Extremely Risky\""
   ]
  },
  {
   "cell_type": "code",
   "execution_count": 24,
   "id": "05e1846f",
   "metadata": {},
   "outputs": [],
   "source": [
    "df['revol_util_categories'] = df['revol_util'].apply(lambda x: revol_util_categories_func(x))"
   ]
  },
  {
   "cell_type": "code",
   "execution_count": 25,
   "id": "1d190efd",
   "metadata": {
    "scrolled": true
   },
   "outputs": [
    {
     "data": {
      "text/html": [
       "<div>\n",
       "<style scoped>\n",
       "    .dataframe tbody tr th:only-of-type {\n",
       "        vertical-align: middle;\n",
       "    }\n",
       "\n",
       "    .dataframe tbody tr th {\n",
       "        vertical-align: top;\n",
       "    }\n",
       "\n",
       "    .dataframe thead th {\n",
       "        text-align: right;\n",
       "    }\n",
       "</style>\n",
       "<table border=\"1\" class=\"dataframe\">\n",
       "  <thead>\n",
       "    <tr style=\"text-align: right;\">\n",
       "      <th></th>\n",
       "      <th>addr_state</th>\n",
       "      <th>annual_inc</th>\n",
       "      <th>collection_recovery_fee</th>\n",
       "      <th>delinq_2yrs</th>\n",
       "      <th>dti</th>\n",
       "      <th>earliest_cr_line</th>\n",
       "      <th>emp_length</th>\n",
       "      <th>funded_amnt</th>\n",
       "      <th>funded_amnt_inv</th>\n",
       "      <th>grade</th>\n",
       "      <th>...</th>\n",
       "      <th>revol_util</th>\n",
       "      <th>sub_grade</th>\n",
       "      <th>term</th>\n",
       "      <th>total_acc</th>\n",
       "      <th>total_pymnt</th>\n",
       "      <th>total_pymnt_inv</th>\n",
       "      <th>total_rec_int</th>\n",
       "      <th>total_rec_late_fee</th>\n",
       "      <th>total_rec_prncp</th>\n",
       "      <th>verification_status</th>\n",
       "    </tr>\n",
       "    <tr>\n",
       "      <th>revol_util_categories</th>\n",
       "      <th></th>\n",
       "      <th></th>\n",
       "      <th></th>\n",
       "      <th></th>\n",
       "      <th></th>\n",
       "      <th></th>\n",
       "      <th></th>\n",
       "      <th></th>\n",
       "      <th></th>\n",
       "      <th></th>\n",
       "      <th></th>\n",
       "      <th></th>\n",
       "      <th></th>\n",
       "      <th></th>\n",
       "      <th></th>\n",
       "      <th></th>\n",
       "      <th></th>\n",
       "      <th></th>\n",
       "      <th></th>\n",
       "      <th></th>\n",
       "      <th></th>\n",
       "    </tr>\n",
       "  </thead>\n",
       "  <tbody>\n",
       "    <tr>\n",
       "      <th>Extremely Good</th>\n",
       "      <td>2733</td>\n",
       "      <td>2733</td>\n",
       "      <td>2733</td>\n",
       "      <td>2733</td>\n",
       "      <td>2733</td>\n",
       "      <td>2733</td>\n",
       "      <td>2733</td>\n",
       "      <td>2733</td>\n",
       "      <td>2733</td>\n",
       "      <td>2733</td>\n",
       "      <td>...</td>\n",
       "      <td>2733</td>\n",
       "      <td>2733</td>\n",
       "      <td>2733</td>\n",
       "      <td>2733</td>\n",
       "      <td>2733</td>\n",
       "      <td>2733</td>\n",
       "      <td>2733</td>\n",
       "      <td>2733</td>\n",
       "      <td>2733</td>\n",
       "      <td>2733</td>\n",
       "    </tr>\n",
       "    <tr>\n",
       "      <th>Extremely Risky</th>\n",
       "      <td>10891</td>\n",
       "      <td>10891</td>\n",
       "      <td>10891</td>\n",
       "      <td>10891</td>\n",
       "      <td>10891</td>\n",
       "      <td>10891</td>\n",
       "      <td>10891</td>\n",
       "      <td>10891</td>\n",
       "      <td>10891</td>\n",
       "      <td>10891</td>\n",
       "      <td>...</td>\n",
       "      <td>10891</td>\n",
       "      <td>10891</td>\n",
       "      <td>10891</td>\n",
       "      <td>10891</td>\n",
       "      <td>10891</td>\n",
       "      <td>10891</td>\n",
       "      <td>10891</td>\n",
       "      <td>10891</td>\n",
       "      <td>10891</td>\n",
       "      <td>10891</td>\n",
       "    </tr>\n",
       "    <tr>\n",
       "      <th>Good</th>\n",
       "      <td>8986</td>\n",
       "      <td>8986</td>\n",
       "      <td>8986</td>\n",
       "      <td>8986</td>\n",
       "      <td>8986</td>\n",
       "      <td>8986</td>\n",
       "      <td>8986</td>\n",
       "      <td>8986</td>\n",
       "      <td>8986</td>\n",
       "      <td>8986</td>\n",
       "      <td>...</td>\n",
       "      <td>8986</td>\n",
       "      <td>8986</td>\n",
       "      <td>8986</td>\n",
       "      <td>8986</td>\n",
       "      <td>8986</td>\n",
       "      <td>8986</td>\n",
       "      <td>8986</td>\n",
       "      <td>8986</td>\n",
       "      <td>8986</td>\n",
       "      <td>8986</td>\n",
       "    </tr>\n",
       "    <tr>\n",
       "      <th>Moderate</th>\n",
       "      <td>8464</td>\n",
       "      <td>8464</td>\n",
       "      <td>8464</td>\n",
       "      <td>8464</td>\n",
       "      <td>8464</td>\n",
       "      <td>8464</td>\n",
       "      <td>8464</td>\n",
       "      <td>8464</td>\n",
       "      <td>8464</td>\n",
       "      <td>8464</td>\n",
       "      <td>...</td>\n",
       "      <td>8464</td>\n",
       "      <td>8464</td>\n",
       "      <td>8464</td>\n",
       "      <td>8464</td>\n",
       "      <td>8464</td>\n",
       "      <td>8464</td>\n",
       "      <td>8464</td>\n",
       "      <td>8464</td>\n",
       "      <td>8464</td>\n",
       "      <td>8464</td>\n",
       "    </tr>\n",
       "    <tr>\n",
       "      <th>Risky</th>\n",
       "      <td>8590</td>\n",
       "      <td>8590</td>\n",
       "      <td>8590</td>\n",
       "      <td>8590</td>\n",
       "      <td>8590</td>\n",
       "      <td>8590</td>\n",
       "      <td>8590</td>\n",
       "      <td>8590</td>\n",
       "      <td>8590</td>\n",
       "      <td>8590</td>\n",
       "      <td>...</td>\n",
       "      <td>8590</td>\n",
       "      <td>8590</td>\n",
       "      <td>8590</td>\n",
       "      <td>8590</td>\n",
       "      <td>8590</td>\n",
       "      <td>8590</td>\n",
       "      <td>8590</td>\n",
       "      <td>8590</td>\n",
       "      <td>8590</td>\n",
       "      <td>8590</td>\n",
       "    </tr>\n",
       "  </tbody>\n",
       "</table>\n",
       "<p>5 rows × 39 columns</p>\n",
       "</div>"
      ],
      "text/plain": [
       "                       addr_state  annual_inc  collection_recovery_fee  \\\n",
       "revol_util_categories                                                    \n",
       "Extremely Good               2733        2733                     2733   \n",
       "Extremely Risky             10891       10891                    10891   \n",
       "Good                         8986        8986                     8986   \n",
       "Moderate                     8464        8464                     8464   \n",
       "Risky                        8590        8590                     8590   \n",
       "\n",
       "                       delinq_2yrs    dti  earliest_cr_line  emp_length  \\\n",
       "revol_util_categories                                                     \n",
       "Extremely Good                2733   2733              2733        2733   \n",
       "Extremely Risky              10891  10891             10891       10891   \n",
       "Good                          8986   8986              8986        8986   \n",
       "Moderate                      8464   8464              8464        8464   \n",
       "Risky                         8590   8590              8590        8590   \n",
       "\n",
       "                       funded_amnt  funded_amnt_inv  grade  ...  revol_util  \\\n",
       "revol_util_categories                                       ...               \n",
       "Extremely Good                2733             2733   2733  ...        2733   \n",
       "Extremely Risky              10891            10891  10891  ...       10891   \n",
       "Good                          8986             8986   8986  ...        8986   \n",
       "Moderate                      8464             8464   8464  ...        8464   \n",
       "Risky                         8590             8590   8590  ...        8590   \n",
       "\n",
       "                       sub_grade   term  total_acc  total_pymnt  \\\n",
       "revol_util_categories                                             \n",
       "Extremely Good              2733   2733       2733         2733   \n",
       "Extremely Risky            10891  10891      10891        10891   \n",
       "Good                        8986   8986       8986         8986   \n",
       "Moderate                    8464   8464       8464         8464   \n",
       "Risky                       8590   8590       8590         8590   \n",
       "\n",
       "                       total_pymnt_inv  total_rec_int  total_rec_late_fee  \\\n",
       "revol_util_categories                                                       \n",
       "Extremely Good                    2733           2733                2733   \n",
       "Extremely Risky                  10891          10891               10891   \n",
       "Good                              8986           8986                8986   \n",
       "Moderate                          8464           8464                8464   \n",
       "Risky                             8590           8590                8590   \n",
       "\n",
       "                       total_rec_prncp  verification_status  \n",
       "revol_util_categories                                        \n",
       "Extremely Good                    2733                 2733  \n",
       "Extremely Risky                  10891                10891  \n",
       "Good                              8986                 8986  \n",
       "Moderate                          8464                 8464  \n",
       "Risky                             8590                 8590  \n",
       "\n",
       "[5 rows x 39 columns]"
      ]
     },
     "execution_count": 25,
     "metadata": {},
     "output_type": "execute_result"
    }
   ],
   "source": [
    "df.groupby('revol_util_categories').count()"
   ]
  },
  {
   "cell_type": "markdown",
   "id": "5a4a1594",
   "metadata": {},
   "source": [
    "### Remove outliers from `Loan Amount` column"
   ]
  },
  {
   "cell_type": "code",
   "execution_count": 26,
   "id": "be01ecd1",
   "metadata": {},
   "outputs": [
    {
     "data": {
      "image/png": "[encoded data removed]",
      "text/plain": [
       "<Figure size 720x504 with 1 Axes>"
      ]
     },
     "metadata": {
      "needs_background": "light"
     },
     "output_type": "display_data"
    },
    {
     "name": "stdout",
     "output_type": "stream",
     "text": [
      "Number of outliers  (828, 40)\n"
     ]
    }
   ],
   "source": [
    "loan_amount_data = [df[df['loan_amnt'] < 30000].loan_amnt, df['loan_amnt']]\n",
    "loan_amount_fig = plt.figure(figsize =(10, 7))\n",
    "ax = loan_amount_fig.add_axes([0,0,1,1])\n",
    "ax.boxplot(loan_amount_data)\n",
    "plt.show()\n",
    "print(\"Number of outliers \",df[df['loan_amnt'] > 30000].shape)"
   ]
  },
  {
   "cell_type": "markdown",
   "id": "931195c5",
   "metadata": {},
   "source": [
    "It is evident that the loan amount is ranged between <b>5000 and 15000</b> i.e the 1st quartile and the 3rd quartile respectively with an inter quartile range of <b>10000</b> and the maximum amount is closer to <b>30000</b> and the minimum loan amount is closer to <b>1000</b>. The box plot confirms that outliers are present for loan amount above <b>30000</b> that are <b>828 rows/loan accounts</b>."
   ]
  },
  {
   "cell_type": "code",
   "execution_count": 27,
   "id": "ac86691f",
   "metadata": {
    "scrolled": true
   },
   "outputs": [
    {
     "name": "stdout",
     "output_type": "stream",
     "text": [
      "(39664, 40)\n",
      "(38459, 40)\n"
     ]
    }
   ],
   "source": [
    "print(df.shape)\n",
    "df = df.drop(df[df['loan_amnt'] >= 30000].index)\n",
    "print(df.shape)"
   ]
  },
  {
   "cell_type": "markdown",
   "id": "7e47bc7c",
   "metadata": {},
   "source": [
    "### Remove outliers from `Annual Income` column"
   ]
  },
  {
   "cell_type": "code",
   "execution_count": 28,
   "id": "340678bb",
   "metadata": {},
   "outputs": [
    {
     "data": {
      "image/png": "[encoded data removed]",
      "text/plain": [
       "<Figure size 720x504 with 1 Axes>"
      ]
     },
     "metadata": {
      "needs_background": "light"
     },
     "output_type": "display_data"
    }
   ],
   "source": [
    "annual_income_data = [df[df['annual_inc'] < 127500].annual_inc, df['annual_inc']]\n",
    "annual_income_fig = plt.figure(figsize =(10, 7))\n",
    "ax = annual_income_fig.add_axes([0,0,1,1])\n",
    "ax.boxplot(annual_income_data)\n",
    "plt.show()"
   ]
  },
  {
   "cell_type": "code",
   "execution_count": 29,
   "id": "cecfba00",
   "metadata": {},
   "outputs": [
    {
     "name": "stdout",
     "output_type": "stream",
     "text": [
      "(36039, 40)\n"
     ]
    }
   ],
   "source": [
    "df = df.drop(df[df['annual_inc'] >= 127500].index)\n",
    "print(df.shape)"
   ]
  },
  {
   "cell_type": "code",
   "execution_count": 30,
   "id": "5cfa4e10",
   "metadata": {},
   "outputs": [
    {
     "data": {
      "image/png": "[encoded data removed]",
      "text/plain": [
       "<Figure size 720x504 with 1 Axes>"
      ]
     },
     "metadata": {
      "needs_background": "light"
     },
     "output_type": "display_data"
    }
   ],
   "source": [
    "annual_income_data = df['annual_inc']\n",
    "annual_income_fig = plt.figure(figsize =(10, 7))\n",
    "ax = annual_income_fig.add_axes([0,0,1,1])\n",
    "ax.boxplot(annual_income_data)\n",
    "plt.show()"
   ]
  },
  {
   "cell_type": "code",
   "execution_count": 31,
   "id": "556e0b41",
   "metadata": {},
   "outputs": [],
   "source": [
    "df['int_rate'] = pd.to_numeric(df['int_rate'].str.rstrip(\"%\"))"
   ]
  },
  {
   "cell_type": "code",
   "execution_count": 32,
   "id": "6b881628",
   "metadata": {},
   "outputs": [
    {
     "data": {
      "image/png": "[encoded data removed]",
      "text/plain": [
       "<Figure size 720x504 with 1 Axes>"
      ]
     },
     "metadata": {
      "needs_background": "light"
     },
     "output_type": "display_data"
    }
   ],
   "source": [
    "annual_income_data = [df[df['int_rate'] < 22 ].int_rate, df['int_rate']]\n",
    "annual_income_fig = plt.figure(figsize =(10, 7))\n",
    "ax = annual_income_fig.add_axes([0,0,1,1])\n",
    "ax.boxplot(annual_income_data)\n",
    "plt.show()"
   ]
  },
  {
   "cell_type": "code",
   "execution_count": 33,
   "id": "32adfc06",
   "metadata": {
    "scrolled": true
   },
   "outputs": [
    {
     "name": "stdout",
     "output_type": "stream",
     "text": [
      "(35931, 40)\n"
     ]
    }
   ],
   "source": [
    "df = df.drop(df[df['int_rate'] > 22 ].index)\n",
    "print(df.shape)"
   ]
  },
  {
   "cell_type": "code",
   "execution_count": 34,
   "id": "c42b0535",
   "metadata": {},
   "outputs": [],
   "source": [
    "int_rate_bins = [0, 5, 10, 12.5, 15, 22]\n",
    "int_rate_labels = ['0-5', '5-10', '10-12.5', '12.5-15', '15+']\n",
    "df['int_rate'] = pd.to_numeric(df['int_rate'], errors='coerce')\n",
    "# Creating a new column 'int_rate_catgs' based on the categorized interest rates\n",
    "df['int_rate_catgs'] = pd.cut(df['int_rate'], bins=int_rate_bins, labels=int_rate_labels)"
   ]
  },
  {
   "cell_type": "code",
   "execution_count": 35,
   "id": "4f1ed25f",
   "metadata": {},
   "outputs": [
    {
     "data": {
      "text/plain": [
       "0    10-12.5\n",
       "1        15+\n",
       "2        15+\n",
       "3    12.5-15\n",
       "4    12.5-15\n",
       "Name: int_rate_catgs, dtype: category\n",
       "Categories (5, object): ['0-5' < '5-10' < '10-12.5' < '12.5-15' < '15+']"
      ]
     },
     "execution_count": 35,
     "metadata": {},
     "output_type": "execute_result"
    }
   ],
   "source": [
    "df['int_rate_catgs'].head()"
   ]
  },
  {
   "cell_type": "markdown",
   "id": "d77842a1",
   "metadata": {},
   "source": [
    "## Univariate Analysis"
   ]
  },
  {
   "cell_type": "markdown",
   "id": "7d275a85",
   "metadata": {},
   "source": [
    "#### Distribution of Revolving Credit Utilisation that is segmented into 5-categories.\n",
    "-  <b>Extremely Good:</b> Revolving credit utilisation <b>less than 5%</b> of the available credit line.\n",
    "-  <b>Good:</b> Revolving credit utilisation <b>between 5% and 30%</b> of the available credit line.\n",
    "-  <b>Moderate:</b> Revolving credit utilisation <b>between 30% and 50%</b> of the available credit line.\n",
    "-  <b>Risky:</b> Revolving credit utilisation <b>between 50% and 70%</b> of the available credit line.\n",
    "-  <b>Extremely Risky:</b> Revolving credit utilisation <b>more than 7%</b> of the available credit line."
   ]
  },
  {
   "cell_type": "code",
   "execution_count": 36,
   "id": "7132a7ac",
   "metadata": {
    "scrolled": false
   },
   "outputs": [
    {
     "data": {
      "text/plain": [
       "<AxesSubplot:>"
      ]
     },
     "execution_count": 36,
     "metadata": {},
     "output_type": "execute_result"
    },
    {
     "data": {
      "image/png": "[encoded data removed]",
      "text/plain": [
       "<Figure size 432x288 with 1 Axes>"
      ]
     },
     "metadata": {
      "needs_background": "light"
     },
     "output_type": "display_data"
    }
   ],
   "source": [
    "df['revol_util_categories'].hist(grid=False)"
   ]
  },
  {
   "cell_type": "markdown",
   "id": "cd67cf2f",
   "metadata": {},
   "source": [
    "#### Analysis outcomes based on the distribution of `revol_util_categories` column\n",
    "-  Based on the univariate analysis if `revol_util` variable, it can be see that the data set has a large distribution of borrower account having <b>`Extremely Risky`</b> credit utilisation and very few with <b>`Extremely Good`</b> credit utilisation.\n",
    "-  It can be analysed that <b>Lending Club</b> provides most amount of loans to borrower having <b>70%+</b> revolving credit utilisation.\n",
    "-  It can also be seen from the distribution of the data set that the second most borrowers of <b>Lending Club</b> have a <b>Good</b> credit utilisation (<b> i.e. revolving credit utlisation between 5% and 30% </b>)"
   ]
  },
  {
   "cell_type": "code",
   "execution_count": 37,
   "id": "b3f3b71e",
   "metadata": {},
   "outputs": [
    {
     "data": {
      "text/plain": [
       "<AxesSubplot:>"
      ]
     },
     "execution_count": 37,
     "metadata": {},
     "output_type": "execute_result"
    },
    {
     "data": {
      "image/png": "[encoded data removed]",
      "text/plain": [
       "<Figure size 432x288 with 1 Axes>"
      ]
     },
     "metadata": {
      "needs_background": "light"
     },
     "output_type": "display_data"
    }
   ],
   "source": [
    "df['loan_status'].hist(grid=False)"
   ]
  },
  {
   "cell_type": "markdown",
   "id": "fc7cfd3f",
   "metadata": {},
   "source": [
    "#### Analysis outcomes based on the distribution of `loan_status` column\n",
    "-  As per the distribution it can be summaried that the data set contains higher accounts having <b>Fully Paid</b> status.\n",
    "-  As per the distribution of the data set there is a <b>significant</b> rise is accounts that are <b>Charged Off</b> than accounts having the <b>Current</b> status. Which could mean that the current account has a higher chance of being <b>Fully Paid</b>."
   ]
  },
  {
   "cell_type": "markdown",
   "id": "7f1d76ee",
   "metadata": {},
   "source": [
    "<h2>Bivariate Analysis</h2>"
   ]
  },
  {
   "cell_type": "code",
   "execution_count": 38,
   "id": "3730dc2f",
   "metadata": {},
   "outputs": [
    {
     "data": {
      "text/html": [
       "<div>\n",
       "<style scoped>\n",
       "    .dataframe tbody tr th:only-of-type {\n",
       "        vertical-align: middle;\n",
       "    }\n",
       "\n",
       "    .dataframe tbody tr th {\n",
       "        vertical-align: top;\n",
       "    }\n",
       "\n",
       "    .dataframe thead th {\n",
       "        text-align: right;\n",
       "    }\n",
       "</style>\n",
       "<table border=\"1\" class=\"dataframe\">\n",
       "  <thead>\n",
       "    <tr style=\"text-align: right;\">\n",
       "      <th>loan_status</th>\n",
       "      <th>purpose</th>\n",
       "      <th>Charged Off</th>\n",
       "      <th>Current</th>\n",
       "      <th>Fully Paid</th>\n",
       "      <th>Total</th>\n",
       "      <th>Chargedoff_Proportion</th>\n",
       "    </tr>\n",
       "  </thead>\n",
       "  <tbody>\n",
       "    <tr>\n",
       "      <th>11</th>\n",
       "      <td>small_business</td>\n",
       "      <td>406.0</td>\n",
       "      <td>59.0</td>\n",
       "      <td>1092.0</td>\n",
       "      <td>1557.0</td>\n",
       "      <td>0.260758</td>\n",
       "    </tr>\n",
       "    <tr>\n",
       "      <th>10</th>\n",
       "      <td>renewable_energy</td>\n",
       "      <td>17.0</td>\n",
       "      <td>1.0</td>\n",
       "      <td>74.0</td>\n",
       "      <td>92.0</td>\n",
       "      <td>0.184783</td>\n",
       "    </tr>\n",
       "    <tr>\n",
       "      <th>3</th>\n",
       "      <td>educational</td>\n",
       "      <td>54.0</td>\n",
       "      <td>0.0</td>\n",
       "      <td>254.0</td>\n",
       "      <td>308.0</td>\n",
       "      <td>0.175325</td>\n",
       "    </tr>\n",
       "    <tr>\n",
       "      <th>8</th>\n",
       "      <td>moving</td>\n",
       "      <td>88.0</td>\n",
       "      <td>7.0</td>\n",
       "      <td>437.0</td>\n",
       "      <td>532.0</td>\n",
       "      <td>0.165414</td>\n",
       "    </tr>\n",
       "    <tr>\n",
       "      <th>9</th>\n",
       "      <td>other</td>\n",
       "      <td>580.0</td>\n",
       "      <td>110.0</td>\n",
       "      <td>3014.0</td>\n",
       "      <td>3704.0</td>\n",
       "      <td>0.156587</td>\n",
       "    </tr>\n",
       "    <tr>\n",
       "      <th>7</th>\n",
       "      <td>medical</td>\n",
       "      <td>98.0</td>\n",
       "      <td>6.0</td>\n",
       "      <td>523.0</td>\n",
       "      <td>627.0</td>\n",
       "      <td>0.156300</td>\n",
       "    </tr>\n",
       "    <tr>\n",
       "      <th>5</th>\n",
       "      <td>house</td>\n",
       "      <td>49.0</td>\n",
       "      <td>9.0</td>\n",
       "      <td>272.0</td>\n",
       "      <td>330.0</td>\n",
       "      <td>0.148485</td>\n",
       "    </tr>\n",
       "    <tr>\n",
       "      <th>2</th>\n",
       "      <td>debt_consolidation</td>\n",
       "      <td>2485.0</td>\n",
       "      <td>471.0</td>\n",
       "      <td>13981.0</td>\n",
       "      <td>16937.0</td>\n",
       "      <td>0.146720</td>\n",
       "    </tr>\n",
       "    <tr>\n",
       "      <th>12</th>\n",
       "      <td>vacation</td>\n",
       "      <td>51.0</td>\n",
       "      <td>5.0</td>\n",
       "      <td>306.0</td>\n",
       "      <td>362.0</td>\n",
       "      <td>0.140884</td>\n",
       "    </tr>\n",
       "    <tr>\n",
       "      <th>4</th>\n",
       "      <td>home_improvement</td>\n",
       "      <td>299.0</td>\n",
       "      <td>71.0</td>\n",
       "      <td>2084.0</td>\n",
       "      <td>2454.0</td>\n",
       "      <td>0.121842</td>\n",
       "    </tr>\n",
       "    <tr>\n",
       "      <th>1</th>\n",
       "      <td>credit_card</td>\n",
       "      <td>493.0</td>\n",
       "      <td>80.0</td>\n",
       "      <td>4081.0</td>\n",
       "      <td>4654.0</td>\n",
       "      <td>0.105930</td>\n",
       "    </tr>\n",
       "    <tr>\n",
       "      <th>0</th>\n",
       "      <td>car</td>\n",
       "      <td>156.0</td>\n",
       "      <td>49.0</td>\n",
       "      <td>1268.0</td>\n",
       "      <td>1473.0</td>\n",
       "      <td>0.105906</td>\n",
       "    </tr>\n",
       "    <tr>\n",
       "      <th>6</th>\n",
       "      <td>major_purchase</td>\n",
       "      <td>211.0</td>\n",
       "      <td>32.0</td>\n",
       "      <td>1777.0</td>\n",
       "      <td>2020.0</td>\n",
       "      <td>0.104455</td>\n",
       "    </tr>\n",
       "    <tr>\n",
       "      <th>13</th>\n",
       "      <td>wedding</td>\n",
       "      <td>88.0</td>\n",
       "      <td>19.0</td>\n",
       "      <td>774.0</td>\n",
       "      <td>881.0</td>\n",
       "      <td>0.099886</td>\n",
       "    </tr>\n",
       "  </tbody>\n",
       "</table>\n",
       "</div>"
      ],
      "text/plain": [
       "loan_status             purpose  Charged Off  Current  Fully Paid    Total  \\\n",
       "11               small_business        406.0     59.0      1092.0   1557.0   \n",
       "10             renewable_energy         17.0      1.0        74.0     92.0   \n",
       "3                   educational         54.0      0.0       254.0    308.0   \n",
       "8                        moving         88.0      7.0       437.0    532.0   \n",
       "9                         other        580.0    110.0      3014.0   3704.0   \n",
       "7                       medical         98.0      6.0       523.0    627.0   \n",
       "5                         house         49.0      9.0       272.0    330.0   \n",
       "2            debt_consolidation       2485.0    471.0     13981.0  16937.0   \n",
       "12                     vacation         51.0      5.0       306.0    362.0   \n",
       "4              home_improvement        299.0     71.0      2084.0   2454.0   \n",
       "1                   credit_card        493.0     80.0      4081.0   4654.0   \n",
       "0                           car        156.0     49.0      1268.0   1473.0   \n",
       "6                major_purchase        211.0     32.0      1777.0   2020.0   \n",
       "13                      wedding         88.0     19.0       774.0    881.0   \n",
       "\n",
       "loan_status  Chargedoff_Proportion  \n",
       "11                        0.260758  \n",
       "10                        0.184783  \n",
       "3                         0.175325  \n",
       "8                         0.165414  \n",
       "9                         0.156587  \n",
       "7                         0.156300  \n",
       "5                         0.148485  \n",
       "2                         0.146720  \n",
       "12                        0.140884  \n",
       "4                         0.121842  \n",
       "1                         0.105930  \n",
       "0                         0.105906  \n",
       "6                         0.104455  \n",
       "13                        0.099886  "
      ]
     },
     "execution_count": 38,
     "metadata": {},
     "output_type": "execute_result"
    }
   ],
   "source": [
    "# Purpose of Loan against Chargedoff_Proportion.\n",
    "\n",
    "# Grouping the data by 'purpose' and 'loan_status' to analyze the loan status distribution\n",
    "purpose_vs_loan = df.groupby(['purpose', 'loan_status']).loan_status.count().unstack().fillna(0).reset_index()\n",
    "purpose_vs_loan['Total'] = purpose_vs_loan['Charged Off'] + purpose_vs_loan['Current'] + purpose_vs_loan['Fully Paid']\n",
    "purpose_vs_loan['Chargedoff_Proportion'] = purpose_vs_loan['Charged Off'] / purpose_vs_loan['Total']\n",
    "purpose_vs_loan.sort_values('Chargedoff_Proportion', ascending=False)\n"
   ]
  },
  {
   "cell_type": "code",
   "execution_count": 39,
   "id": "b8878c28",
   "metadata": {},
   "outputs": [
    {
     "data": {
      "image/png": "[encoded data removed]",
      "text/plain": [
       "<Figure size 720x432 with 1 Axes>"
      ]
     },
     "metadata": {
      "needs_background": "light"
     },
     "output_type": "display_data"
    }
   ],
   "source": [
    "# Plotting the graph\n",
    "# Sorting the dataframe by the proportion of charged off cases in descending order\n",
    "purpose_vs_loan_sorted = purpose_vs_loan.sort_values('Chargedoff_Proportion', ascending=False)\n",
    "\n",
    "plt.figure(figsize=(10, 6))\n",
    "plt.bar(purpose_vs_loan_sorted['purpose'], purpose_vs_loan_sorted['Chargedoff_Proportion'])\n",
    "plt.xlabel('Purpose')\n",
    "plt.ylabel('Charged off Proportion')\n",
    "plt.title('Charged off Proportion by Purpose')\n",
    "plt.xticks(rotation=45)\n",
    "plt.show()"
   ]
  },
  {
   "cell_type": "markdown",
   "id": "f45ff32a",
   "metadata": {},
   "source": [
    "<font color=\"Blue\"><h4>Upon careful examination, it was observed that small business applicants face a significant risk of being charged off.</h4></font>\n",
    "<font color=\"Blue\"><h4>When analyzing the data, it becomes evident that the proportion of charged off cases is comparatively higher in the renewable energy category than in other categories.</h4>\n",
    "</font>"
   ]
  },
  {
   "cell_type": "code",
   "execution_count": 40,
   "id": "cc9a647c",
   "metadata": {},
   "outputs": [
    {
     "data": {
      "text/html": [
       "<div>\n",
       "<style scoped>\n",
       "    .dataframe tbody tr th:only-of-type {\n",
       "        vertical-align: middle;\n",
       "    }\n",
       "\n",
       "    .dataframe tbody tr th {\n",
       "        vertical-align: top;\n",
       "    }\n",
       "\n",
       "    .dataframe thead th {\n",
       "        text-align: right;\n",
       "    }\n",
       "</style>\n",
       "<table border=\"1\" class=\"dataframe\">\n",
       "  <thead>\n",
       "    <tr style=\"text-align: right;\">\n",
       "      <th>loan_status</th>\n",
       "      <th>grade</th>\n",
       "      <th>Charged Off</th>\n",
       "      <th>Current</th>\n",
       "      <th>Fully Paid</th>\n",
       "      <th>Total</th>\n",
       "      <th>Chargedoff_Proportion</th>\n",
       "    </tr>\n",
       "  </thead>\n",
       "  <tbody>\n",
       "    <tr>\n",
       "      <th>6</th>\n",
       "      <td>G</td>\n",
       "      <td>50.0</td>\n",
       "      <td>0.0</td>\n",
       "      <td>105.0</td>\n",
       "      <td>155.0</td>\n",
       "      <td>0.322581</td>\n",
       "    </tr>\n",
       "    <tr>\n",
       "      <th>5</th>\n",
       "      <td>F</td>\n",
       "      <td>229.0</td>\n",
       "      <td>38.0</td>\n",
       "      <td>506.0</td>\n",
       "      <td>773.0</td>\n",
       "      <td>0.296248</td>\n",
       "    </tr>\n",
       "    <tr>\n",
       "      <th>4</th>\n",
       "      <td>E</td>\n",
       "      <td>586.0</td>\n",
       "      <td>140.0</td>\n",
       "      <td>1585.0</td>\n",
       "      <td>2311.0</td>\n",
       "      <td>0.253570</td>\n",
       "    </tr>\n",
       "    <tr>\n",
       "      <th>3</th>\n",
       "      <td>D</td>\n",
       "      <td>1023.0</td>\n",
       "      <td>193.0</td>\n",
       "      <td>3579.0</td>\n",
       "      <td>4795.0</td>\n",
       "      <td>0.213347</td>\n",
       "    </tr>\n",
       "    <tr>\n",
       "      <th>2</th>\n",
       "      <td>C</td>\n",
       "      <td>1265.0</td>\n",
       "      <td>227.0</td>\n",
       "      <td>5931.0</td>\n",
       "      <td>7423.0</td>\n",
       "      <td>0.170416</td>\n",
       "    </tr>\n",
       "    <tr>\n",
       "      <th>1</th>\n",
       "      <td>B</td>\n",
       "      <td>1338.0</td>\n",
       "      <td>282.0</td>\n",
       "      <td>9399.0</td>\n",
       "      <td>11019.0</td>\n",
       "      <td>0.121427</td>\n",
       "    </tr>\n",
       "    <tr>\n",
       "      <th>0</th>\n",
       "      <td>A</td>\n",
       "      <td>584.0</td>\n",
       "      <td>39.0</td>\n",
       "      <td>8832.0</td>\n",
       "      <td>9455.0</td>\n",
       "      <td>0.061766</td>\n",
       "    </tr>\n",
       "  </tbody>\n",
       "</table>\n",
       "</div>"
      ],
      "text/plain": [
       "loan_status grade  Charged Off  Current  Fully Paid    Total  \\\n",
       "6               G         50.0      0.0       105.0    155.0   \n",
       "5               F        229.0     38.0       506.0    773.0   \n",
       "4               E        586.0    140.0      1585.0   2311.0   \n",
       "3               D       1023.0    193.0      3579.0   4795.0   \n",
       "2               C       1265.0    227.0      5931.0   7423.0   \n",
       "1               B       1338.0    282.0      9399.0  11019.0   \n",
       "0               A        584.0     39.0      8832.0   9455.0   \n",
       "\n",
       "loan_status  Chargedoff_Proportion  \n",
       "6                         0.322581  \n",
       "5                         0.296248  \n",
       "4                         0.253570  \n",
       "3                         0.213347  \n",
       "2                         0.170416  \n",
       "1                         0.121427  \n",
       "0                         0.061766  "
      ]
     },
     "execution_count": 40,
     "metadata": {},
     "output_type": "execute_result"
    }
   ],
   "source": [
    "#Conducting a bivariate analysis on the variable 'grade' in relation to the proportion of charged off cases.\n",
    "\n",
    "grade_vs_loan = df.groupby(['grade', 'loan_status']).loan_status.count().unstack().fillna(0).reset_index()\n",
    "grade_vs_loan['Total'] = grade_vs_loan['Charged Off'] + grade_vs_loan['Current'] + grade_vs_loan['Fully Paid']\n",
    "grade_vs_loan['Chargedoff_Proportion'] = grade_vs_loan['Charged Off'] / grade_vs_loan['Total']\n",
    "grade_vs_loan_sorted = grade_vs_loan.sort_values('Chargedoff_Proportion', ascending=False)\n",
    "grade_vs_loan_sorted"
   ]
  },
  {
   "cell_type": "code",
   "execution_count": 41,
   "id": "1c5d6739",
   "metadata": {},
   "outputs": [
    {
     "data": {
      "image/png": "[encoded data removed]",
      "text/plain": [
       "<Figure size 720x432 with 1 Axes>"
      ]
     },
     "metadata": {
      "needs_background": "light"
     },
     "output_type": "display_data"
    }
   ],
   "source": [
    "# Plotting the graph\n",
    "plt.figure(figsize=(10, 6))\n",
    "plt.bar(grade_vs_loan_sorted['grade'], grade_vs_loan_sorted['Chargedoff_Proportion'])\n",
    "plt.xlabel('Grade')\n",
    "plt.ylabel('Charged off Proportion')\n",
    "plt.title('Charged off Proportion by Grade')\n",
    "plt.show()"
   ]
  },
  {
   "cell_type": "markdown",
   "id": "49798410",
   "metadata": {},
   "source": [
    "<h3>The analysis reveals the following observations: </h3><br>\n",
    "<li>Grade 'A' shows a significantly low likelihood of being charged off.\n",
    "<li>Grades 'F' and 'G' exhibit a considerably high likelihood of being charged off.\n",
    "<li>The likelihood of charged off cases increases progressively from grade 'A' to grade 'G'."
   ]
  },
  {
   "cell_type": "code",
   "execution_count": 42,
   "id": "30944d3c",
   "metadata": {},
   "outputs": [],
   "source": [
    "#Conducting a bivariate analysis on the variable 'sub_grade' in relation to the proportion of charged off cases.\n",
    "\n",
    "subgrade_vs_loan = df.groupby(['sub_grade', 'loan_status']).loan_status.count().unstack().fillna(0).reset_index()\n",
    "subgrade_vs_loan['Total'] = subgrade_vs_loan['Charged Off'] + subgrade_vs_loan['Current'] + subgrade_vs_loan['Fully Paid']\n",
    "subgrade_vs_loan['Chargedoff_Proportion'] = subgrade_vs_loan['Charged Off'] / subgrade_vs_loan['Total']\n",
    "subgrade_vs_loan_sorted = subgrade_vs_loan.sort_values('Chargedoff_Proportion', ascending=False)"
   ]
  },
  {
   "cell_type": "code",
   "execution_count": 43,
   "id": "03b0cf9a",
   "metadata": {},
   "outputs": [
    {
     "data": {
      "text/html": [
       "<div>\n",
       "<style scoped>\n",
       "    .dataframe tbody tr th:only-of-type {\n",
       "        vertical-align: middle;\n",
       "    }\n",
       "\n",
       "    .dataframe tbody tr th {\n",
       "        vertical-align: top;\n",
       "    }\n",
       "\n",
       "    .dataframe thead th {\n",
       "        text-align: right;\n",
       "    }\n",
       "</style>\n",
       "<table border=\"1\" class=\"dataframe\">\n",
       "  <thead>\n",
       "    <tr style=\"text-align: right;\">\n",
       "      <th>loan_status</th>\n",
       "      <th>sub_grade</th>\n",
       "      <th>Charged Off</th>\n",
       "      <th>Current</th>\n",
       "      <th>Fully Paid</th>\n",
       "      <th>Total</th>\n",
       "      <th>Chargedoff_Proportion</th>\n",
       "    </tr>\n",
       "  </thead>\n",
       "  <tbody>\n",
       "    <tr>\n",
       "      <th>29</th>\n",
       "      <td>F5</td>\n",
       "      <td>34.0</td>\n",
       "      <td>1.0</td>\n",
       "      <td>37.0</td>\n",
       "      <td>72.0</td>\n",
       "      <td>0.472222</td>\n",
       "    </tr>\n",
       "    <tr>\n",
       "      <th>32</th>\n",
       "      <td>G3</td>\n",
       "      <td>11.0</td>\n",
       "      <td>0.0</td>\n",
       "      <td>13.0</td>\n",
       "      <td>24.0</td>\n",
       "      <td>0.458333</td>\n",
       "    </tr>\n",
       "    <tr>\n",
       "      <th>34</th>\n",
       "      <td>G5</td>\n",
       "      <td>7.0</td>\n",
       "      <td>0.0</td>\n",
       "      <td>10.0</td>\n",
       "      <td>17.0</td>\n",
       "      <td>0.411765</td>\n",
       "    </tr>\n",
       "    <tr>\n",
       "      <th>31</th>\n",
       "      <td>G2</td>\n",
       "      <td>14.0</td>\n",
       "      <td>0.0</td>\n",
       "      <td>27.0</td>\n",
       "      <td>41.0</td>\n",
       "      <td>0.341463</td>\n",
       "    </tr>\n",
       "    <tr>\n",
       "      <th>23</th>\n",
       "      <td>E4</td>\n",
       "      <td>107.0</td>\n",
       "      <td>20.0</td>\n",
       "      <td>245.0</td>\n",
       "      <td>372.0</td>\n",
       "      <td>0.287634</td>\n",
       "    </tr>\n",
       "    <tr>\n",
       "      <th>26</th>\n",
       "      <td>F2</td>\n",
       "      <td>56.0</td>\n",
       "      <td>9.0</td>\n",
       "      <td>130.0</td>\n",
       "      <td>195.0</td>\n",
       "      <td>0.287179</td>\n",
       "    </tr>\n",
       "    <tr>\n",
       "      <th>27</th>\n",
       "      <td>F3</td>\n",
       "      <td>42.0</td>\n",
       "      <td>8.0</td>\n",
       "      <td>98.0</td>\n",
       "      <td>148.0</td>\n",
       "      <td>0.283784</td>\n",
       "    </tr>\n",
       "    <tr>\n",
       "      <th>28</th>\n",
       "      <td>F4</td>\n",
       "      <td>31.0</td>\n",
       "      <td>6.0</td>\n",
       "      <td>73.0</td>\n",
       "      <td>110.0</td>\n",
       "      <td>0.281818</td>\n",
       "    </tr>\n",
       "    <tr>\n",
       "      <th>24</th>\n",
       "      <td>E5</td>\n",
       "      <td>83.0</td>\n",
       "      <td>20.0</td>\n",
       "      <td>198.0</td>\n",
       "      <td>301.0</td>\n",
       "      <td>0.275748</td>\n",
       "    </tr>\n",
       "    <tr>\n",
       "      <th>33</th>\n",
       "      <td>G4</td>\n",
       "      <td>7.0</td>\n",
       "      <td>0.0</td>\n",
       "      <td>19.0</td>\n",
       "      <td>26.0</td>\n",
       "      <td>0.269231</td>\n",
       "    </tr>\n",
       "    <tr>\n",
       "      <th>25</th>\n",
       "      <td>F1</td>\n",
       "      <td>66.0</td>\n",
       "      <td>14.0</td>\n",
       "      <td>168.0</td>\n",
       "      <td>248.0</td>\n",
       "      <td>0.266129</td>\n",
       "    </tr>\n",
       "    <tr>\n",
       "      <th>20</th>\n",
       "      <td>E1</td>\n",
       "      <td>163.0</td>\n",
       "      <td>34.0</td>\n",
       "      <td>441.0</td>\n",
       "      <td>638.0</td>\n",
       "      <td>0.255486</td>\n",
       "    </tr>\n",
       "    <tr>\n",
       "      <th>19</th>\n",
       "      <td>D5</td>\n",
       "      <td>188.0</td>\n",
       "      <td>31.0</td>\n",
       "      <td>546.0</td>\n",
       "      <td>765.0</td>\n",
       "      <td>0.245752</td>\n",
       "    </tr>\n",
       "    <tr>\n",
       "      <th>21</th>\n",
       "      <td>E2</td>\n",
       "      <td>132.0</td>\n",
       "      <td>35.0</td>\n",
       "      <td>379.0</td>\n",
       "      <td>546.0</td>\n",
       "      <td>0.241758</td>\n",
       "    </tr>\n",
       "    <tr>\n",
       "      <th>30</th>\n",
       "      <td>G1</td>\n",
       "      <td>11.0</td>\n",
       "      <td>0.0</td>\n",
       "      <td>36.0</td>\n",
       "      <td>47.0</td>\n",
       "      <td>0.234043</td>\n",
       "    </tr>\n",
       "    <tr>\n",
       "      <th>18</th>\n",
       "      <td>D4</td>\n",
       "      <td>198.0</td>\n",
       "      <td>57.0</td>\n",
       "      <td>626.0</td>\n",
       "      <td>881.0</td>\n",
       "      <td>0.224745</td>\n",
       "    </tr>\n",
       "    <tr>\n",
       "      <th>22</th>\n",
       "      <td>E3</td>\n",
       "      <td>101.0</td>\n",
       "      <td>31.0</td>\n",
       "      <td>322.0</td>\n",
       "      <td>454.0</td>\n",
       "      <td>0.222467</td>\n",
       "    </tr>\n",
       "    <tr>\n",
       "      <th>17</th>\n",
       "      <td>D3</td>\n",
       "      <td>229.0</td>\n",
       "      <td>49.0</td>\n",
       "      <td>786.0</td>\n",
       "      <td>1064.0</td>\n",
       "      <td>0.215226</td>\n",
       "    </tr>\n",
       "    <tr>\n",
       "      <th>16</th>\n",
       "      <td>D2</td>\n",
       "      <td>255.0</td>\n",
       "      <td>56.0</td>\n",
       "      <td>919.0</td>\n",
       "      <td>1230.0</td>\n",
       "      <td>0.207317</td>\n",
       "    </tr>\n",
       "    <tr>\n",
       "      <th>14</th>\n",
       "      <td>C5</td>\n",
       "      <td>197.0</td>\n",
       "      <td>30.0</td>\n",
       "      <td>846.0</td>\n",
       "      <td>1073.0</td>\n",
       "      <td>0.183597</td>\n",
       "    </tr>\n",
       "    <tr>\n",
       "      <th>12</th>\n",
       "      <td>C3</td>\n",
       "      <td>258.0</td>\n",
       "      <td>37.0</td>\n",
       "      <td>1116.0</td>\n",
       "      <td>1411.0</td>\n",
       "      <td>0.182849</td>\n",
       "    </tr>\n",
       "    <tr>\n",
       "      <th>15</th>\n",
       "      <td>D1</td>\n",
       "      <td>153.0</td>\n",
       "      <td>0.0</td>\n",
       "      <td>702.0</td>\n",
       "      <td>855.0</td>\n",
       "      <td>0.178947</td>\n",
       "    </tr>\n",
       "    <tr>\n",
       "      <th>13</th>\n",
       "      <td>C4</td>\n",
       "      <td>202.0</td>\n",
       "      <td>27.0</td>\n",
       "      <td>924.0</td>\n",
       "      <td>1153.0</td>\n",
       "      <td>0.175195</td>\n",
       "    </tr>\n",
       "    <tr>\n",
       "      <th>11</th>\n",
       "      <td>C2</td>\n",
       "      <td>301.0</td>\n",
       "      <td>64.0</td>\n",
       "      <td>1467.0</td>\n",
       "      <td>1832.0</td>\n",
       "      <td>0.164301</td>\n",
       "    </tr>\n",
       "    <tr>\n",
       "      <th>10</th>\n",
       "      <td>C1</td>\n",
       "      <td>307.0</td>\n",
       "      <td>69.0</td>\n",
       "      <td>1578.0</td>\n",
       "      <td>1954.0</td>\n",
       "      <td>0.157114</td>\n",
       "    </tr>\n",
       "    <tr>\n",
       "      <th>9</th>\n",
       "      <td>B5</td>\n",
       "      <td>339.0</td>\n",
       "      <td>76.0</td>\n",
       "      <td>2072.0</td>\n",
       "      <td>2487.0</td>\n",
       "      <td>0.136309</td>\n",
       "    </tr>\n",
       "    <tr>\n",
       "      <th>8</th>\n",
       "      <td>B4</td>\n",
       "      <td>310.0</td>\n",
       "      <td>55.0</td>\n",
       "      <td>1942.0</td>\n",
       "      <td>2307.0</td>\n",
       "      <td>0.134374</td>\n",
       "    </tr>\n",
       "    <tr>\n",
       "      <th>7</th>\n",
       "      <td>B3</td>\n",
       "      <td>312.0</td>\n",
       "      <td>71.0</td>\n",
       "      <td>2227.0</td>\n",
       "      <td>2610.0</td>\n",
       "      <td>0.119540</td>\n",
       "    </tr>\n",
       "    <tr>\n",
       "      <th>6</th>\n",
       "      <td>B2</td>\n",
       "      <td>212.0</td>\n",
       "      <td>52.0</td>\n",
       "      <td>1647.0</td>\n",
       "      <td>1911.0</td>\n",
       "      <td>0.110937</td>\n",
       "    </tr>\n",
       "    <tr>\n",
       "      <th>5</th>\n",
       "      <td>B1</td>\n",
       "      <td>165.0</td>\n",
       "      <td>28.0</td>\n",
       "      <td>1511.0</td>\n",
       "      <td>1704.0</td>\n",
       "      <td>0.096831</td>\n",
       "    </tr>\n",
       "    <tr>\n",
       "      <th>4</th>\n",
       "      <td>A5</td>\n",
       "      <td>211.0</td>\n",
       "      <td>26.0</td>\n",
       "      <td>2324.0</td>\n",
       "      <td>2561.0</td>\n",
       "      <td>0.082390</td>\n",
       "    </tr>\n",
       "    <tr>\n",
       "      <th>3</th>\n",
       "      <td>A4</td>\n",
       "      <td>171.0</td>\n",
       "      <td>13.0</td>\n",
       "      <td>2501.0</td>\n",
       "      <td>2685.0</td>\n",
       "      <td>0.063687</td>\n",
       "    </tr>\n",
       "    <tr>\n",
       "      <th>2</th>\n",
       "      <td>A3</td>\n",
       "      <td>99.0</td>\n",
       "      <td>0.0</td>\n",
       "      <td>1612.0</td>\n",
       "      <td>1711.0</td>\n",
       "      <td>0.057861</td>\n",
       "    </tr>\n",
       "    <tr>\n",
       "      <th>1</th>\n",
       "      <td>A2</td>\n",
       "      <td>73.0</td>\n",
       "      <td>0.0</td>\n",
       "      <td>1348.0</td>\n",
       "      <td>1421.0</td>\n",
       "      <td>0.051372</td>\n",
       "    </tr>\n",
       "    <tr>\n",
       "      <th>0</th>\n",
       "      <td>A1</td>\n",
       "      <td>30.0</td>\n",
       "      <td>0.0</td>\n",
       "      <td>1047.0</td>\n",
       "      <td>1077.0</td>\n",
       "      <td>0.027855</td>\n",
       "    </tr>\n",
       "  </tbody>\n",
       "</table>\n",
       "</div>"
      ],
      "text/plain": [
       "loan_status sub_grade  Charged Off  Current  Fully Paid   Total  \\\n",
       "29                 F5         34.0      1.0        37.0    72.0   \n",
       "32                 G3         11.0      0.0        13.0    24.0   \n",
       "34                 G5          7.0      0.0        10.0    17.0   \n",
       "31                 G2         14.0      0.0        27.0    41.0   \n",
       "23                 E4        107.0     20.0       245.0   372.0   \n",
       "26                 F2         56.0      9.0       130.0   195.0   \n",
       "27                 F3         42.0      8.0        98.0   148.0   \n",
       "28                 F4         31.0      6.0        73.0   110.0   \n",
       "24                 E5         83.0     20.0       198.0   301.0   \n",
       "33                 G4          7.0      0.0        19.0    26.0   \n",
       "25                 F1         66.0     14.0       168.0   248.0   \n",
       "20                 E1        163.0     34.0       441.0   638.0   \n",
       "19                 D5        188.0     31.0       546.0   765.0   \n",
       "21                 E2        132.0     35.0       379.0   546.0   \n",
       "30                 G1         11.0      0.0        36.0    47.0   \n",
       "18                 D4        198.0     57.0       626.0   881.0   \n",
       "22                 E3        101.0     31.0       322.0   454.0   \n",
       "17                 D3        229.0     49.0       786.0  1064.0   \n",
       "16                 D2        255.0     56.0       919.0  1230.0   \n",
       "14                 C5        197.0     30.0       846.0  1073.0   \n",
       "12                 C3        258.0     37.0      1116.0  1411.0   \n",
       "15                 D1        153.0      0.0       702.0   855.0   \n",
       "13                 C4        202.0     27.0       924.0  1153.0   \n",
       "11                 C2        301.0     64.0      1467.0  1832.0   \n",
       "10                 C1        307.0     69.0      1578.0  1954.0   \n",
       "9                  B5        339.0     76.0      2072.0  2487.0   \n",
       "8                  B4        310.0     55.0      1942.0  2307.0   \n",
       "7                  B3        312.0     71.0      2227.0  2610.0   \n",
       "6                  B2        212.0     52.0      1647.0  1911.0   \n",
       "5                  B1        165.0     28.0      1511.0  1704.0   \n",
       "4                  A5        211.0     26.0      2324.0  2561.0   \n",
       "3                  A4        171.0     13.0      2501.0  2685.0   \n",
       "2                  A3         99.0      0.0      1612.0  1711.0   \n",
       "1                  A2         73.0      0.0      1348.0  1421.0   \n",
       "0                  A1         30.0      0.0      1047.0  1077.0   \n",
       "\n",
       "loan_status  Chargedoff_Proportion  \n",
       "29                        0.472222  \n",
       "32                        0.458333  \n",
       "34                        0.411765  \n",
       "31                        0.341463  \n",
       "23                        0.287634  \n",
       "26                        0.287179  \n",
       "27                        0.283784  \n",
       "28                        0.281818  \n",
       "24                        0.275748  \n",
       "33                        0.269231  \n",
       "25                        0.266129  \n",
       "20                        0.255486  \n",
       "19                        0.245752  \n",
       "21                        0.241758  \n",
       "30                        0.234043  \n",
       "18                        0.224745  \n",
       "22                        0.222467  \n",
       "17                        0.215226  \n",
       "16                        0.207317  \n",
       "14                        0.183597  \n",
       "12                        0.182849  \n",
       "15                        0.178947  \n",
       "13                        0.175195  \n",
       "11                        0.164301  \n",
       "10                        0.157114  \n",
       "9                         0.136309  \n",
       "8                         0.134374  \n",
       "7                         0.119540  \n",
       "6                         0.110937  \n",
       "5                         0.096831  \n",
       "4                         0.082390  \n",
       "3                         0.063687  \n",
       "2                         0.057861  \n",
       "1                         0.051372  \n",
       "0                         0.027855  "
      ]
     },
     "execution_count": 43,
     "metadata": {},
     "output_type": "execute_result"
    }
   ],
   "source": [
    "subgrade_vs_loan_sorted"
   ]
  },
  {
   "cell_type": "code",
   "execution_count": 44,
   "id": "0eb87f85",
   "metadata": {},
   "outputs": [
    {
     "data": {
      "image/png": "[encoded data removed]",
      "text/plain": [
       "<Figure size 720x432 with 1 Axes>"
      ]
     },
     "metadata": {
      "needs_background": "light"
     },
     "output_type": "display_data"
    }
   ],
   "source": [
    "# Plotting the graph\n",
    "plt.figure(figsize=(10, 6))\n",
    "plt.bar(subgrade_vs_loan_sorted['sub_grade'], subgrade_vs_loan_sorted['Chargedoff_Proportion'])\n",
    "plt.xlabel('Sub Grade')\n",
    "plt.ylabel('Charged off Proportion')\n",
    "plt.title('Charged off Proportion by Sub Grade')\n",
    "plt.show()"
   ]
  },
  {
   "cell_type": "markdown",
   "id": "c0a988de",
   "metadata": {},
   "source": [
    "<h3>The analysis reveals the following observations: </h3><br>\n",
    "<li>\"A\" sub grades exhibit a significantly lower likelihood of being charged off.\n",
    "<li>\"F\" and \"G\" sub grades have a considerably higher likelihood of being charged off.\n",
    "<li>The proportion of charged off cases increases progressively as we move from \"A\" sub grades towards \"G\" sub grades."
   ]
  },
  {
   "cell_type": "code",
   "execution_count": 45,
   "id": "33a6029a",
   "metadata": {},
   "outputs": [
    {
     "data": {
      "image/png": "[encoded data removed]",
      "text/plain": [
       "<Figure size 720x432 with 1 Axes>"
      ]
     },
     "metadata": {
      "needs_background": "light"
     },
     "output_type": "display_data"
    }
   ],
   "source": [
    "# Conducting a bivariate analysis on the variable 'home_ownership' in relation to the proportion of charged off cases\n",
    "home_ownership_vs_loan = df.groupby(['home_ownership', 'loan_status']).loan_status.count().unstack().fillna(0).reset_index()\n",
    "home_ownership_vs_loan['Total'] = home_ownership_vs_loan['Charged Off'] + home_ownership_vs_loan['Current'] + home_ownership_vs_loan['Fully Paid']\n",
    "home_ownership_vs_loan['Chargedoff_Proportion'] = home_ownership_vs_loan['Charged Off'] / home_ownership_vs_loan['Total']\n",
    "home_ownership_vs_loan_sorted = home_ownership_vs_loan.sort_values('Chargedoff_Proportion', ascending=False)\n",
    "\n",
    "# Plotting the graph\n",
    "plt.figure(figsize=(10, 6))\n",
    "plt.bar(home_ownership_vs_loan_sorted['home_ownership'], home_ownership_vs_loan_sorted['Chargedoff_Proportion'])\n",
    "plt.xlabel('Home Ownership')\n",
    "plt.ylabel('Charged off Proportion')\n",
    "plt.title('Charged off Proportion by Home Ownership')\n",
    "plt.show()"
   ]
  },
  {
   "cell_type": "markdown",
   "id": "7719ff42",
   "metadata": {},
   "source": [
    "<h3>The analysis reveals the following observations: </h3><br>\n",
    "<li>People who's Home Ownership is \"OTHER\" has more likelihood of being charged off."
   ]
  },
  {
   "cell_type": "markdown",
   "id": "abb64890",
   "metadata": {},
   "source": [
    "#### Conducting Bi-Variate Analysis on the variable `revol_util` and `loan_status` in relation to the proportion of <i>`Charged Off`</i> accounts."
   ]
  },
  {
   "cell_type": "code",
   "execution_count": 46,
   "id": "8dd42b2b",
   "metadata": {},
   "outputs": [
    {
     "data": {
      "image/png": "[encoded data removed]",
      "text/plain": [
       "<Figure size 720x432 with 1 Axes>"
      ]
     },
     "metadata": {
      "needs_background": "light"
     },
     "output_type": "display_data"
    }
   ],
   "source": [
    "\n",
    "# Conducting a bivariate analysis on the variable 'revol_util_categories' in relation to the proportion of charged off cases\n",
    "revol_util_categories_vs_loan = df.groupby(['revol_util_categories', 'loan_status']).loan_status.count().unstack().fillna(0).reset_index()\n",
    "revol_util_categories_vs_loan['Total'] = revol_util_categories_vs_loan['Charged Off'] + revol_util_categories_vs_loan['Current'] + revol_util_categories_vs_loan['Fully Paid']\n",
    "revol_util_categories_vs_loan['Chargedoff_Proportion'] = revol_util_categories_vs_loan['Charged Off'] / revol_util_categories_vs_loan['Total']\n",
    "revol_util_categories_vs_loan_sorted = revol_util_categories_vs_loan.sort_values('Chargedoff_Proportion', ascending=False)\n",
    "\n",
    "# Plotting the graph\n",
    "plt.figure(figsize=(10, 6))\n",
    "plt.bar(revol_util_categories_vs_loan_sorted['revol_util_categories'], revol_util_categories_vs_loan_sorted['Chargedoff_Proportion'])\n",
    "plt.xlabel('Revolving Credit Utilisation Categories')\n",
    "plt.ylabel('Charged off Proportion')\n",
    "plt.title('Charged off Proportion by revol_util_categories')\n",
    "plt.show()"
   ]
  },
  {
   "cell_type": "markdown",
   "id": "04315520",
   "metadata": {},
   "source": [
    "#### The analysis provides the following insights:\n",
    "\n",
    "-  Those accounts whose revolving credit utilisation falls under the <b>*Extremely Risky*</b> category are highly likely to be a defaulter or their loan accounts being charged off.\n",
    "-  As we move from <b>Extremely Risky</b> to <b>Good</b> it can be noticied that there is less likely hood of accounts having credit utilisation under the categories <b>Extremely Good</b> and <b>Good</b> (under 30%) to be charged off.\n",
    "-  An interesting insight can be seen here that borrower accounts that fall under the <b>Extremely Good</b> category (<b>i.e. having less than 5% revolving credit utilisation</b>) are more likely to be defaulters than accounts under <b>Good</b> category.\n",
    "\n",
    "\n",
    "Reference : <a href=\"https://www.ondeck.com/resources/dont-mess-up-your-fico-score-manage-your-revolving-credit-usage#:~:text=50%25%20to%2075%25%3A%20This,more%20reasonable%20to%20a%20lender\">\n",
    "Reference Link</a><br>"
   ]
  },
  {
   "cell_type": "code",
   "execution_count": 47,
   "id": "2b07a63a",
   "metadata": {},
   "outputs": [
    {
     "data": {
      "text/plain": [
       "0         36 months\n",
       "1         60 months\n",
       "2         36 months\n",
       "3         36 months\n",
       "4         60 months\n",
       "            ...    \n",
       "39711     36 months\n",
       "39712     36 months\n",
       "39713     36 months\n",
       "39714     36 months\n",
       "39716     36 months\n",
       "Name: term, Length: 35931, dtype: object"
      ]
     },
     "execution_count": 47,
     "metadata": {},
     "output_type": "execute_result"
    }
   ],
   "source": [
    "df['term']"
   ]
  },
  {
   "cell_type": "code",
   "execution_count": 48,
   "id": "29627d13",
   "metadata": {},
   "outputs": [
    {
     "data": {
      "image/png": "[encoded data removed]",
      "text/plain": [
       "<Figure size 720x432 with 1 Axes>"
      ]
     },
     "metadata": {
      "needs_background": "light"
     },
     "output_type": "display_data"
    }
   ],
   "source": [
    "# Conducting a bivariate analysis on the variable 'term' in relation to the proportion of charged off cases\n",
    "term_vs_loan = df.groupby(['term', 'loan_status']).loan_status.count().unstack().fillna(0).reset_index()\n",
    "term_vs_loan['Total'] = term_vs_loan['Charged Off'] + term_vs_loan['Current'] + term_vs_loan['Fully Paid']\n",
    "term_vs_loan['Chargedoff_Proportion'] = term_vs_loan['Charged Off'] / term_vs_loan['Total']\n",
    "term_vs_loan_sorted = term_vs_loan.sort_values('Chargedoff_Proportion', ascending=False)\n",
    "term_vs_loan_sorted\n",
    "\n",
    "# Plotting the graph\n",
    "plt.figure(figsize=(10, 6))\n",
    "plt.bar(term_vs_loan_sorted['term'], term_vs_loan_sorted['Chargedoff_Proportion'])\n",
    "plt.xlabel('Term')\n",
    "plt.ylabel('Charged off Proportion')\n",
    "plt.title('Charged off Proportion by Term')\n",
    "plt.show()"
   ]
  },
  {
   "cell_type": "markdown",
   "id": "097b7149",
   "metadata": {},
   "source": [
    "<h3>The analysis reveals the following observations: </h3><br>\n",
    "<li>Loans which have tenure of 60 months are more likly to get Charged off\n",
    "<li>Loans which have tenure of 36 months are less likly to get Charged Off \n"
   ]
  },
  {
   "cell_type": "code",
   "execution_count": 49,
   "id": "ead08210",
   "metadata": {},
   "outputs": [
    {
     "data": {
      "text/plain": [
       "0          10-13\n",
       "1            15+\n",
       "2            15+\n",
       "3        12.5-15\n",
       "4        12.5-15\n",
       "          ...   \n",
       "39711       5-10\n",
       "39712       5-10\n",
       "39713      10-13\n",
       "39714       5-10\n",
       "39716    12.5-15\n",
       "Name: int_rate_cats, Length: 35931, dtype: category\n",
       "Categories (5, object): ['0-5' < '5-10' < '10-13' < '12.5-15' < '15+']"
      ]
     },
     "execution_count": 49,
     "metadata": {},
     "output_type": "execute_result"
    }
   ],
   "source": [
    "# Converting int_rate into Categories for visulization \n",
    "df['int_rate_cats'] = pd.cut(df['int_rate'], [0, 5, 10, 12.5, 15, 20], labels=['0-5', '5-10', '10-13', '12.5-15', '15+'])\n",
    "df['int_rate_cats']\n"
   ]
  },
  {
   "cell_type": "code",
   "execution_count": 50,
   "id": "f887b36f",
   "metadata": {},
   "outputs": [
    {
     "data": {
      "text/html": [
       "<div>\n",
       "<style scoped>\n",
       "    .dataframe tbody tr th:only-of-type {\n",
       "        vertical-align: middle;\n",
       "    }\n",
       "\n",
       "    .dataframe tbody tr th {\n",
       "        vertical-align: top;\n",
       "    }\n",
       "\n",
       "    .dataframe thead th {\n",
       "        text-align: right;\n",
       "    }\n",
       "</style>\n",
       "<table border=\"1\" class=\"dataframe\">\n",
       "  <thead>\n",
       "    <tr style=\"text-align: right;\">\n",
       "      <th>loan_status</th>\n",
       "      <th>int_rate_cats</th>\n",
       "      <th>Charged Off</th>\n",
       "      <th>Current</th>\n",
       "      <th>Fully Paid</th>\n",
       "      <th>Total</th>\n",
       "      <th>Chargedoff_Proportion</th>\n",
       "    </tr>\n",
       "  </thead>\n",
       "  <tbody>\n",
       "    <tr>\n",
       "      <th>4</th>\n",
       "      <td>15+</td>\n",
       "      <td>1572</td>\n",
       "      <td>366</td>\n",
       "      <td>4689</td>\n",
       "      <td>6627</td>\n",
       "      <td>0.237211</td>\n",
       "    </tr>\n",
       "    <tr>\n",
       "      <th>3</th>\n",
       "      <td>12.5-15</td>\n",
       "      <td>1375</td>\n",
       "      <td>217</td>\n",
       "      <td>6786</td>\n",
       "      <td>8378</td>\n",
       "      <td>0.164120</td>\n",
       "    </tr>\n",
       "    <tr>\n",
       "      <th>2</th>\n",
       "      <td>10-13</td>\n",
       "      <td>1157</td>\n",
       "      <td>219</td>\n",
       "      <td>7454</td>\n",
       "      <td>8830</td>\n",
       "      <td>0.131031</td>\n",
       "    </tr>\n",
       "    <tr>\n",
       "      <th>1</th>\n",
       "      <td>5-10</td>\n",
       "      <td>801</td>\n",
       "      <td>71</td>\n",
       "      <td>10737</td>\n",
       "      <td>11609</td>\n",
       "      <td>0.068998</td>\n",
       "    </tr>\n",
       "    <tr>\n",
       "      <th>0</th>\n",
       "      <td>0-5</td>\n",
       "      <td>0</td>\n",
       "      <td>0</td>\n",
       "      <td>0</td>\n",
       "      <td>0</td>\n",
       "      <td>NaN</td>\n",
       "    </tr>\n",
       "  </tbody>\n",
       "</table>\n",
       "</div>"
      ],
      "text/plain": [
       "loan_status int_rate_cats  Charged Off  Current  Fully Paid  Total  \\\n",
       "4                     15+         1572      366        4689   6627   \n",
       "3                 12.5-15         1375      217        6786   8378   \n",
       "2                   10-13         1157      219        7454   8830   \n",
       "1                    5-10          801       71       10737  11609   \n",
       "0                     0-5            0        0           0      0   \n",
       "\n",
       "loan_status  Chargedoff_Proportion  \n",
       "4                         0.237211  \n",
       "3                         0.164120  \n",
       "2                         0.131031  \n",
       "1                         0.068998  \n",
       "0                              NaN  "
      ]
     },
     "execution_count": 50,
     "metadata": {},
     "output_type": "execute_result"
    }
   ],
   "source": [
    "# Bivariate Analysis on interest rate against Chargedoff_Proportion\n",
    "int_rate_vs_loan = df.groupby(['int_rate_cats', 'loan_status']).loan_status.count().unstack().fillna(0).reset_index()\n",
    "int_rate_vs_loan['Total'] = int_rate_vs_loan['Charged Off'] + int_rate_vs_loan['Current'] + int_rate_vs_loan['Fully Paid'] \n",
    "int_rate_vs_loan['Chargedoff_Proportion'] = int_rate_vs_loan['Charged Off'] / int_rate_vs_loan['Total']\n",
    "interest_vs_loan_sorted = int_rate_vs_loan.sort_values('Chargedoff_Proportion', ascending=False)\n",
    "interest_vs_loan_sorted"
   ]
  },
  {
   "cell_type": "markdown",
   "id": "e0e7a25c",
   "metadata": {},
   "source": [
    "<h3>The analysis reveals the following observations: </h3><br>\n",
    "<li>Loans with interest rates less than 10% have a significantly lower chance of being charged off. The minimum interest rate observed is 5%.\n",
    "<li>Loans with interest rates higher than 15% have a higher proportion of charged off cases compared to other interest rate categories.\n",
    "<li>The proportion of charged off cases increases with higher interest rates."
   ]
  },
  {
   "cell_type": "markdown",
   "id": "1c62f7f0",
   "metadata": {},
   "source": [
    "### Categories Debt-to-Income ratio column `dti`\n",
    "\n",
    "-  The categorisation is with reference to the following article <a href='https://www.investopedia.com/terms/d/dti.asp'>DTI Guidelines</a>.\n",
    "-  <b>Good:</b> Debt to Income ratio under <b>35%</b> is considered good and other banks can provide additional loans to the borrower.\n",
    "-  <b>Concerned:</b> Debt to Income ratio <b>between 35% and 49%</b> is considered concerning to the banks and is advised to not provide loans of higher amount and higher EMIs to the borrower.\n",
    "-  <b>Risky:</b> Debt to Income ratio <b>over 50%</b> is considered risky by banks and other lending institutions as the borrower won't be able to pay EMIs for loans having higher EMI and can lead to a default."
   ]
  },
  {
   "cell_type": "code",
   "execution_count": 51,
   "id": "e1c2acfe",
   "metadata": {},
   "outputs": [
    {
     "data": {
      "text/plain": [
       "0"
      ]
     },
     "execution_count": 51,
     "metadata": {},
     "output_type": "execute_result"
    }
   ],
   "source": [
    "df['dti'].isnull().sum()"
   ]
  },
  {
   "cell_type": "code",
   "execution_count": 52,
   "id": "d2a8c195",
   "metadata": {},
   "outputs": [],
   "source": [
    "def DTI_Segment(x):\n",
    "    x = float(x)\n",
    "    if x <= 35:\n",
    "        return \"Good\"\n",
    "    elif (x > 35) & (x <= 49):\n",
    "        return \"Concerned\"\n",
    "    elif x >= 50:\n",
    "        return \"Risky\"\n",
    "    \n",
    "    "
   ]
  },
  {
   "cell_type": "code",
   "execution_count": 53,
   "id": "52c565ad",
   "metadata": {},
   "outputs": [],
   "source": [
    "df['dti_categorised'] = df['dti'].apply(lambda x: DTI_Segment(x))"
   ]
  },
  {
   "cell_type": "code",
   "execution_count": 54,
   "id": "a3a0fa0d",
   "metadata": {},
   "outputs": [],
   "source": [
    "dti_vs_loanStatus = df.groupby(['dti_categorised', 'loan_status'])['dti_categorised'].aggregate('count').unstack().reset_index()"
   ]
  },
  {
   "cell_type": "code",
   "execution_count": 55,
   "id": "e0a20ed4",
   "metadata": {},
   "outputs": [
    {
     "data": {
      "text/html": [
       "<div>\n",
       "<style scoped>\n",
       "    .dataframe tbody tr th:only-of-type {\n",
       "        vertical-align: middle;\n",
       "    }\n",
       "\n",
       "    .dataframe tbody tr th {\n",
       "        vertical-align: top;\n",
       "    }\n",
       "\n",
       "    .dataframe thead th {\n",
       "        text-align: right;\n",
       "    }\n",
       "</style>\n",
       "<table border=\"1\" class=\"dataframe\">\n",
       "  <thead>\n",
       "    <tr style=\"text-align: right;\">\n",
       "      <th>loan_status</th>\n",
       "      <th>dti_categorised</th>\n",
       "      <th>Charged Off</th>\n",
       "      <th>Current</th>\n",
       "      <th>Fully Paid</th>\n",
       "    </tr>\n",
       "  </thead>\n",
       "  <tbody>\n",
       "    <tr>\n",
       "      <th>0</th>\n",
       "      <td>Good</td>\n",
       "      <td>5075</td>\n",
       "      <td>919</td>\n",
       "      <td>29937</td>\n",
       "    </tr>\n",
       "  </tbody>\n",
       "</table>\n",
       "</div>"
      ],
      "text/plain": [
       "loan_status dti_categorised  Charged Off  Current  Fully Paid\n",
       "0                      Good         5075      919       29937"
      ]
     },
     "execution_count": 55,
     "metadata": {},
     "output_type": "execute_result"
    }
   ],
   "source": [
    "dti_vs_loanStatus"
   ]
  },
  {
   "cell_type": "code",
   "execution_count": 56,
   "id": "5487fab9",
   "metadata": {},
   "outputs": [
    {
     "data": {
      "image/png": "[encoded data removed]",
      "text/plain": [
       "<Figure size 648x576 with 1 Axes>"
      ]
     },
     "metadata": {
      "needs_background": "light"
     },
     "output_type": "display_data"
    }
   ],
   "source": [
    "dti_vs_loanStatus.plot(x=\"dti_categorised\", y=[\"Charged Off\",\"Current\", \"Fully Paid\"],kind=\"bar\",figsize=(9, 8))\n",
    "plt.show()"
   ]
  },
  {
   "cell_type": "markdown",
   "id": "567558f8",
   "metadata": {},
   "source": [
    "#### Analysis outcome of `dti` vs `loan_status` column graph\n",
    "-  It is observed that the data set contains <b>Debt-to-Index</b> ratio within the <b>Good</b> category (<b>i.e. DTI ratio is under 35%</b>)\n",
    "-  It can be seen that majority of borrower accounts with <b>good dti ratio</b> were able to <b>fully pay</b> the loan.\n",
    "-  This also proves that there is significant difference for borrower account"
   ]
  }
 ],
 "metadata": {
  "kernelspec": {
   "display_name": "Python 3",
   "language": "python",
   "name": "python3"
  },
  "language_info": {
   "codemirror_mode": {
    "name": "ipython",
    "version": 3
   },
   "file_extension": ".py",
   "mimetype": "text/x-python",
   "name": "python",
   "nbconvert_exporter": "python",
   "pygments_lexer": "ipython3",
   "version": "3.8.8"
  }
 },
 "nbformat": 4,
 "nbformat_minor": 5
}
