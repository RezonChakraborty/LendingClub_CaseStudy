{
 "cells": [
  {
   "cell_type": "markdown",
   "id": "2d6ffd0d",
   "metadata": {},
   "source": [
    "<h3>Importing Libs</h3>"
   ]
  },
  {
   "cell_type": "code",
   "execution_count": 1,
   "id": "14d94746",
   "metadata": {},
   "outputs": [
    {
     "name": "stderr",
     "output_type": "stream",
     "text": [
      "C:\\Users\\ayush\\anaconda3\\lib\\site-packages\\scipy\\__init__.py:146: UserWarning: A NumPy version >=1.16.5 and <1.23.0 is required for this version of SciPy (detected version 1.24.3\n",
      "  warnings.warn(f\"A NumPy version >={np_minversion} and <{np_maxversion}\"\n"
     ]
    }
   ],
   "source": [
    "import pandas as pd\n",
    "import os\n",
    "import matplotlib.pyplot as plt\n",
    "import seaborn as sns"
   ]
  },
  {
   "cell_type": "markdown",
   "id": "4972dcea",
   "metadata": {},
   "source": [
    "<h3> Loading Data </h3>"
   ]
  },
  {
   "cell_type": "code",
   "execution_count": 3,
   "id": "b8a519d3",
   "metadata": {},
   "outputs": [
    {
     "name": "stderr",
     "output_type": "stream",
     "text": [
      "C:\\Users\\ayush\\anaconda3\\lib\\site-packages\\IPython\\core\\interactiveshell.py:3444: DtypeWarning: Columns (47) have mixed types.Specify dtype option on import or set low_memory=False.\n",
      "  exec(code_obj, self.user_global_ns, self.user_ns)\n"
     ]
    },
    {
     "data": {
      "text/html": [
       "<div>\n",
       "<style scoped>\n",
       "    .dataframe tbody tr th:only-of-type {\n",
       "        vertical-align: middle;\n",
       "    }\n",
       "\n",
       "    .dataframe tbody tr th {\n",
       "        vertical-align: top;\n",
       "    }\n",
       "\n",
       "    .dataframe thead th {\n",
       "        text-align: right;\n",
       "    }\n",
       "</style>\n",
       "<table border=\"1\" class=\"dataframe\">\n",
       "  <thead>\n",
       "    <tr style=\"text-align: right;\">\n",
       "      <th></th>\n",
       "      <th>id</th>\n",
       "      <th>member_id</th>\n",
       "      <th>loan_amnt</th>\n",
       "      <th>funded_amnt</th>\n",
       "      <th>funded_amnt_inv</th>\n",
       "      <th>term</th>\n",
       "      <th>int_rate</th>\n",
       "      <th>installment</th>\n",
       "      <th>grade</th>\n",
       "      <th>sub_grade</th>\n",
       "      <th>...</th>\n",
       "      <th>num_tl_90g_dpd_24m</th>\n",
       "      <th>num_tl_op_past_12m</th>\n",
       "      <th>pct_tl_nvr_dlq</th>\n",
       "      <th>percent_bc_gt_75</th>\n",
       "      <th>pub_rec_bankruptcies</th>\n",
       "      <th>tax_liens</th>\n",
       "      <th>tot_hi_cred_lim</th>\n",
       "      <th>total_bal_ex_mort</th>\n",
       "      <th>total_bc_limit</th>\n",
       "      <th>total_il_high_credit_limit</th>\n",
       "    </tr>\n",
       "  </thead>\n",
       "  <tbody>\n",
       "    <tr>\n",
       "      <th>0</th>\n",
       "      <td>1077501</td>\n",
       "      <td>1296599</td>\n",
       "      <td>5000</td>\n",
       "      <td>5000</td>\n",
       "      <td>4975.0</td>\n",
       "      <td>36 months</td>\n",
       "      <td>10.65%</td>\n",
       "      <td>162.87</td>\n",
       "      <td>B</td>\n",
       "      <td>B2</td>\n",
       "      <td>...</td>\n",
       "      <td>NaN</td>\n",
       "      <td>NaN</td>\n",
       "      <td>NaN</td>\n",
       "      <td>NaN</td>\n",
       "      <td>0.0</td>\n",
       "      <td>0.0</td>\n",
       "      <td>NaN</td>\n",
       "      <td>NaN</td>\n",
       "      <td>NaN</td>\n",
       "      <td>NaN</td>\n",
       "    </tr>\n",
       "    <tr>\n",
       "      <th>1</th>\n",
       "      <td>1077430</td>\n",
       "      <td>1314167</td>\n",
       "      <td>2500</td>\n",
       "      <td>2500</td>\n",
       "      <td>2500.0</td>\n",
       "      <td>60 months</td>\n",
       "      <td>15.27%</td>\n",
       "      <td>59.83</td>\n",
       "      <td>C</td>\n",
       "      <td>C4</td>\n",
       "      <td>...</td>\n",
       "      <td>NaN</td>\n",
       "      <td>NaN</td>\n",
       "      <td>NaN</td>\n",
       "      <td>NaN</td>\n",
       "      <td>0.0</td>\n",
       "      <td>0.0</td>\n",
       "      <td>NaN</td>\n",
       "      <td>NaN</td>\n",
       "      <td>NaN</td>\n",
       "      <td>NaN</td>\n",
       "    </tr>\n",
       "    <tr>\n",
       "      <th>2</th>\n",
       "      <td>1077175</td>\n",
       "      <td>1313524</td>\n",
       "      <td>2400</td>\n",
       "      <td>2400</td>\n",
       "      <td>2400.0</td>\n",
       "      <td>36 months</td>\n",
       "      <td>15.96%</td>\n",
       "      <td>84.33</td>\n",
       "      <td>C</td>\n",
       "      <td>C5</td>\n",
       "      <td>...</td>\n",
       "      <td>NaN</td>\n",
       "      <td>NaN</td>\n",
       "      <td>NaN</td>\n",
       "      <td>NaN</td>\n",
       "      <td>0.0</td>\n",
       "      <td>0.0</td>\n",
       "      <td>NaN</td>\n",
       "      <td>NaN</td>\n",
       "      <td>NaN</td>\n",
       "      <td>NaN</td>\n",
       "    </tr>\n",
       "    <tr>\n",
       "      <th>3</th>\n",
       "      <td>1076863</td>\n",
       "      <td>1277178</td>\n",
       "      <td>10000</td>\n",
       "      <td>10000</td>\n",
       "      <td>10000.0</td>\n",
       "      <td>36 months</td>\n",
       "      <td>13.49%</td>\n",
       "      <td>339.31</td>\n",
       "      <td>C</td>\n",
       "      <td>C1</td>\n",
       "      <td>...</td>\n",
       "      <td>NaN</td>\n",
       "      <td>NaN</td>\n",
       "      <td>NaN</td>\n",
       "      <td>NaN</td>\n",
       "      <td>0.0</td>\n",
       "      <td>0.0</td>\n",
       "      <td>NaN</td>\n",
       "      <td>NaN</td>\n",
       "      <td>NaN</td>\n",
       "      <td>NaN</td>\n",
       "    </tr>\n",
       "    <tr>\n",
       "      <th>4</th>\n",
       "      <td>1075358</td>\n",
       "      <td>1311748</td>\n",
       "      <td>3000</td>\n",
       "      <td>3000</td>\n",
       "      <td>3000.0</td>\n",
       "      <td>60 months</td>\n",
       "      <td>12.69%</td>\n",
       "      <td>67.79</td>\n",
       "      <td>B</td>\n",
       "      <td>B5</td>\n",
       "      <td>...</td>\n",
       "      <td>NaN</td>\n",
       "      <td>NaN</td>\n",
       "      <td>NaN</td>\n",
       "      <td>NaN</td>\n",
       "      <td>0.0</td>\n",
       "      <td>0.0</td>\n",
       "      <td>NaN</td>\n",
       "      <td>NaN</td>\n",
       "      <td>NaN</td>\n",
       "      <td>NaN</td>\n",
       "    </tr>\n",
       "  </tbody>\n",
       "</table>\n",
       "<p>5 rows × 111 columns</p>\n",
       "</div>"
      ],
      "text/plain": [
       "        id  member_id  loan_amnt  funded_amnt  funded_amnt_inv        term  \\\n",
       "0  1077501    1296599       5000         5000           4975.0   36 months   \n",
       "1  1077430    1314167       2500         2500           2500.0   60 months   \n",
       "2  1077175    1313524       2400         2400           2400.0   36 months   \n",
       "3  1076863    1277178      10000        10000          10000.0   36 months   \n",
       "4  1075358    1311748       3000         3000           3000.0   60 months   \n",
       "\n",
       "  int_rate  installment grade sub_grade  ... num_tl_90g_dpd_24m  \\\n",
       "0   10.65%       162.87     B        B2  ...                NaN   \n",
       "1   15.27%        59.83     C        C4  ...                NaN   \n",
       "2   15.96%        84.33     C        C5  ...                NaN   \n",
       "3   13.49%       339.31     C        C1  ...                NaN   \n",
       "4   12.69%        67.79     B        B5  ...                NaN   \n",
       "\n",
       "  num_tl_op_past_12m pct_tl_nvr_dlq  percent_bc_gt_75 pub_rec_bankruptcies  \\\n",
       "0                NaN            NaN               NaN                  0.0   \n",
       "1                NaN            NaN               NaN                  0.0   \n",
       "2                NaN            NaN               NaN                  0.0   \n",
       "3                NaN            NaN               NaN                  0.0   \n",
       "4                NaN            NaN               NaN                  0.0   \n",
       "\n",
       "  tax_liens tot_hi_cred_lim total_bal_ex_mort total_bc_limit  \\\n",
       "0       0.0             NaN               NaN            NaN   \n",
       "1       0.0             NaN               NaN            NaN   \n",
       "2       0.0             NaN               NaN            NaN   \n",
       "3       0.0             NaN               NaN            NaN   \n",
       "4       0.0             NaN               NaN            NaN   \n",
       "\n",
       "  total_il_high_credit_limit  \n",
       "0                        NaN  \n",
       "1                        NaN  \n",
       "2                        NaN  \n",
       "3                        NaN  \n",
       "4                        NaN  \n",
       "\n",
       "[5 rows x 111 columns]"
      ]
     },
     "execution_count": 3,
     "metadata": {},
     "output_type": "execute_result"
    }
   ],
   "source": [
    "dataset_path = os.path.join('loan', 'loan.csv')\n",
    "df = pd.read_csv(dataset_path)\n",
    "df.head()"
   ]
  },
  {
   "cell_type": "markdown",
   "id": "8b07af4c",
   "metadata": {},
   "source": [
    "<h3>Dataset size</h3>"
   ]
  },
  {
   "cell_type": "code",
   "execution_count": 4,
   "id": "5947d205",
   "metadata": {},
   "outputs": [
    {
     "data": {
      "text/plain": [
       "(39717, 111)"
      ]
     },
     "execution_count": 4,
     "metadata": {},
     "output_type": "execute_result"
    }
   ],
   "source": [
    "df.shape"
   ]
  },
  {
   "cell_type": "markdown",
   "id": "53a349c6",
   "metadata": {},
   "source": [
    "<h3> Checking Null Values Count On Each Columns</h3>"
   ]
  },
  {
   "cell_type": "code",
   "execution_count": 5,
   "id": "ea752819",
   "metadata": {},
   "outputs": [
    {
     "data": {
      "text/plain": [
       "id                                0\n",
       "member_id                         0\n",
       "loan_amnt                         0\n",
       "funded_amnt                       0\n",
       "funded_amnt_inv                   0\n",
       "                              ...  \n",
       "tax_liens                        39\n",
       "tot_hi_cred_lim               39717\n",
       "total_bal_ex_mort             39717\n",
       "total_bc_limit                39717\n",
       "total_il_high_credit_limit    39717\n",
       "Length: 111, dtype: int64"
      ]
     },
     "execution_count": 5,
     "metadata": {},
     "output_type": "execute_result"
    }
   ],
   "source": [
    "null_counts = df.isnull().sum()\n",
    "null_counts"
   ]
  },
  {
   "cell_type": "markdown",
   "id": "79a624eb",
   "metadata": {},
   "source": [
    "<h3>Removing All Columns which are completly Null</h3>"
   ]
  },
  {
   "cell_type": "code",
   "execution_count": 6,
   "id": "6807285c",
   "metadata": {},
   "outputs": [
    {
     "data": {
      "text/plain": [
       "(39717, 57)"
      ]
     },
     "execution_count": 6,
     "metadata": {},
     "output_type": "execute_result"
    }
   ],
   "source": [
    "df = df.dropna(axis=1, how='all')\n",
    "df.shape"
   ]
  },
  {
   "cell_type": "markdown",
   "id": "aa3f2163",
   "metadata": {},
   "source": [
    "<font color='red'>Out of 111 Columns, 54 Columns contains only null value</font><br>\n",
    "<font color='red'>Removed 54 Columns Now we have 57 Columns left to Analysis</font>"
   ]
  },
  {
   "cell_type": "markdown",
   "id": "01ff333c",
   "metadata": {},
   "source": [
    "<h4>Now Analysing Null Value Count of Remaning Columns</h4>"
   ]
  },
  {
   "cell_type": "code",
   "execution_count": 7,
   "id": "c7ee1197",
   "metadata": {},
   "outputs": [
    {
     "data": {
      "image/png": "[encoded data removed]",
      "text/plain": [
       "<Figure size 432x288 with 1 Axes>"
      ]
     },
     "metadata": {
      "needs_background": "light"
     },
     "output_type": "display_data"
    },
    {
     "data": {
      "text/plain": [
       "<Figure size 864x576 with 0 Axes>"
      ]
     },
     "metadata": {},
     "output_type": "display_data"
    }
   ],
   "source": [
    "# Count the null values in each column\n",
    "null_counts = df.isnull().sum()\n",
    "null_counts = null_counts[null_counts > 0]\n",
    "# Create a bar plot\n",
    "null_counts.plot(kind='bar')\n",
    "\n",
    "# Customize the plot\n",
    "plt.title('Null Values by Column', fontsize=14)\n",
    "plt.xlabel('Columns', fontsize=12)\n",
    "plt.ylabel('Number of Null Values (log scale)', fontsize=12)  # Update the y-label text\n",
    "plt.xticks(rotation=45, ha='right', fontsize=10)\n",
    "\n",
    "# Increase the size of the plot window\n",
    "plt.figure(figsize=(12, 8))\n",
    "\n",
    "# Display the plot\n",
    "plt.tight_layout()\n",
    "plt.show()"
   ]
  },
  {
   "cell_type": "markdown",
   "id": "f8e3ccf6",
   "metadata": {},
   "source": [
    "<h3>Removing below Columns as it not possible to fix Missing Values</h3>\n",
    "    <br>\n",
    "<b><font color=\"Blue\">mths_since_last_delinq</font>&nbsp;</b> {The number of months since the borrower's last delinquency.} <br>\n",
    "<b><font color=\"Blue\">mths_since_last_record</font>&nbsp;</b> {The number of months since the last public record.}<br>\n",
    "<b><font color=\"Blue\">next_pymnt_d</font>&nbsp;</b>\t{Next scheduled payment date}<br>\n",
    "\n",
    "Also Removing <b><font color=\"Blue\">desc</font>&nbsp;</b> as it can't be standardised<br>\n",
    "<b><font color=\"Blue\">desc</font>&nbsp;</b>\t{Loan description provided by the borrower}<br>"
   ]
  },
  {
   "cell_type": "code",
   "execution_count": 8,
   "id": "d531244d",
   "metadata": {},
   "outputs": [
    {
     "data": {
      "text/plain": [
       "(39717, 53)"
      ]
     },
     "execution_count": 8,
     "metadata": {},
     "output_type": "execute_result"
    }
   ],
   "source": [
    "columns_to_drop = ['mths_since_last_delinq', 'mths_since_last_record', 'next_pymnt_d', 'desc']\n",
    "df = df.drop(columns=columns_to_drop)\n",
    "df.shape\n",
    "\n"
   ]
  },
  {
   "cell_type": "code",
   "execution_count": 9,
   "id": "5c4fab2e",
   "metadata": {},
   "outputs": [
    {
     "data": {
      "text/plain": [
       "(39717, 39)"
      ]
     },
     "execution_count": 9,
     "metadata": {},
     "output_type": "execute_result"
    }
   ],
   "source": [
    "Final_columns = ['addr_state',\n",
    "'annual_inc',\n",
    "'collection_recovery_fee',\n",
    "'delinq_2yrs',\n",
    "'dti',\n",
    "'earliest_cr_line',\n",
    "'emp_length',\n",
    "'funded_amnt',\n",
    "'funded_amnt_inv',\n",
    "'grade',\n",
    "'home_ownership',\n",
    "'initial_list_status',\n",
    "'inq_last_6mths',\n",
    "'installment',\n",
    "'int_rate',\n",
    "'issue_d',\n",
    "'last_credit_pull_d',\n",
    "'last_pymnt_amnt',\n",
    "'last_pymnt_d',\n",
    "'loan_amnt',\n",
    "'loan_status',\n",
    "'open_acc',\n",
    "'out_prncp',\n",
    "'out_prncp_inv',\n",
    "'pub_rec',\n",
    "'pub_rec_bankruptcies',\n",
    "'purpose',\n",
    "'recoveries',\n",
    "'revol_bal',\n",
    "'revol_util',\n",
    "'sub_grade',\n",
    "'term',\n",
    "'total_acc',\n",
    "'total_pymnt',\n",
    "'total_pymnt_inv',\n",
    "'total_rec_int',\n",
    "'total_rec_late_fee',\n",
    "'total_rec_prncp',\n",
    "'verification_status']\n",
    "df = df[Final_columns]\n",
    "df.shape"
   ]
  },
  {
   "cell_type": "markdown",
   "id": "1bd1d814",
   "metadata": {},
   "source": [
    "<h6><font color='red'>Removed 4 columns now we left with 53 Columns</font></h6>"
   ]
  },
  {
   "cell_type": "code",
   "execution_count": 10,
   "id": "7ffc673b",
   "metadata": {},
   "outputs": [
    {
     "data": {
      "image/png": "[encoded data removed]",
      "text/plain": [
       "<Figure size 432x288 with 1 Axes>"
      ]
     },
     "metadata": {
      "needs_background": "light"
     },
     "output_type": "display_data"
    },
    {
     "data": {
      "text/plain": [
       "<Figure size 864x576 with 0 Axes>"
      ]
     },
     "metadata": {},
     "output_type": "display_data"
    }
   ],
   "source": [
    "# Count the null values in each column\n",
    "null_counts = df.isnull().sum()\n",
    "null_counts = null_counts[null_counts > 0]\n",
    "# Create a bar plot\n",
    "null_counts.plot(kind='bar')\n",
    "\n",
    "# Customize the plot\n",
    "plt.title('Null Values by Column', fontsize=14)\n",
    "plt.xlabel('Columns', fontsize=12)\n",
    "plt.ylabel('Number of Null Values (log scale)', fontsize=12)  # Update the y-label text\n",
    "plt.xticks(rotation=45, ha='right', fontsize=10)\n",
    "\n",
    "# Increase the size of the plot window\n",
    "plt.figure(figsize=(12, 8))\n",
    "\n",
    "# Display the plot\n",
    "plt.tight_layout()\n",
    "plt.show()"
   ]
  },
  {
   "cell_type": "code",
   "execution_count": 11,
   "id": "53eaa943",
   "metadata": {},
   "outputs": [
    {
     "data": {
      "text/plain": [
       "Index(['addr_state', 'annual_inc', 'collection_recovery_fee', 'delinq_2yrs',\n",
       "       'dti', 'earliest_cr_line', 'emp_length', 'funded_amnt',\n",
       "       'funded_amnt_inv', 'grade', 'home_ownership', 'initial_list_status',\n",
       "       'inq_last_6mths', 'installment', 'int_rate', 'issue_d',\n",
       "       'last_credit_pull_d', 'last_pymnt_amnt', 'last_pymnt_d', 'loan_amnt',\n",
       "       'loan_status', 'open_acc', 'out_prncp', 'out_prncp_inv', 'pub_rec',\n",
       "       'pub_rec_bankruptcies', 'purpose', 'recoveries', 'revol_bal',\n",
       "       'revol_util', 'sub_grade', 'term', 'total_acc', 'total_pymnt',\n",
       "       'total_pymnt_inv', 'total_rec_int', 'total_rec_late_fee',\n",
       "       'total_rec_prncp', 'verification_status'],\n",
       "      dtype='object')"
      ]
     },
     "execution_count": 11,
     "metadata": {},
     "output_type": "execute_result"
    }
   ],
   "source": [
    "df.columns"
   ]
  },
  {
   "cell_type": "code",
   "execution_count": 12,
   "id": "4f09950d",
   "metadata": {},
   "outputs": [
    {
     "data": {
      "text/plain": [
       "0        0\n",
       "1        0\n",
       "2        0\n",
       "3        0\n",
       "4        0\n",
       "        ..\n",
       "39712    1\n",
       "39713    1\n",
       "39714    1\n",
       "39715    1\n",
       "39716    1\n",
       "Length: 39717, dtype: int64"
      ]
     },
     "execution_count": 12,
     "metadata": {},
     "output_type": "execute_result"
    }
   ],
   "source": [
    "#Check Missing Values in Rows\n",
    "df.isnull().sum(axis=1)"
   ]
  },
  {
   "cell_type": "code",
   "execution_count": 13,
   "id": "69016ef3",
   "metadata": {},
   "outputs": [
    {
     "data": {
      "text/plain": [
       "{'1 year',\n",
       " '10+ years',\n",
       " '2 years',\n",
       " '3 years',\n",
       " '4 years',\n",
       " '5 years',\n",
       " '6 years',\n",
       " '7 years',\n",
       " '8 years',\n",
       " '9 years',\n",
       " '< 1 year',\n",
       " nan}"
      ]
     },
     "execution_count": 13,
     "metadata": {},
     "output_type": "execute_result"
    }
   ],
   "source": [
    "set(df['emp_length'])"
   ]
  },
  {
   "cell_type": "code",
   "execution_count": 14,
   "id": "08166acf",
   "metadata": {},
   "outputs": [
    {
     "data": {
      "text/plain": [
       "{0,\n",
       " '1 year',\n",
       " '10+ years',\n",
       " '2 years',\n",
       " '3 years',\n",
       " '4 years',\n",
       " '5 years',\n",
       " '6 years',\n",
       " '7 years',\n",
       " '8 years',\n",
       " '9 years',\n",
       " '< 1 year'}"
      ]
     },
     "execution_count": 14,
     "metadata": {},
     "output_type": "execute_result"
    }
   ],
   "source": [
    "#In emp_length there are nan values present, filling 'nan' with 0\n",
    "df['emp_length'] = df['emp_length'].fillna(0)\n",
    "set(df['emp_length'])"
   ]
  },
  {
   "cell_type": "code",
   "execution_count": 15,
   "id": "940762de",
   "metadata": {},
   "outputs": [
    {
     "data": {
      "text/plain": [
       "{'MORTGAGE', 'NONE', 'OTHER', 'OWN', 'RENT'}"
      ]
     },
     "execution_count": 15,
     "metadata": {},
     "output_type": "execute_result"
    }
   ],
   "source": [
    "set(df['home_ownership'])"
   ]
  },
  {
   "cell_type": "code",
   "execution_count": 16,
   "id": "0cd6596a",
   "metadata": {},
   "outputs": [
    {
     "data": {
      "text/plain": [
       "{'MORTGAGE', 'OTHER', 'OWN', 'RENT'}"
      ]
     },
     "execution_count": 16,
     "metadata": {},
     "output_type": "execute_result"
    }
   ],
   "source": [
    "#Remove Records which have None\n",
    "df = df[df['home_ownership']!='NONE']\n",
    "set(df['home_ownership'])"
   ]
  },
  {
   "cell_type": "code",
   "execution_count": 17,
   "id": "3b3e9f1d",
   "metadata": {},
   "outputs": [
    {
     "data": {
      "text/plain": [
       "(39714, 39)"
      ]
     },
     "execution_count": 17,
     "metadata": {},
     "output_type": "execute_result"
    }
   ],
   "source": [
    "df.shape\n"
   ]
  },
  {
   "cell_type": "code",
   "execution_count": 18,
   "id": "957ac436",
   "metadata": {},
   "outputs": [
    {
     "name": "stdout",
     "output_type": "stream",
     "text": [
      "<class 'pandas.core.frame.DataFrame'>\n",
      "Int64Index: 39714 entries, 0 to 39716\n",
      "Data columns (total 39 columns):\n",
      " #   Column                   Non-Null Count  Dtype  \n",
      "---  ------                   --------------  -----  \n",
      " 0   addr_state               39714 non-null  object \n",
      " 1   annual_inc               39714 non-null  float64\n",
      " 2   collection_recovery_fee  39714 non-null  float64\n",
      " 3   delinq_2yrs              39714 non-null  int64  \n",
      " 4   dti                      39714 non-null  float64\n",
      " 5   earliest_cr_line         39714 non-null  object \n",
      " 6   emp_length               39714 non-null  object \n",
      " 7   funded_amnt              39714 non-null  int64  \n",
      " 8   funded_amnt_inv          39714 non-null  float64\n",
      " 9   grade                    39714 non-null  object \n",
      " 10  home_ownership           39714 non-null  object \n",
      " 11  initial_list_status      39714 non-null  object \n",
      " 12  inq_last_6mths           39714 non-null  int64  \n",
      " 13  installment              39714 non-null  float64\n",
      " 14  int_rate                 39714 non-null  object \n",
      " 15  issue_d                  39714 non-null  object \n",
      " 16  last_credit_pull_d       39712 non-null  object \n",
      " 17  last_pymnt_amnt          39714 non-null  float64\n",
      " 18  last_pymnt_d             39643 non-null  object \n",
      " 19  loan_amnt                39714 non-null  int64  \n",
      " 20  loan_status              39714 non-null  object \n",
      " 21  open_acc                 39714 non-null  int64  \n",
      " 22  out_prncp                39714 non-null  float64\n",
      " 23  out_prncp_inv            39714 non-null  float64\n",
      " 24  pub_rec                  39714 non-null  int64  \n",
      " 25  pub_rec_bankruptcies     39020 non-null  float64\n",
      " 26  purpose                  39714 non-null  object \n",
      " 27  recoveries               39714 non-null  float64\n",
      " 28  revol_bal                39714 non-null  int64  \n",
      " 29  revol_util               39664 non-null  object \n",
      " 30  sub_grade                39714 non-null  object \n",
      " 31  term                     39714 non-null  object \n",
      " 32  total_acc                39714 non-null  int64  \n",
      " 33  total_pymnt              39714 non-null  float64\n",
      " 34  total_pymnt_inv          39714 non-null  float64\n",
      " 35  total_rec_int            39714 non-null  float64\n",
      " 36  total_rec_late_fee       39714 non-null  float64\n",
      " 37  total_rec_prncp          39714 non-null  float64\n",
      " 38  verification_status      39714 non-null  object \n",
      "dtypes: float64(15), int64(8), object(16)\n",
      "memory usage: 12.1+ MB\n"
     ]
    }
   ],
   "source": [
    "df.info()"
   ]
  },
  {
   "cell_type": "code",
   "execution_count": 19,
   "id": "76f29282",
   "metadata": {},
   "outputs": [],
   "source": [
    "df= df[~df['revol_util'].isnull()]"
   ]
  },
  {
   "cell_type": "code",
   "execution_count": 20,
   "id": "990f864a",
   "metadata": {},
   "outputs": [
    {
     "data": {
      "text/plain": [
       "39664"
      ]
     },
     "execution_count": 20,
     "metadata": {},
     "output_type": "execute_result"
    }
   ],
   "source": [
    "df['revol_util'].isnull().count()"
   ]
  },
  {
   "cell_type": "code",
   "execution_count": 21,
   "id": "08deaaa2",
   "metadata": {},
   "outputs": [
    {
     "data": {
      "text/plain": [
       "0    83.70%\n",
       "1     9.40%\n",
       "2    98.50%\n",
       "3       21%\n",
       "4    53.90%\n",
       "Name: revol_util, dtype: object"
      ]
     },
     "execution_count": 21,
     "metadata": {},
     "output_type": "execute_result"
    }
   ],
   "source": [
    "df['revol_util'].head()"
   ]
  },
  {
   "cell_type": "code",
   "execution_count": 22,
   "id": "a98de4df",
   "metadata": {},
   "outputs": [],
   "source": [
    "df['revol_util'] = df['revol_util'].str.rstrip('%')"
   ]
  },
  {
   "cell_type": "code",
   "execution_count": 23,
   "id": "835f9ffc",
   "metadata": {},
   "outputs": [
    {
     "data": {
      "text/plain": [
       "0    83.70\n",
       "1     9.40\n",
       "2    98.50\n",
       "3       21\n",
       "4    53.90\n",
       "Name: revol_util, dtype: object"
      ]
     },
     "execution_count": 23,
     "metadata": {},
     "output_type": "execute_result"
    }
   ],
   "source": [
    "df['revol_util'].head()"
   ]
  },
  {
   "cell_type": "code",
   "execution_count": 27,
   "id": "87b0e50d",
   "metadata": {},
   "outputs": [],
   "source": [
    "def revol_util_categgories_func(x):\n",
    "    x = float(x)\n",
    "    if x <= 5:\n",
    "        return \"Extremely Good\"\n",
    "    elif (x > 5) & (x <= 30):\n",
    "        return \"Good\"\n",
    "    elif (x > 30) & (x <= 50):\n",
    "        return \"Moderate\"\n",
    "    elif (x > 50) & (x <= 70):\n",
    "        return \"Risky\"\n",
    "    elif x > 70:\n",
    "        return \"Extremely Risky\""
   ]
  },
  {
   "cell_type": "code",
   "execution_count": 28,
   "id": "05e1846f",
   "metadata": {},
   "outputs": [],
   "source": [
    "df['revol_util_categories'] = df['revol_util'].apply(lambda x: revol_util_categgories_func(x))"
   ]
  },
  {
   "cell_type": "code",
   "execution_count": 29,
   "id": "1d190efd",
   "metadata": {},
   "outputs": [
    {
     "data": {
      "text/html": [
       "<div>\n",
       "<style scoped>\n",
       "    .dataframe tbody tr th:only-of-type {\n",
       "        vertical-align: middle;\n",
       "    }\n",
       "\n",
       "    .dataframe tbody tr th {\n",
       "        vertical-align: top;\n",
       "    }\n",
       "\n",
       "    .dataframe thead th {\n",
       "        text-align: right;\n",
       "    }\n",
       "</style>\n",
       "<table border=\"1\" class=\"dataframe\">\n",
       "  <thead>\n",
       "    <tr style=\"text-align: right;\">\n",
       "      <th></th>\n",
       "      <th>addr_state</th>\n",
       "      <th>annual_inc</th>\n",
       "      <th>collection_recovery_fee</th>\n",
       "      <th>delinq_2yrs</th>\n",
       "      <th>dti</th>\n",
       "      <th>earliest_cr_line</th>\n",
       "      <th>emp_length</th>\n",
       "      <th>funded_amnt</th>\n",
       "      <th>funded_amnt_inv</th>\n",
       "      <th>grade</th>\n",
       "      <th>...</th>\n",
       "      <th>sub_grade</th>\n",
       "      <th>term</th>\n",
       "      <th>total_acc</th>\n",
       "      <th>total_pymnt</th>\n",
       "      <th>total_pymnt_inv</th>\n",
       "      <th>total_rec_int</th>\n",
       "      <th>total_rec_late_fee</th>\n",
       "      <th>total_rec_prncp</th>\n",
       "      <th>verification_status</th>\n",
       "      <th>revol_util_categgories</th>\n",
       "    </tr>\n",
       "    <tr>\n",
       "      <th>revol_util_categories</th>\n",
       "      <th></th>\n",
       "      <th></th>\n",
       "      <th></th>\n",
       "      <th></th>\n",
       "      <th></th>\n",
       "      <th></th>\n",
       "      <th></th>\n",
       "      <th></th>\n",
       "      <th></th>\n",
       "      <th></th>\n",
       "      <th></th>\n",
       "      <th></th>\n",
       "      <th></th>\n",
       "      <th></th>\n",
       "      <th></th>\n",
       "      <th></th>\n",
       "      <th></th>\n",
       "      <th></th>\n",
       "      <th></th>\n",
       "      <th></th>\n",
       "      <th></th>\n",
       "    </tr>\n",
       "  </thead>\n",
       "  <tbody>\n",
       "    <tr>\n",
       "      <th>Extremely Good</th>\n",
       "      <td>2733</td>\n",
       "      <td>2733</td>\n",
       "      <td>2733</td>\n",
       "      <td>2733</td>\n",
       "      <td>2733</td>\n",
       "      <td>2733</td>\n",
       "      <td>2733</td>\n",
       "      <td>2733</td>\n",
       "      <td>2733</td>\n",
       "      <td>2733</td>\n",
       "      <td>...</td>\n",
       "      <td>2733</td>\n",
       "      <td>2733</td>\n",
       "      <td>2733</td>\n",
       "      <td>2733</td>\n",
       "      <td>2733</td>\n",
       "      <td>2733</td>\n",
       "      <td>2733</td>\n",
       "      <td>2733</td>\n",
       "      <td>2733</td>\n",
       "      <td>2733</td>\n",
       "    </tr>\n",
       "    <tr>\n",
       "      <th>Extremely Risky</th>\n",
       "      <td>10891</td>\n",
       "      <td>10891</td>\n",
       "      <td>10891</td>\n",
       "      <td>10891</td>\n",
       "      <td>10891</td>\n",
       "      <td>10891</td>\n",
       "      <td>10891</td>\n",
       "      <td>10891</td>\n",
       "      <td>10891</td>\n",
       "      <td>10891</td>\n",
       "      <td>...</td>\n",
       "      <td>10891</td>\n",
       "      <td>10891</td>\n",
       "      <td>10891</td>\n",
       "      <td>10891</td>\n",
       "      <td>10891</td>\n",
       "      <td>10891</td>\n",
       "      <td>10891</td>\n",
       "      <td>10891</td>\n",
       "      <td>10891</td>\n",
       "      <td>10891</td>\n",
       "    </tr>\n",
       "    <tr>\n",
       "      <th>Good</th>\n",
       "      <td>8986</td>\n",
       "      <td>8986</td>\n",
       "      <td>8986</td>\n",
       "      <td>8986</td>\n",
       "      <td>8986</td>\n",
       "      <td>8986</td>\n",
       "      <td>8986</td>\n",
       "      <td>8986</td>\n",
       "      <td>8986</td>\n",
       "      <td>8986</td>\n",
       "      <td>...</td>\n",
       "      <td>8986</td>\n",
       "      <td>8986</td>\n",
       "      <td>8986</td>\n",
       "      <td>8986</td>\n",
       "      <td>8986</td>\n",
       "      <td>8986</td>\n",
       "      <td>8986</td>\n",
       "      <td>8986</td>\n",
       "      <td>8986</td>\n",
       "      <td>8986</td>\n",
       "    </tr>\n",
       "    <tr>\n",
       "      <th>Moderate</th>\n",
       "      <td>8464</td>\n",
       "      <td>8464</td>\n",
       "      <td>8464</td>\n",
       "      <td>8464</td>\n",
       "      <td>8464</td>\n",
       "      <td>8464</td>\n",
       "      <td>8464</td>\n",
       "      <td>8464</td>\n",
       "      <td>8464</td>\n",
       "      <td>8464</td>\n",
       "      <td>...</td>\n",
       "      <td>8464</td>\n",
       "      <td>8464</td>\n",
       "      <td>8464</td>\n",
       "      <td>8464</td>\n",
       "      <td>8464</td>\n",
       "      <td>8464</td>\n",
       "      <td>8464</td>\n",
       "      <td>8464</td>\n",
       "      <td>8464</td>\n",
       "      <td>8464</td>\n",
       "    </tr>\n",
       "    <tr>\n",
       "      <th>Risky</th>\n",
       "      <td>8590</td>\n",
       "      <td>8590</td>\n",
       "      <td>8590</td>\n",
       "      <td>8590</td>\n",
       "      <td>8590</td>\n",
       "      <td>8590</td>\n",
       "      <td>8590</td>\n",
       "      <td>8590</td>\n",
       "      <td>8590</td>\n",
       "      <td>8590</td>\n",
       "      <td>...</td>\n",
       "      <td>8590</td>\n",
       "      <td>8590</td>\n",
       "      <td>8590</td>\n",
       "      <td>8590</td>\n",
       "      <td>8590</td>\n",
       "      <td>8590</td>\n",
       "      <td>8590</td>\n",
       "      <td>8590</td>\n",
       "      <td>8590</td>\n",
       "      <td>8590</td>\n",
       "    </tr>\n",
       "  </tbody>\n",
       "</table>\n",
       "<p>5 rows × 40 columns</p>\n",
       "</div>"
      ],
      "text/plain": [
       "                       addr_state  annual_inc  collection_recovery_fee  \\\n",
       "revol_util_categories                                                    \n",
       "Extremely Good               2733        2733                     2733   \n",
       "Extremely Risky             10891       10891                    10891   \n",
       "Good                         8986        8986                     8986   \n",
       "Moderate                     8464        8464                     8464   \n",
       "Risky                        8590        8590                     8590   \n",
       "\n",
       "                       delinq_2yrs    dti  earliest_cr_line  emp_length  \\\n",
       "revol_util_categories                                                     \n",
       "Extremely Good                2733   2733              2733        2733   \n",
       "Extremely Risky              10891  10891             10891       10891   \n",
       "Good                          8986   8986              8986        8986   \n",
       "Moderate                      8464   8464              8464        8464   \n",
       "Risky                         8590   8590              8590        8590   \n",
       "\n",
       "                       funded_amnt  funded_amnt_inv  grade  ...  sub_grade  \\\n",
       "revol_util_categories                                       ...              \n",
       "Extremely Good                2733             2733   2733  ...       2733   \n",
       "Extremely Risky              10891            10891  10891  ...      10891   \n",
       "Good                          8986             8986   8986  ...       8986   \n",
       "Moderate                      8464             8464   8464  ...       8464   \n",
       "Risky                         8590             8590   8590  ...       8590   \n",
       "\n",
       "                        term  total_acc  total_pymnt  total_pymnt_inv  \\\n",
       "revol_util_categories                                                   \n",
       "Extremely Good          2733       2733         2733             2733   \n",
       "Extremely Risky        10891      10891        10891            10891   \n",
       "Good                    8986       8986         8986             8986   \n",
       "Moderate                8464       8464         8464             8464   \n",
       "Risky                   8590       8590         8590             8590   \n",
       "\n",
       "                       total_rec_int  total_rec_late_fee  total_rec_prncp  \\\n",
       "revol_util_categories                                                       \n",
       "Extremely Good                  2733                2733             2733   \n",
       "Extremely Risky                10891               10891            10891   \n",
       "Good                            8986                8986             8986   \n",
       "Moderate                        8464                8464             8464   \n",
       "Risky                           8590                8590             8590   \n",
       "\n",
       "                       verification_status  revol_util_categgories  \n",
       "revol_util_categories                                               \n",
       "Extremely Good                        2733                    2733  \n",
       "Extremely Risky                      10891                   10891  \n",
       "Good                                  8986                    8986  \n",
       "Moderate                              8464                    8464  \n",
       "Risky                                 8590                    8590  \n",
       "\n",
       "[5 rows x 40 columns]"
      ]
     },
     "execution_count": 29,
     "metadata": {},
     "output_type": "execute_result"
    }
   ],
   "source": [
    "df.groupby('revol_util_categories').count()"
   ]
  },
  {
   "cell_type": "code",
   "execution_count": null,
   "id": "be01ecd1",
   "metadata": {},
   "outputs": [],
   "source": []
  }
 ],
 "metadata": {
  "kernelspec": {
   "display_name": "Python 3 (ipykernel)",
   "language": "python",
   "name": "python3"
  },
  "language_info": {
   "codemirror_mode": {
    "name": "ipython",
    "version": 3
   },
   "file_extension": ".py",
   "mimetype": "text/x-python",
   "name": "python",
   "nbconvert_exporter": "python",
   "pygments_lexer": "ipython3",
   "version": "3.9.7"
  }
 },
 "nbformat": 4,
 "nbformat_minor": 5
}
