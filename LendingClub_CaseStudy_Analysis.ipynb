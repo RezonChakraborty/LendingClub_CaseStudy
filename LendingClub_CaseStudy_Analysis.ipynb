{
 "cells": [
  {
   "cell_type": "markdown",
   "id": "2d6ffd0d",
   "metadata": {},
   "source": [
    "<h3>Importing Libs</h3>"
   ]
  },
  {
   "cell_type": "code",
   "execution_count": 6,
   "id": "14d94746",
   "metadata": {},
   "outputs": [],
   "source": [
    "import pandas as pd\n",
    "import os\n",
    "import matplotlib.pyplot as plt\n",
    "import seaborn as sns"
   ]
  },
  {
   "cell_type": "markdown",
   "id": "4972dcea",
   "metadata": {},
   "source": [
    "<h3> Loading Data </h3>"
   ]
  },
  {
   "cell_type": "code",
   "execution_count": 7,
   "id": "b8a519d3",
   "metadata": {},
   "outputs": [
    {
     "name": "stderr",
     "output_type": "stream",
     "text": [
      "C:\\Users\\rezon760779\\Anaconda3\\lib\\site-packages\\IPython\\core\\interactiveshell.py:3165: DtypeWarning: Columns (47) have mixed types.Specify dtype option on import or set low_memory=False.\n",
      "  has_raised = await self.run_ast_nodes(code_ast.body, cell_name,\n"
     ]
    },
    {
     "data": {
      "text/html": [
       "<div>\n",
       "<style scoped>\n",
       "    .dataframe tbody tr th:only-of-type {\n",
       "        vertical-align: middle;\n",
       "    }\n",
       "\n",
       "    .dataframe tbody tr th {\n",
       "        vertical-align: top;\n",
       "    }\n",
       "\n",
       "    .dataframe thead th {\n",
       "        text-align: right;\n",
       "    }\n",
       "</style>\n",
       "<table border=\"1\" class=\"dataframe\">\n",
       "  <thead>\n",
       "    <tr style=\"text-align: right;\">\n",
       "      <th></th>\n",
       "      <th>id</th>\n",
       "      <th>member_id</th>\n",
       "      <th>loan_amnt</th>\n",
       "      <th>funded_amnt</th>\n",
       "      <th>funded_amnt_inv</th>\n",
       "      <th>term</th>\n",
       "      <th>int_rate</th>\n",
       "      <th>installment</th>\n",
       "      <th>grade</th>\n",
       "      <th>sub_grade</th>\n",
       "      <th>...</th>\n",
       "      <th>num_tl_90g_dpd_24m</th>\n",
       "      <th>num_tl_op_past_12m</th>\n",
       "      <th>pct_tl_nvr_dlq</th>\n",
       "      <th>percent_bc_gt_75</th>\n",
       "      <th>pub_rec_bankruptcies</th>\n",
       "      <th>tax_liens</th>\n",
       "      <th>tot_hi_cred_lim</th>\n",
       "      <th>total_bal_ex_mort</th>\n",
       "      <th>total_bc_limit</th>\n",
       "      <th>total_il_high_credit_limit</th>\n",
       "    </tr>\n",
       "  </thead>\n",
       "  <tbody>\n",
       "    <tr>\n",
       "      <th>0</th>\n",
       "      <td>1077501</td>\n",
       "      <td>1296599</td>\n",
       "      <td>5000</td>\n",
       "      <td>5000</td>\n",
       "      <td>4975.0</td>\n",
       "      <td>36 months</td>\n",
       "      <td>10.65%</td>\n",
       "      <td>162.87</td>\n",
       "      <td>B</td>\n",
       "      <td>B2</td>\n",
       "      <td>...</td>\n",
       "      <td>NaN</td>\n",
       "      <td>NaN</td>\n",
       "      <td>NaN</td>\n",
       "      <td>NaN</td>\n",
       "      <td>0.0</td>\n",
       "      <td>0.0</td>\n",
       "      <td>NaN</td>\n",
       "      <td>NaN</td>\n",
       "      <td>NaN</td>\n",
       "      <td>NaN</td>\n",
       "    </tr>\n",
       "    <tr>\n",
       "      <th>1</th>\n",
       "      <td>1077430</td>\n",
       "      <td>1314167</td>\n",
       "      <td>2500</td>\n",
       "      <td>2500</td>\n",
       "      <td>2500.0</td>\n",
       "      <td>60 months</td>\n",
       "      <td>15.27%</td>\n",
       "      <td>59.83</td>\n",
       "      <td>C</td>\n",
       "      <td>C4</td>\n",
       "      <td>...</td>\n",
       "      <td>NaN</td>\n",
       "      <td>NaN</td>\n",
       "      <td>NaN</td>\n",
       "      <td>NaN</td>\n",
       "      <td>0.0</td>\n",
       "      <td>0.0</td>\n",
       "      <td>NaN</td>\n",
       "      <td>NaN</td>\n",
       "      <td>NaN</td>\n",
       "      <td>NaN</td>\n",
       "    </tr>\n",
       "    <tr>\n",
       "      <th>2</th>\n",
       "      <td>1077175</td>\n",
       "      <td>1313524</td>\n",
       "      <td>2400</td>\n",
       "      <td>2400</td>\n",
       "      <td>2400.0</td>\n",
       "      <td>36 months</td>\n",
       "      <td>15.96%</td>\n",
       "      <td>84.33</td>\n",
       "      <td>C</td>\n",
       "      <td>C5</td>\n",
       "      <td>...</td>\n",
       "      <td>NaN</td>\n",
       "      <td>NaN</td>\n",
       "      <td>NaN</td>\n",
       "      <td>NaN</td>\n",
       "      <td>0.0</td>\n",
       "      <td>0.0</td>\n",
       "      <td>NaN</td>\n",
       "      <td>NaN</td>\n",
       "      <td>NaN</td>\n",
       "      <td>NaN</td>\n",
       "    </tr>\n",
       "    <tr>\n",
       "      <th>3</th>\n",
       "      <td>1076863</td>\n",
       "      <td>1277178</td>\n",
       "      <td>10000</td>\n",
       "      <td>10000</td>\n",
       "      <td>10000.0</td>\n",
       "      <td>36 months</td>\n",
       "      <td>13.49%</td>\n",
       "      <td>339.31</td>\n",
       "      <td>C</td>\n",
       "      <td>C1</td>\n",
       "      <td>...</td>\n",
       "      <td>NaN</td>\n",
       "      <td>NaN</td>\n",
       "      <td>NaN</td>\n",
       "      <td>NaN</td>\n",
       "      <td>0.0</td>\n",
       "      <td>0.0</td>\n",
       "      <td>NaN</td>\n",
       "      <td>NaN</td>\n",
       "      <td>NaN</td>\n",
       "      <td>NaN</td>\n",
       "    </tr>\n",
       "    <tr>\n",
       "      <th>4</th>\n",
       "      <td>1075358</td>\n",
       "      <td>1311748</td>\n",
       "      <td>3000</td>\n",
       "      <td>3000</td>\n",
       "      <td>3000.0</td>\n",
       "      <td>60 months</td>\n",
       "      <td>12.69%</td>\n",
       "      <td>67.79</td>\n",
       "      <td>B</td>\n",
       "      <td>B5</td>\n",
       "      <td>...</td>\n",
       "      <td>NaN</td>\n",
       "      <td>NaN</td>\n",
       "      <td>NaN</td>\n",
       "      <td>NaN</td>\n",
       "      <td>0.0</td>\n",
       "      <td>0.0</td>\n",
       "      <td>NaN</td>\n",
       "      <td>NaN</td>\n",
       "      <td>NaN</td>\n",
       "      <td>NaN</td>\n",
       "    </tr>\n",
       "  </tbody>\n",
       "</table>\n",
       "<p>5 rows × 111 columns</p>\n",
       "</div>"
      ],
      "text/plain": [
       "        id  member_id  loan_amnt  funded_amnt  funded_amnt_inv        term  \\\n",
       "0  1077501    1296599       5000         5000           4975.0   36 months   \n",
       "1  1077430    1314167       2500         2500           2500.0   60 months   \n",
       "2  1077175    1313524       2400         2400           2400.0   36 months   \n",
       "3  1076863    1277178      10000        10000          10000.0   36 months   \n",
       "4  1075358    1311748       3000         3000           3000.0   60 months   \n",
       "\n",
       "  int_rate  installment grade sub_grade  ... num_tl_90g_dpd_24m  \\\n",
       "0   10.65%       162.87     B        B2  ...                NaN   \n",
       "1   15.27%        59.83     C        C4  ...                NaN   \n",
       "2   15.96%        84.33     C        C5  ...                NaN   \n",
       "3   13.49%       339.31     C        C1  ...                NaN   \n",
       "4   12.69%        67.79     B        B5  ...                NaN   \n",
       "\n",
       "  num_tl_op_past_12m pct_tl_nvr_dlq  percent_bc_gt_75 pub_rec_bankruptcies  \\\n",
       "0                NaN            NaN               NaN                  0.0   \n",
       "1                NaN            NaN               NaN                  0.0   \n",
       "2                NaN            NaN               NaN                  0.0   \n",
       "3                NaN            NaN               NaN                  0.0   \n",
       "4                NaN            NaN               NaN                  0.0   \n",
       "\n",
       "  tax_liens tot_hi_cred_lim total_bal_ex_mort total_bc_limit  \\\n",
       "0       0.0             NaN               NaN            NaN   \n",
       "1       0.0             NaN               NaN            NaN   \n",
       "2       0.0             NaN               NaN            NaN   \n",
       "3       0.0             NaN               NaN            NaN   \n",
       "4       0.0             NaN               NaN            NaN   \n",
       "\n",
       "  total_il_high_credit_limit  \n",
       "0                        NaN  \n",
       "1                        NaN  \n",
       "2                        NaN  \n",
       "3                        NaN  \n",
       "4                        NaN  \n",
       "\n",
       "[5 rows x 111 columns]"
      ]
     },
     "execution_count": 7,
     "metadata": {},
     "output_type": "execute_result"
    }
   ],
   "source": [
    "dataset_path = os.path.join('loan', 'loan.csv')\n",
    "df = pd.read_csv(dataset_path)\n",
    "df.head()"
   ]
  },
  {
   "cell_type": "markdown",
   "id": "8b07af4c",
   "metadata": {},
   "source": [
    "<h3>Dataset size</h3>"
   ]
  },
  {
   "cell_type": "code",
   "execution_count": 8,
   "id": "5947d205",
   "metadata": {},
   "outputs": [
    {
     "data": {
      "text/plain": [
       "(39717, 111)"
      ]
     },
     "execution_count": 8,
     "metadata": {},
     "output_type": "execute_result"
    }
   ],
   "source": [
    "df.shape"
   ]
  },
  {
   "cell_type": "markdown",
   "id": "53a349c6",
   "metadata": {},
   "source": [
    "<h3> Checking Null Values Count On Each Columns</h3>"
   ]
  },
  {
   "cell_type": "code",
   "execution_count": 9,
   "id": "ea752819",
   "metadata": {},
   "outputs": [
    {
     "data": {
      "text/plain": [
       "id                                0\n",
       "member_id                         0\n",
       "loan_amnt                         0\n",
       "funded_amnt                       0\n",
       "funded_amnt_inv                   0\n",
       "                              ...  \n",
       "tax_liens                        39\n",
       "tot_hi_cred_lim               39717\n",
       "total_bal_ex_mort             39717\n",
       "total_bc_limit                39717\n",
       "total_il_high_credit_limit    39717\n",
       "Length: 111, dtype: int64"
      ]
     },
     "execution_count": 9,
     "metadata": {},
     "output_type": "execute_result"
    }
   ],
   "source": [
    "null_counts = df.isnull().sum()\n",
    "null_counts"
   ]
  },
  {
   "cell_type": "markdown",
   "id": "79a624eb",
   "metadata": {},
   "source": [
    "<h3>Removing All Columns which are completly Null</h3>"
   ]
  },
  {
   "cell_type": "code",
   "execution_count": 10,
   "id": "6807285c",
   "metadata": {},
   "outputs": [
    {
     "data": {
      "text/plain": [
       "(39717, 57)"
      ]
     },
     "execution_count": 10,
     "metadata": {},
     "output_type": "execute_result"
    }
   ],
   "source": [
    "df = df.dropna(axis=1, how='all')\n",
    "df.shape"
   ]
  },
  {
   "cell_type": "markdown",
   "id": "aa3f2163",
   "metadata": {},
   "source": [
    "<font color='red'>Out of 111 Columns, 54 Columns contains only null value</font><br>\n",
    "<font color='red'>Removed 54 Columns Now we have 57 Columns left to Analysis</font>"
   ]
  },
  {
   "cell_type": "markdown",
   "id": "01ff333c",
   "metadata": {},
   "source": [
    "<h4>Now Analysing Null Value Count of Remaning Columns</h4>"
   ]
  },
  {
   "cell_type": "code",
   "execution_count": 11,
   "id": "c7ee1197",
   "metadata": {},
   "outputs": [
    {
     "data": {
      "image/png": "[encoded data removed]",
      "text/plain": [
       "<Figure size 432x288 with 1 Axes>"
      ]
     },
     "metadata": {
      "needs_background": "light"
     },
     "output_type": "display_data"
    },
    {
     "data": {
      "text/plain": [
       "<Figure size 864x576 with 0 Axes>"
      ]
     },
     "metadata": {},
     "output_type": "display_data"
    }
   ],
   "source": [
    "# Count the null values in each column\n",
    "null_counts = df.isnull().sum()\n",
    "null_counts = null_counts[null_counts > 0]\n",
    "# Create a bar plot\n",
    "null_counts.plot(kind='bar')\n",
    "\n",
    "# Customize the plot\n",
    "plt.title('Null Values by Column', fontsize=14)\n",
    "plt.xlabel('Columns', fontsize=12)\n",
    "plt.ylabel('Number of Null Values (log scale)', fontsize=12)  # Update the y-label text\n",
    "plt.xticks(rotation=45, ha='right', fontsize=10)\n",
    "\n",
    "# Increase the size of the plot window\n",
    "plt.figure(figsize=(12, 8))\n",
    "\n",
    "# Display the plot\n",
    "plt.tight_layout()\n",
    "plt.show()"
   ]
  },
  {
   "cell_type": "markdown",
   "id": "f8e3ccf6",
   "metadata": {},
   "source": [
    "<h3>Removing below Columns as it not possible to fix Missing Values</h3>\n",
    "    <br>\n",
    "<b><font color=\"Blue\">mths_since_last_delinq</font>&nbsp;</b> {The number of months since the borrower's last delinquency.} <br>\n",
    "<b><font color=\"Blue\">mths_since_last_record</font>&nbsp;</b> {The number of months since the last public record.}<br>\n",
    "<b><font color=\"Blue\">next_pymnt_d</font>&nbsp;</b>\t{Next scheduled payment date}<br>\n",
    "\n",
    "Also Removing <b><font color=\"Blue\">desc</font>&nbsp;</b> as it can't be standardised<br>\n",
    "<b><font color=\"Blue\">desc</font>&nbsp;</b>\t{Loan description provided by the borrower}<br>"
   ]
  },
  {
   "cell_type": "code",
   "execution_count": 12,
   "id": "d531244d",
   "metadata": {},
   "outputs": [
    {
     "data": {
      "text/plain": [
       "(39717, 53)"
      ]
     },
     "execution_count": 12,
     "metadata": {},
     "output_type": "execute_result"
    }
   ],
   "source": [
    "columns_to_drop = ['mths_since_last_delinq', 'mths_since_last_record', 'next_pymnt_d', 'desc']\n",
    "df = df.drop(columns=columns_to_drop)\n",
    "df.shape\n",
    "\n"
   ]
  },
  {
   "cell_type": "code",
   "execution_count": 13,
   "id": "5c4fab2e",
   "metadata": {},
   "outputs": [
    {
     "data": {
      "text/plain": [
       "(39717, 39)"
      ]
     },
     "execution_count": 13,
     "metadata": {},
     "output_type": "execute_result"
    }
   ],
   "source": [
    "Final_columns = ['addr_state',\n",
    "'annual_inc',\n",
    "'collection_recovery_fee',\n",
    "'delinq_2yrs',\n",
    "'dti',\n",
    "'earliest_cr_line',\n",
    "'emp_length',\n",
    "'funded_amnt',\n",
    "'funded_amnt_inv',\n",
    "'grade',\n",
    "'home_ownership',\n",
    "'initial_list_status',\n",
    "'inq_last_6mths',\n",
    "'installment',\n",
    "'int_rate',\n",
    "'issue_d',\n",
    "'last_credit_pull_d',\n",
    "'last_pymnt_amnt',\n",
    "'last_pymnt_d',\n",
    "'loan_amnt',\n",
    "'loan_status',\n",
    "'open_acc',\n",
    "'out_prncp',\n",
    "'out_prncp_inv',\n",
    "'pub_rec',\n",
    "'pub_rec_bankruptcies',\n",
    "'purpose',\n",
    "'recoveries',\n",
    "'revol_bal',\n",
    "'revol_util',\n",
    "'sub_grade',\n",
    "'term',\n",
    "'total_acc',\n",
    "'total_pymnt',\n",
    "'total_pymnt_inv',\n",
    "'total_rec_int',\n",
    "'total_rec_late_fee',\n",
    "'total_rec_prncp',\n",
    "'verification_status']\n",
    "df = df[Final_columns]\n",
    "df.shape"
   ]
  },
  {
   "cell_type": "markdown",
   "id": "1bd1d814",
   "metadata": {},
   "source": [
    "<h6><font color='red'>Removed 4 columns now we left with 53 Columns</font></h6>"
   ]
  },
  {
   "cell_type": "code",
   "execution_count": 14,
   "id": "7ffc673b",
   "metadata": {},
   "outputs": [
    {
     "data": {
      "image/png": "[encoded data removed]",
      "text/plain": [
       "<Figure size 432x288 with 1 Axes>"
      ]
     },
     "metadata": {
      "needs_background": "light"
     },
     "output_type": "display_data"
    },
    {
     "data": {
      "text/plain": [
       "<Figure size 864x576 with 0 Axes>"
      ]
     },
     "metadata": {},
     "output_type": "display_data"
    }
   ],
   "source": [
    "# Count the null values in each column\n",
    "null_counts = df.isnull().sum()\n",
    "null_counts = null_counts[null_counts > 0]\n",
    "# Create a bar plot\n",
    "null_counts.plot(kind='bar')\n",
    "\n",
    "# Customize the plot\n",
    "plt.title('Null Values by Column', fontsize=14)\n",
    "plt.xlabel('Columns', fontsize=12)\n",
    "plt.ylabel('Number of Null Values (log scale)', fontsize=12)  # Update the y-label text\n",
    "plt.xticks(rotation=45, ha='right', fontsize=10)\n",
    "\n",
    "# Increase the size of the plot window\n",
    "plt.figure(figsize=(12, 8))\n",
    "\n",
    "# Display the plot\n",
    "plt.tight_layout()\n",
    "plt.show()"
   ]
  },
  {
   "cell_type": "code",
   "execution_count": 15,
   "id": "53eaa943",
   "metadata": {},
   "outputs": [
    {
     "data": {
      "text/plain": [
       "Index(['addr_state', 'annual_inc', 'collection_recovery_fee', 'delinq_2yrs',\n",
       "       'dti', 'earliest_cr_line', 'emp_length', 'funded_amnt',\n",
       "       'funded_amnt_inv', 'grade', 'home_ownership', 'initial_list_status',\n",
       "       'inq_last_6mths', 'installment', 'int_rate', 'issue_d',\n",
       "       'last_credit_pull_d', 'last_pymnt_amnt', 'last_pymnt_d', 'loan_amnt',\n",
       "       'loan_status', 'open_acc', 'out_prncp', 'out_prncp_inv', 'pub_rec',\n",
       "       'pub_rec_bankruptcies', 'purpose', 'recoveries', 'revol_bal',\n",
       "       'revol_util', 'sub_grade', 'term', 'total_acc', 'total_pymnt',\n",
       "       'total_pymnt_inv', 'total_rec_int', 'total_rec_late_fee',\n",
       "       'total_rec_prncp', 'verification_status'],\n",
       "      dtype='object')"
      ]
     },
     "execution_count": 15,
     "metadata": {},
     "output_type": "execute_result"
    }
   ],
   "source": [
    "df.columns"
   ]
  },
  {
   "cell_type": "code",
   "execution_count": 16,
   "id": "4f09950d",
   "metadata": {},
   "outputs": [
    {
     "data": {
      "text/plain": [
       "0        0\n",
       "1        0\n",
       "2        0\n",
       "3        0\n",
       "4        0\n",
       "        ..\n",
       "39712    1\n",
       "39713    1\n",
       "39714    1\n",
       "39715    1\n",
       "39716    1\n",
       "Length: 39717, dtype: int64"
      ]
     },
     "execution_count": 16,
     "metadata": {},
     "output_type": "execute_result"
    }
   ],
   "source": [
    "#Check Missing Values in Rows\n",
    "df.isnull().sum(axis=1)"
   ]
  },
  {
   "cell_type": "code",
   "execution_count": 17,
   "id": "69016ef3",
   "metadata": {},
   "outputs": [
    {
     "data": {
      "text/plain": [
       "{'1 year',\n",
       " '10+ years',\n",
       " '2 years',\n",
       " '3 years',\n",
       " '4 years',\n",
       " '5 years',\n",
       " '6 years',\n",
       " '7 years',\n",
       " '8 years',\n",
       " '9 years',\n",
       " '< 1 year',\n",
       " nan}"
      ]
     },
     "execution_count": 17,
     "metadata": {},
     "output_type": "execute_result"
    }
   ],
   "source": [
    "set(df['emp_length'])"
   ]
  },
  {
   "cell_type": "code",
   "execution_count": 18,
   "id": "08166acf",
   "metadata": {},
   "outputs": [
    {
     "data": {
      "text/plain": [
       "{0,\n",
       " '1 year',\n",
       " '10+ years',\n",
       " '2 years',\n",
       " '3 years',\n",
       " '4 years',\n",
       " '5 years',\n",
       " '6 years',\n",
       " '7 years',\n",
       " '8 years',\n",
       " '9 years',\n",
       " '< 1 year'}"
      ]
     },
     "execution_count": 18,
     "metadata": {},
     "output_type": "execute_result"
    }
   ],
   "source": [
    "#In emp_length there are nan values present, filling 'nan' with 0\n",
    "df['emp_length'] = df['emp_length'].fillna(0)\n",
    "set(df['emp_length'])"
   ]
  },
  {
   "cell_type": "code",
   "execution_count": 19,
   "id": "940762de",
   "metadata": {},
   "outputs": [
    {
     "data": {
      "text/plain": [
       "{'MORTGAGE', 'NONE', 'OTHER', 'OWN', 'RENT'}"
      ]
     },
     "execution_count": 19,
     "metadata": {},
     "output_type": "execute_result"
    }
   ],
   "source": [
    "set(df['home_ownership'])"
   ]
  },
  {
   "cell_type": "code",
   "execution_count": 20,
   "id": "0cd6596a",
   "metadata": {},
   "outputs": [
    {
     "data": {
      "text/plain": [
       "{'MORTGAGE', 'OTHER', 'OWN', 'RENT'}"
      ]
     },
     "execution_count": 20,
     "metadata": {},
     "output_type": "execute_result"
    }
   ],
   "source": [
    "#Remove Records which have None\n",
    "df = df[df['home_ownership']!='NONE']\n",
    "set(df['home_ownership'])"
   ]
  },
  {
   "cell_type": "code",
   "execution_count": 21,
   "id": "3b3e9f1d",
   "metadata": {},
   "outputs": [
    {
     "data": {
      "text/plain": [
       "(39714, 39)"
      ]
     },
     "execution_count": 21,
     "metadata": {},
     "output_type": "execute_result"
    }
   ],
   "source": [
    "df.shape\n"
   ]
  },
  {
   "cell_type": "code",
   "execution_count": 22,
   "id": "957ac436",
   "metadata": {},
   "outputs": [
    {
     "name": "stdout",
     "output_type": "stream",
     "text": [
      "<class 'pandas.core.frame.DataFrame'>\n",
      "Int64Index: 39714 entries, 0 to 39716\n",
      "Data columns (total 39 columns):\n",
      " #   Column                   Non-Null Count  Dtype  \n",
      "---  ------                   --------------  -----  \n",
      " 0   addr_state               39714 non-null  object \n",
      " 1   annual_inc               39714 non-null  float64\n",
      " 2   collection_recovery_fee  39714 non-null  float64\n",
      " 3   delinq_2yrs              39714 non-null  int64  \n",
      " 4   dti                      39714 non-null  float64\n",
      " 5   earliest_cr_line         39714 non-null  object \n",
      " 6   emp_length               39714 non-null  object \n",
      " 7   funded_amnt              39714 non-null  int64  \n",
      " 8   funded_amnt_inv          39714 non-null  float64\n",
      " 9   grade                    39714 non-null  object \n",
      " 10  home_ownership           39714 non-null  object \n",
      " 11  initial_list_status      39714 non-null  object \n",
      " 12  inq_last_6mths           39714 non-null  int64  \n",
      " 13  installment              39714 non-null  float64\n",
      " 14  int_rate                 39714 non-null  object \n",
      " 15  issue_d                  39714 non-null  object \n",
      " 16  last_credit_pull_d       39712 non-null  object \n",
      " 17  last_pymnt_amnt          39714 non-null  float64\n",
      " 18  last_pymnt_d             39643 non-null  object \n",
      " 19  loan_amnt                39714 non-null  int64  \n",
      " 20  loan_status              39714 non-null  object \n",
      " 21  open_acc                 39714 non-null  int64  \n",
      " 22  out_prncp                39714 non-null  float64\n",
      " 23  out_prncp_inv            39714 non-null  float64\n",
      " 24  pub_rec                  39714 non-null  int64  \n",
      " 25  pub_rec_bankruptcies     39020 non-null  float64\n",
      " 26  purpose                  39714 non-null  object \n",
      " 27  recoveries               39714 non-null  float64\n",
      " 28  revol_bal                39714 non-null  int64  \n",
      " 29  revol_util               39664 non-null  object \n",
      " 30  sub_grade                39714 non-null  object \n",
      " 31  term                     39714 non-null  object \n",
      " 32  total_acc                39714 non-null  int64  \n",
      " 33  total_pymnt              39714 non-null  float64\n",
      " 34  total_pymnt_inv          39714 non-null  float64\n",
      " 35  total_rec_int            39714 non-null  float64\n",
      " 36  total_rec_late_fee       39714 non-null  float64\n",
      " 37  total_rec_prncp          39714 non-null  float64\n",
      " 38  verification_status      39714 non-null  object \n",
      "dtypes: float64(15), int64(8), object(16)\n",
      "memory usage: 12.1+ MB\n"
     ]
    }
   ],
   "source": [
    "df.info()"
   ]
  },
  {
   "cell_type": "code",
   "execution_count": 23,
   "id": "76f29282",
   "metadata": {},
   "outputs": [],
   "source": [
    "df= df[~df['revol_util'].isnull()]"
   ]
  },
  {
   "cell_type": "code",
   "execution_count": 24,
   "id": "990f864a",
   "metadata": {},
   "outputs": [
    {
     "data": {
      "text/plain": [
       "39664"
      ]
     },
     "execution_count": 24,
     "metadata": {},
     "output_type": "execute_result"
    }
   ],
   "source": [
    "df['revol_util'].isnull().count()"
   ]
  },
  {
   "cell_type": "code",
   "execution_count": 25,
   "id": "08deaaa2",
   "metadata": {},
   "outputs": [
    {
     "data": {
      "text/plain": [
       "0    83.70%\n",
       "1     9.40%\n",
       "2    98.50%\n",
       "3       21%\n",
       "4    53.90%\n",
       "Name: revol_util, dtype: object"
      ]
     },
     "execution_count": 25,
     "metadata": {},
     "output_type": "execute_result"
    }
   ],
   "source": [
    "df['revol_util'].head()"
   ]
  },
  {
   "cell_type": "code",
   "execution_count": 26,
   "id": "a98de4df",
   "metadata": {},
   "outputs": [],
   "source": [
    "df['revol_util'] = df['revol_util'].str.rstrip('%')"
   ]
  },
  {
   "cell_type": "code",
   "execution_count": 27,
   "id": "835f9ffc",
   "metadata": {},
   "outputs": [
    {
     "data": {
      "text/plain": [
       "0    83.70\n",
       "1     9.40\n",
       "2    98.50\n",
       "3       21\n",
       "4    53.90\n",
       "Name: revol_util, dtype: object"
      ]
     },
     "execution_count": 27,
     "metadata": {},
     "output_type": "execute_result"
    }
   ],
   "source": [
    "df['revol_util'].head()"
   ]
  },
  {
   "cell_type": "code",
   "execution_count": 28,
   "id": "87b0e50d",
   "metadata": {},
   "outputs": [],
   "source": [
    "def revol_util_categgories_func(x):\n",
    "    x = float(x)\n",
    "    if x <= 5:\n",
    "        return \"Extremely Good\"\n",
    "    elif (x > 5) & (x <= 30):\n",
    "        return \"Good\"\n",
    "    elif (x > 30) & (x <= 50):\n",
    "        return \"Moderate\"\n",
    "    elif (x > 50) & (x <= 70):\n",
    "        return \"Risky\"\n",
    "    elif x > 70:\n",
    "        return \"Extremely Risky\""
   ]
  },
  {
   "cell_type": "code",
   "execution_count": 29,
   "id": "05e1846f",
   "metadata": {},
   "outputs": [],
   "source": [
    "df['revol_util_categories'] = df['revol_util'].apply(lambda x: revol_util_categgories_func(x))"
   ]
  },
  {
   "cell_type": "code",
   "execution_count": 30,
   "id": "1d190efd",
   "metadata": {},
   "outputs": [
    {
     "data": {
      "text/html": [
       "<div>\n",
       "<style scoped>\n",
       "    .dataframe tbody tr th:only-of-type {\n",
       "        vertical-align: middle;\n",
       "    }\n",
       "\n",
       "    .dataframe tbody tr th {\n",
       "        vertical-align: top;\n",
       "    }\n",
       "\n",
       "    .dataframe thead th {\n",
       "        text-align: right;\n",
       "    }\n",
       "</style>\n",
       "<table border=\"1\" class=\"dataframe\">\n",
       "  <thead>\n",
       "    <tr style=\"text-align: right;\">\n",
       "      <th></th>\n",
       "      <th>addr_state</th>\n",
       "      <th>annual_inc</th>\n",
       "      <th>collection_recovery_fee</th>\n",
       "      <th>delinq_2yrs</th>\n",
       "      <th>dti</th>\n",
       "      <th>earliest_cr_line</th>\n",
       "      <th>emp_length</th>\n",
       "      <th>funded_amnt</th>\n",
       "      <th>funded_amnt_inv</th>\n",
       "      <th>grade</th>\n",
       "      <th>...</th>\n",
       "      <th>revol_util</th>\n",
       "      <th>sub_grade</th>\n",
       "      <th>term</th>\n",
       "      <th>total_acc</th>\n",
       "      <th>total_pymnt</th>\n",
       "      <th>total_pymnt_inv</th>\n",
       "      <th>total_rec_int</th>\n",
       "      <th>total_rec_late_fee</th>\n",
       "      <th>total_rec_prncp</th>\n",
       "      <th>verification_status</th>\n",
       "    </tr>\n",
       "    <tr>\n",
       "      <th>revol_util_categories</th>\n",
       "      <th></th>\n",
       "      <th></th>\n",
       "      <th></th>\n",
       "      <th></th>\n",
       "      <th></th>\n",
       "      <th></th>\n",
       "      <th></th>\n",
       "      <th></th>\n",
       "      <th></th>\n",
       "      <th></th>\n",
       "      <th></th>\n",
       "      <th></th>\n",
       "      <th></th>\n",
       "      <th></th>\n",
       "      <th></th>\n",
       "      <th></th>\n",
       "      <th></th>\n",
       "      <th></th>\n",
       "      <th></th>\n",
       "      <th></th>\n",
       "      <th></th>\n",
       "    </tr>\n",
       "  </thead>\n",
       "  <tbody>\n",
       "    <tr>\n",
       "      <th>Extremely Good</th>\n",
       "      <td>2733</td>\n",
       "      <td>2733</td>\n",
       "      <td>2733</td>\n",
       "      <td>2733</td>\n",
       "      <td>2733</td>\n",
       "      <td>2733</td>\n",
       "      <td>2733</td>\n",
       "      <td>2733</td>\n",
       "      <td>2733</td>\n",
       "      <td>2733</td>\n",
       "      <td>...</td>\n",
       "      <td>2733</td>\n",
       "      <td>2733</td>\n",
       "      <td>2733</td>\n",
       "      <td>2733</td>\n",
       "      <td>2733</td>\n",
       "      <td>2733</td>\n",
       "      <td>2733</td>\n",
       "      <td>2733</td>\n",
       "      <td>2733</td>\n",
       "      <td>2733</td>\n",
       "    </tr>\n",
       "    <tr>\n",
       "      <th>Extremely Risky</th>\n",
       "      <td>10891</td>\n",
       "      <td>10891</td>\n",
       "      <td>10891</td>\n",
       "      <td>10891</td>\n",
       "      <td>10891</td>\n",
       "      <td>10891</td>\n",
       "      <td>10891</td>\n",
       "      <td>10891</td>\n",
       "      <td>10891</td>\n",
       "      <td>10891</td>\n",
       "      <td>...</td>\n",
       "      <td>10891</td>\n",
       "      <td>10891</td>\n",
       "      <td>10891</td>\n",
       "      <td>10891</td>\n",
       "      <td>10891</td>\n",
       "      <td>10891</td>\n",
       "      <td>10891</td>\n",
       "      <td>10891</td>\n",
       "      <td>10891</td>\n",
       "      <td>10891</td>\n",
       "    </tr>\n",
       "    <tr>\n",
       "      <th>Good</th>\n",
       "      <td>8986</td>\n",
       "      <td>8986</td>\n",
       "      <td>8986</td>\n",
       "      <td>8986</td>\n",
       "      <td>8986</td>\n",
       "      <td>8986</td>\n",
       "      <td>8986</td>\n",
       "      <td>8986</td>\n",
       "      <td>8986</td>\n",
       "      <td>8986</td>\n",
       "      <td>...</td>\n",
       "      <td>8986</td>\n",
       "      <td>8986</td>\n",
       "      <td>8986</td>\n",
       "      <td>8986</td>\n",
       "      <td>8986</td>\n",
       "      <td>8986</td>\n",
       "      <td>8986</td>\n",
       "      <td>8986</td>\n",
       "      <td>8986</td>\n",
       "      <td>8986</td>\n",
       "    </tr>\n",
       "    <tr>\n",
       "      <th>Moderate</th>\n",
       "      <td>8464</td>\n",
       "      <td>8464</td>\n",
       "      <td>8464</td>\n",
       "      <td>8464</td>\n",
       "      <td>8464</td>\n",
       "      <td>8464</td>\n",
       "      <td>8464</td>\n",
       "      <td>8464</td>\n",
       "      <td>8464</td>\n",
       "      <td>8464</td>\n",
       "      <td>...</td>\n",
       "      <td>8464</td>\n",
       "      <td>8464</td>\n",
       "      <td>8464</td>\n",
       "      <td>8464</td>\n",
       "      <td>8464</td>\n",
       "      <td>8464</td>\n",
       "      <td>8464</td>\n",
       "      <td>8464</td>\n",
       "      <td>8464</td>\n",
       "      <td>8464</td>\n",
       "    </tr>\n",
       "    <tr>\n",
       "      <th>Risky</th>\n",
       "      <td>8590</td>\n",
       "      <td>8590</td>\n",
       "      <td>8590</td>\n",
       "      <td>8590</td>\n",
       "      <td>8590</td>\n",
       "      <td>8590</td>\n",
       "      <td>8590</td>\n",
       "      <td>8590</td>\n",
       "      <td>8590</td>\n",
       "      <td>8590</td>\n",
       "      <td>...</td>\n",
       "      <td>8590</td>\n",
       "      <td>8590</td>\n",
       "      <td>8590</td>\n",
       "      <td>8590</td>\n",
       "      <td>8590</td>\n",
       "      <td>8590</td>\n",
       "      <td>8590</td>\n",
       "      <td>8590</td>\n",
       "      <td>8590</td>\n",
       "      <td>8590</td>\n",
       "    </tr>\n",
       "  </tbody>\n",
       "</table>\n",
       "<p>5 rows × 39 columns</p>\n",
       "</div>"
      ],
      "text/plain": [
       "                       addr_state  annual_inc  collection_recovery_fee  \\\n",
       "revol_util_categories                                                    \n",
       "Extremely Good               2733        2733                     2733   \n",
       "Extremely Risky             10891       10891                    10891   \n",
       "Good                         8986        8986                     8986   \n",
       "Moderate                     8464        8464                     8464   \n",
       "Risky                        8590        8590                     8590   \n",
       "\n",
       "                       delinq_2yrs    dti  earliest_cr_line  emp_length  \\\n",
       "revol_util_categories                                                     \n",
       "Extremely Good                2733   2733              2733        2733   \n",
       "Extremely Risky              10891  10891             10891       10891   \n",
       "Good                          8986   8986              8986        8986   \n",
       "Moderate                      8464   8464              8464        8464   \n",
       "Risky                         8590   8590              8590        8590   \n",
       "\n",
       "                       funded_amnt  funded_amnt_inv  grade  ...  revol_util  \\\n",
       "revol_util_categories                                       ...               \n",
       "Extremely Good                2733             2733   2733  ...        2733   \n",
       "Extremely Risky              10891            10891  10891  ...       10891   \n",
       "Good                          8986             8986   8986  ...        8986   \n",
       "Moderate                      8464             8464   8464  ...        8464   \n",
       "Risky                         8590             8590   8590  ...        8590   \n",
       "\n",
       "                       sub_grade   term  total_acc  total_pymnt  \\\n",
       "revol_util_categories                                             \n",
       "Extremely Good              2733   2733       2733         2733   \n",
       "Extremely Risky            10891  10891      10891        10891   \n",
       "Good                        8986   8986       8986         8986   \n",
       "Moderate                    8464   8464       8464         8464   \n",
       "Risky                       8590   8590       8590         8590   \n",
       "\n",
       "                       total_pymnt_inv  total_rec_int  total_rec_late_fee  \\\n",
       "revol_util_categories                                                       \n",
       "Extremely Good                    2733           2733                2733   \n",
       "Extremely Risky                  10891          10891               10891   \n",
       "Good                              8986           8986                8986   \n",
       "Moderate                          8464           8464                8464   \n",
       "Risky                             8590           8590                8590   \n",
       "\n",
       "                       total_rec_prncp  verification_status  \n",
       "revol_util_categories                                        \n",
       "Extremely Good                    2733                 2733  \n",
       "Extremely Risky                  10891                10891  \n",
       "Good                              8986                 8986  \n",
       "Moderate                          8464                 8464  \n",
       "Risky                             8590                 8590  \n",
       "\n",
       "[5 rows x 39 columns]"
      ]
     },
     "execution_count": 30,
     "metadata": {},
     "output_type": "execute_result"
    }
   ],
   "source": [
    "df.groupby('revol_util_categories').count()"
   ]
  },
  {
   "cell_type": "code",
   "execution_count": 31,
   "id": "be01ecd1",
   "metadata": {},
   "outputs": [
    {
     "data": {
      "image/png": "[encoded data removed]",
      "text/plain": [
       "<Figure size 720x504 with 1 Axes>"
      ]
     },
     "metadata": {
      "needs_background": "light"
     },
     "output_type": "display_data"
    },
    {
     "name": "stdout",
     "output_type": "stream",
     "text": [
      "Number of outliers  (828, 40)\n"
     ]
    }
   ],
   "source": [
    "loan_amount_data = [df[df['loan_amnt'] < 30000].loan_amnt, df['loan_amnt']]\n",
    "loan_amount_fig = plt.figure(figsize =(10, 7))\n",
    "ax = loan_amount_fig.add_axes([0,0,1,1])\n",
    "ax.boxplot(loan_amount_data)\n",
    "plt.show()\n",
    "print(\"Number of outliers \",df[df['loan_amnt'] > 30000].shape)"
   ]
  },
  {
   "cell_type": "markdown",
   "id": "931195c5",
   "metadata": {},
   "source": [
    "It is evident that the loan amount is ranged between <b>5000 and 15000</b> i.e the 1st quartile and the 3rd quartile respectively with an inter quartile range of <b>10000</b> and the maximum amount is closer to <b>30000</b> and the minimum loan amount is closer to <b>1000</b>. The box plot confirms that outliers are present for loan amount above <b>30000</b> that are <b>828 rows/loan accounts</b>."
   ]
  },
  {
   "cell_type": "code",
   "execution_count": 32,
   "id": "ac86691f",
   "metadata": {},
   "outputs": [
    {
     "name": "stdout",
     "output_type": "stream",
     "text": [
      "(39664, 40)\n",
      "(38459, 40)\n"
     ]
    }
   ],
   "source": [
    "print(df.shape)\n",
    "df = df.drop(df[df['loan_amnt'] >= 30000].index)\n",
    "print(df.shape)"
   ]
  },
  {
   "cell_type": "code",
   "execution_count": 36,
   "id": "340678bb",
   "metadata": {},
   "outputs": [
    {
     "data": {
      "image/png": "[encoded data removed]",
      "text/plain": [
       "<Figure size 720x504 with 1 Axes>"
      ]
     },
     "metadata": {
      "needs_background": "light"
     },
     "output_type": "display_data"
    }
   ],
   "source": [
    "annual_income_data = [df[df['annual_inc'] < 130000].annual_inc, df['annual_inc']]\n",
    "annual_income_fig = plt.figure(figsize =(10, 7))\n",
    "ax = annual_income_fig.add_axes([0,0,1,1])\n",
    "ax.boxplot(annual_income_data)\n",
    "plt.show()"
   ]
  },
  {
   "cell_type": "code",
   "execution_count": 37,
   "id": "cecfba00",
   "metadata": {},
   "outputs": [
    {
     "name": "stdout",
     "output_type": "stream",
     "text": [
      "(36098, 40)\n"
     ]
    }
   ],
   "source": [
    "df = df.drop(df[df['annual_inc'] >= 130000].index)\n",
    "print(df.shape)"
   ]
  },
  {
   "cell_type": "code",
   "execution_count": 38,
   "id": "5cfa4e10",
   "metadata": {},
   "outputs": [
    {
     "data": {
      "image/png": "[encoded data removed]",
      "text/plain": [
       "<Figure size 720x504 with 1 Axes>"
      ]
     },
     "metadata": {
      "needs_background": "light"
     },
     "output_type": "display_data"
    }
   ],
   "source": [
    "annual_income_data = df['annual_inc']\n",
    "annual_income_fig = plt.figure(figsize =(10, 7))\n",
    "ax = annual_income_fig.add_axes([0,0,1,1])\n",
    "ax.boxplot(annual_income_data)\n",
    "plt.show()"
   ]
  },
  {
   "cell_type": "code",
   "execution_count": 42,
   "id": "556e0b41",
   "metadata": {},
   "outputs": [],
   "source": [
    "df['int_rate'] = pd.to_numeric(df['int_rate'].str.rstrip(\"%\"))"
   ]
  },
  {
   "cell_type": "code",
   "execution_count": 43,
   "id": "6b881628",
   "metadata": {},
   "outputs": [
    {
     "data": {
      "image/png": "[encoded data removed]",
      "text/plain": [
       "<Figure size 720x504 with 1 Axes>"
      ]
     },
     "metadata": {
      "needs_background": "light"
     },
     "output_type": "display_data"
    }
   ],
   "source": [
    "annual_income_data = [df[df['int_rate'] < 22 ].int_rate, df['int_rate']]\n",
    "annual_income_fig = plt.figure(figsize =(10, 7))\n",
    "ax = annual_income_fig.add_axes([0,0,1,1])\n",
    "ax.boxplot(annual_income_data)\n",
    "plt.show()"
   ]
  },
  {
   "cell_type": "code",
   "execution_count": 44,
   "id": "32adfc06",
   "metadata": {},
   "outputs": [
    {
     "name": "stdout",
     "output_type": "stream",
     "text": [
      "(108, 40)\n"
     ]
    }
   ],
   "source": [
    "df = df.drop(df[df['int_rate'] > 22 ].index)\n",
    "print(df.shape)"
   ]
  },
  {
   "cell_type": "code",
   "execution_count": 52,
   "id": "c42b0535",
   "metadata": {},
   "outputs": [],
   "source": [
    "int_rate_bins = [0, 5, 10, 12.5, 15, 22]\n",
    "int_rate_labels = ['0-5', '5-10', '10-12.5', '12.5-15', '15+']\n",
    "df['int_rate'] = pd.to_numeric(df['int_rate'], errors='coerce')\n",
    "# Creating a new column 'int_rate_catgs' based on the categorized interest rates\n",
    "df['int_rate_catgs'] = pd.cut(df['int_rate'], bins=int_rate_bins, labels=int_rate_labels)"
   ]
  },
  {
   "cell_type": "code",
   "execution_count": null,
   "id": "4f1ed25f",
   "metadata": {},
   "outputs": [],
   "source": [
    "df['int_rate_catgs'].head()"
   ]
  },
  {
   "cell_type": "code",
   "execution_count": 32,
   "id": "fc7cfd3f",
   "metadata": {},
   "outputs": [],
   "source": [
    "def normalise_loan_amnt(loan_amount):\n",
    "    if loan_amount >= 500 and loan_amount < 5500:\n",
    "        return \"Low\"\n",
    "    elif loan_amount >= 5500 and loan_amount < 10000:\n",
    "        return \"Medium\"\n",
    "    elif loan_amount >= 10000 and loan_amount < 15000:\n",
    "        return \"High\"\n",
    "    elif loan_amount >= 15000:\n",
    "        return \"Very High\""
   ]
  },
  {
   "cell_type": "markdown",
   "id": "7f1d76ee",
   "metadata": {},
   "source": [
    "<h2>Bivariate Analysis</h2>"
   ]
  },
  {
   "cell_type": "code",
   "execution_count": 35,
   "id": "3730dc2f",
   "metadata": {},
   "outputs": [
    {
     "data": {
      "text/html": [
       "<div>\n",
       "<style scoped>\n",
       "    .dataframe tbody tr th:only-of-type {\n",
       "        vertical-align: middle;\n",
       "    }\n",
       "\n",
       "    .dataframe tbody tr th {\n",
       "        vertical-align: top;\n",
       "    }\n",
       "\n",
       "    .dataframe thead th {\n",
       "        text-align: right;\n",
       "    }\n",
       "</style>\n",
       "<table border=\"1\" class=\"dataframe\">\n",
       "  <thead>\n",
       "    <tr style=\"text-align: right;\">\n",
       "      <th>loan_status</th>\n",
       "      <th>purpose</th>\n",
       "      <th>Charged Off</th>\n",
       "      <th>Current</th>\n",
       "      <th>Fully Paid</th>\n",
       "      <th>Total</th>\n",
       "      <th>Chargedoff_Proportion</th>\n",
       "    </tr>\n",
       "  </thead>\n",
       "  <tbody>\n",
       "    <tr>\n",
       "      <th>11</th>\n",
       "      <td>small_business</td>\n",
       "      <td>475.0</td>\n",
       "      <td>74.0</td>\n",
       "      <td>1278.0</td>\n",
       "      <td>1827.0</td>\n",
       "      <td>0.259989</td>\n",
       "    </tr>\n",
       "    <tr>\n",
       "      <th>10</th>\n",
       "      <td>renewable_energy</td>\n",
       "      <td>19.0</td>\n",
       "      <td>1.0</td>\n",
       "      <td>83.0</td>\n",
       "      <td>103.0</td>\n",
       "      <td>0.184466</td>\n",
       "    </tr>\n",
       "    <tr>\n",
       "      <th>3</th>\n",
       "      <td>educational</td>\n",
       "      <td>56.0</td>\n",
       "      <td>0.0</td>\n",
       "      <td>266.0</td>\n",
       "      <td>322.0</td>\n",
       "      <td>0.173913</td>\n",
       "    </tr>\n",
       "    <tr>\n",
       "      <th>8</th>\n",
       "      <td>moving</td>\n",
       "      <td>92.0</td>\n",
       "      <td>7.0</td>\n",
       "      <td>482.0</td>\n",
       "      <td>581.0</td>\n",
       "      <td>0.158348</td>\n",
       "    </tr>\n",
       "    <tr>\n",
       "      <th>9</th>\n",
       "      <td>other</td>\n",
       "      <td>629.0</td>\n",
       "      <td>128.0</td>\n",
       "      <td>3221.0</td>\n",
       "      <td>3978.0</td>\n",
       "      <td>0.158120</td>\n",
       "    </tr>\n",
       "    <tr>\n",
       "      <th>5</th>\n",
       "      <td>house</td>\n",
       "      <td>59.0</td>\n",
       "      <td>14.0</td>\n",
       "      <td>308.0</td>\n",
       "      <td>381.0</td>\n",
       "      <td>0.154856</td>\n",
       "    </tr>\n",
       "    <tr>\n",
       "      <th>7</th>\n",
       "      <td>medical</td>\n",
       "      <td>105.0</td>\n",
       "      <td>12.0</td>\n",
       "      <td>574.0</td>\n",
       "      <td>691.0</td>\n",
       "      <td>0.151954</td>\n",
       "    </tr>\n",
       "    <tr>\n",
       "      <th>2</th>\n",
       "      <td>debt_consolidation</td>\n",
       "      <td>2762.0</td>\n",
       "      <td>586.0</td>\n",
       "      <td>15280.0</td>\n",
       "      <td>18628.0</td>\n",
       "      <td>0.148271</td>\n",
       "    </tr>\n",
       "    <tr>\n",
       "      <th>12</th>\n",
       "      <td>vacation</td>\n",
       "      <td>53.0</td>\n",
       "      <td>6.0</td>\n",
       "      <td>321.0</td>\n",
       "      <td>380.0</td>\n",
       "      <td>0.139474</td>\n",
       "    </tr>\n",
       "    <tr>\n",
       "      <th>4</th>\n",
       "      <td>home_improvement</td>\n",
       "      <td>344.0</td>\n",
       "      <td>101.0</td>\n",
       "      <td>2526.0</td>\n",
       "      <td>2971.0</td>\n",
       "      <td>0.115786</td>\n",
       "    </tr>\n",
       "    <tr>\n",
       "      <th>1</th>\n",
       "      <td>credit_card</td>\n",
       "      <td>541.0</td>\n",
       "      <td>103.0</td>\n",
       "      <td>4484.0</td>\n",
       "      <td>5128.0</td>\n",
       "      <td>0.105499</td>\n",
       "    </tr>\n",
       "    <tr>\n",
       "      <th>0</th>\n",
       "      <td>car</td>\n",
       "      <td>159.0</td>\n",
       "      <td>50.0</td>\n",
       "      <td>1338.0</td>\n",
       "      <td>1547.0</td>\n",
       "      <td>0.102780</td>\n",
       "    </tr>\n",
       "    <tr>\n",
       "      <th>13</th>\n",
       "      <td>wedding</td>\n",
       "      <td>96.0</td>\n",
       "      <td>21.0</td>\n",
       "      <td>829.0</td>\n",
       "      <td>946.0</td>\n",
       "      <td>0.101480</td>\n",
       "    </tr>\n",
       "    <tr>\n",
       "      <th>6</th>\n",
       "      <td>major_purchase</td>\n",
       "      <td>221.0</td>\n",
       "      <td>37.0</td>\n",
       "      <td>1923.0</td>\n",
       "      <td>2181.0</td>\n",
       "      <td>0.101330</td>\n",
       "    </tr>\n",
       "  </tbody>\n",
       "</table>\n",
       "</div>"
      ],
      "text/plain": [
       "loan_status             purpose  Charged Off  Current  Fully Paid    Total  \\\n",
       "11               small_business        475.0     74.0      1278.0   1827.0   \n",
       "10             renewable_energy         19.0      1.0        83.0    103.0   \n",
       "3                   educational         56.0      0.0       266.0    322.0   \n",
       "8                        moving         92.0      7.0       482.0    581.0   \n",
       "9                         other        629.0    128.0      3221.0   3978.0   \n",
       "5                         house         59.0     14.0       308.0    381.0   \n",
       "7                       medical        105.0     12.0       574.0    691.0   \n",
       "2            debt_consolidation       2762.0    586.0     15280.0  18628.0   \n",
       "12                     vacation         53.0      6.0       321.0    380.0   \n",
       "4              home_improvement        344.0    101.0      2526.0   2971.0   \n",
       "1                   credit_card        541.0    103.0      4484.0   5128.0   \n",
       "0                           car        159.0     50.0      1338.0   1547.0   \n",
       "13                      wedding         96.0     21.0       829.0    946.0   \n",
       "6                major_purchase        221.0     37.0      1923.0   2181.0   \n",
       "\n",
       "loan_status  Chargedoff_Proportion  \n",
       "11                        0.259989  \n",
       "10                        0.184466  \n",
       "3                         0.173913  \n",
       "8                         0.158348  \n",
       "9                         0.158120  \n",
       "5                         0.154856  \n",
       "7                         0.151954  \n",
       "2                         0.148271  \n",
       "12                        0.139474  \n",
       "4                         0.115786  \n",
       "1                         0.105499  \n",
       "0                         0.102780  \n",
       "13                        0.101480  \n",
       "6                         0.101330  "
      ]
     },
     "execution_count": 35,
     "metadata": {},
     "output_type": "execute_result"
    }
   ],
   "source": [
    "# Purpose of Loan against Chargedoff_Proportion.\n",
    "\n",
    "# Grouping the data by 'purpose' and 'loan_status' to analyze the loan status distribution\n",
    "purpose_vs_loan = df.groupby(['purpose', 'loan_status']).loan_status.count().unstack().fillna(0).reset_index()\n",
    "purpose_vs_loan['Total'] = purpose_vs_loan['Charged Off'] + purpose_vs_loan['Current'] + purpose_vs_loan['Fully Paid']\n",
    "purpose_vs_loan['Chargedoff_Proportion'] = purpose_vs_loan['Charged Off'] / purpose_vs_loan['Total']\n",
    "purpose_vs_loan.sort_values('Chargedoff_Proportion', ascending=False)\n"
   ]
  },
  {
   "cell_type": "code",
   "execution_count": 37,
   "id": "b8878c28",
   "metadata": {},
   "outputs": [
    {
     "data": {
      "image/png": "[encoded data removed]",
      "text/plain": [
       "<Figure size 720x432 with 1 Axes>"
      ]
     },
     "metadata": {
      "needs_background": "light"
     },
     "output_type": "display_data"
    }
   ],
   "source": [
    "# Plotting the graph\n",
    "# Sorting the dataframe by the proportion of charged off cases in descending order\n",
    "purpose_vs_loan_sorted = purpose_vs_loan.sort_values('Chargedoff_Proportion', ascending=False)\n",
    "\n",
    "plt.figure(figsize=(10, 6))\n",
    "plt.bar(purpose_vs_loan_sorted['purpose'], purpose_vs_loan_sorted['Chargedoff_Proportion'])\n",
    "plt.xlabel('Purpose')\n",
    "plt.ylabel('Charged off Proportion')\n",
    "plt.title('Charged off Proportion by Purpose')\n",
    "plt.xticks(rotation=45)\n",
    "plt.show()"
   ]
  },
  {
   "cell_type": "markdown",
   "id": "f45ff32a",
   "metadata": {},
   "source": [
    "<font color=\"Blue\"><h4>Upon careful examination, it was observed that small business applicants face a significant risk of being charged off.</h4></font>\n",
    "<font color=\"Blue\"><h4>When analyzing the data, it becomes evident that the proportion of charged off cases is comparatively higher in the renewable energy category than in other categories.</h4>\n",
    "</font>"
   ]
  },
  {
   "cell_type": "code",
   "execution_count": 41,
   "id": "cc9a647c",
   "metadata": {},
   "outputs": [
    {
     "data": {
      "text/html": [
       "<div>\n",
       "<style scoped>\n",
       "    .dataframe tbody tr th:only-of-type {\n",
       "        vertical-align: middle;\n",
       "    }\n",
       "\n",
       "    .dataframe tbody tr th {\n",
       "        vertical-align: top;\n",
       "    }\n",
       "\n",
       "    .dataframe thead th {\n",
       "        text-align: right;\n",
       "    }\n",
       "</style>\n",
       "<table border=\"1\" class=\"dataframe\">\n",
       "  <thead>\n",
       "    <tr style=\"text-align: right;\">\n",
       "      <th>loan_status</th>\n",
       "      <th>grade</th>\n",
       "      <th>Charged Off</th>\n",
       "      <th>Current</th>\n",
       "      <th>Fully Paid</th>\n",
       "      <th>Total</th>\n",
       "      <th>Chargedoff_Proportion</th>\n",
       "    </tr>\n",
       "  </thead>\n",
       "  <tbody>\n",
       "    <tr>\n",
       "      <th>6</th>\n",
       "      <td>G</td>\n",
       "      <td>99</td>\n",
       "      <td>17</td>\n",
       "      <td>198</td>\n",
       "      <td>314</td>\n",
       "      <td>0.315287</td>\n",
       "    </tr>\n",
       "    <tr>\n",
       "      <th>5</th>\n",
       "      <td>F</td>\n",
       "      <td>316</td>\n",
       "      <td>73</td>\n",
       "      <td>654</td>\n",
       "      <td>1043</td>\n",
       "      <td>0.302972</td>\n",
       "    </tr>\n",
       "    <tr>\n",
       "      <th>4</th>\n",
       "      <td>E</td>\n",
       "      <td>711</td>\n",
       "      <td>179</td>\n",
       "      <td>1941</td>\n",
       "      <td>2831</td>\n",
       "      <td>0.251148</td>\n",
       "    </tr>\n",
       "    <tr>\n",
       "      <th>3</th>\n",
       "      <td>D</td>\n",
       "      <td>1115</td>\n",
       "      <td>222</td>\n",
       "      <td>3954</td>\n",
       "      <td>5291</td>\n",
       "      <td>0.210735</td>\n",
       "    </tr>\n",
       "    <tr>\n",
       "      <th>2</th>\n",
       "      <td>C</td>\n",
       "      <td>1343</td>\n",
       "      <td>264</td>\n",
       "      <td>6477</td>\n",
       "      <td>8084</td>\n",
       "      <td>0.166131</td>\n",
       "    </tr>\n",
       "    <tr>\n",
       "      <th>1</th>\n",
       "      <td>B</td>\n",
       "      <td>1425</td>\n",
       "      <td>345</td>\n",
       "      <td>10247</td>\n",
       "      <td>12017</td>\n",
       "      <td>0.118582</td>\n",
       "    </tr>\n",
       "    <tr>\n",
       "      <th>0</th>\n",
       "      <td>A</td>\n",
       "      <td>602</td>\n",
       "      <td>40</td>\n",
       "      <td>9442</td>\n",
       "      <td>10084</td>\n",
       "      <td>0.059699</td>\n",
       "    </tr>\n",
       "  </tbody>\n",
       "</table>\n",
       "</div>"
      ],
      "text/plain": [
       "loan_status grade  Charged Off  Current  Fully Paid  Total  \\\n",
       "6               G           99       17         198    314   \n",
       "5               F          316       73         654   1043   \n",
       "4               E          711      179        1941   2831   \n",
       "3               D         1115      222        3954   5291   \n",
       "2               C         1343      264        6477   8084   \n",
       "1               B         1425      345       10247  12017   \n",
       "0               A          602       40        9442  10084   \n",
       "\n",
       "loan_status  Chargedoff_Proportion  \n",
       "6                         0.315287  \n",
       "5                         0.302972  \n",
       "4                         0.251148  \n",
       "3                         0.210735  \n",
       "2                         0.166131  \n",
       "1                         0.118582  \n",
       "0                         0.059699  "
      ]
     },
     "execution_count": 41,
     "metadata": {},
     "output_type": "execute_result"
    }
   ],
   "source": [
    "#Conducting a bivariate analysis on the variable 'grade' in relation to the proportion of charged off cases.\n",
    "\n",
    "grade_vs_loan = df.groupby(['grade', 'loan_status']).loan_status.count().unstack().fillna(0).reset_index()\n",
    "grade_vs_loan['Total'] = grade_vs_loan['Charged Off'] + grade_vs_loan['Current'] + grade_vs_loan['Fully Paid']\n",
    "grade_vs_loan['Chargedoff_Proportion'] = grade_vs_loan['Charged Off'] / grade_vs_loan['Total']\n",
    "grade_vs_loan_sorted = grade_vs_loan.sort_values('Chargedoff_Proportion', ascending=False)\n",
    "grade_vs_loan_sorted"
   ]
  },
  {
   "cell_type": "code",
   "execution_count": 42,
   "id": "1c5d6739",
   "metadata": {},
   "outputs": [
    {
     "data": {
      "image/png": "[encoded data removed]",
      "text/plain": [
       "<Figure size 720x432 with 1 Axes>"
      ]
     },
     "metadata": {
      "needs_background": "light"
     },
     "output_type": "display_data"
    }
   ],
   "source": [
    "# Plotting the graph\n",
    "plt.figure(figsize=(10, 6))\n",
    "plt.bar(grade_vs_loan_sorted['grade'], grade_vs_loan_sorted['Chargedoff_Proportion'])\n",
    "plt.xlabel('Grade')\n",
    "plt.ylabel('Charged off Proportion')\n",
    "plt.title('Charged off Proportion by Grade')\n",
    "plt.show()"
   ]
  },
  {
   "cell_type": "markdown",
   "id": "49798410",
   "metadata": {},
   "source": [
    "<h3>The analysis reveals the following observations: </h3><br>\n",
    "<li>Grade 'A' shows a significantly low likelihood of being charged off.\n",
    "<li>Grades 'F' and 'G' exhibit a considerably high likelihood of being charged off.\n",
    "<li>The likelihood of charged off cases increases progressively from grade 'A' to grade 'G'."
   ]
  },
  {
   "cell_type": "code",
   "execution_count": 43,
   "id": "30944d3c",
   "metadata": {},
   "outputs": [],
   "source": [
    "#Conducting a bivariate analysis on the variable 'sub_grade' in relation to the proportion of charged off cases.\n",
    "\n",
    "subgrade_vs_loan = df.groupby(['sub_grade', 'loan_status']).loan_status.count().unstack().fillna(0).reset_index()\n",
    "subgrade_vs_loan['Total'] = subgrade_vs_loan['Charged Off'] + subgrade_vs_loan['Current'] + subgrade_vs_loan['Fully Paid']\n",
    "subgrade_vs_loan['Chargedoff_Proportion'] = subgrade_vs_loan['Charged Off'] / subgrade_vs_loan['Total']\n",
    "subgrade_vs_loan_sorted = subgrade_vs_loan.sort_values('Chargedoff_Proportion', ascending=False)"
   ]
  },
  {
   "cell_type": "code",
   "execution_count": 44,
   "id": "03b0cf9a",
   "metadata": {},
   "outputs": [
    {
     "data": {
      "text/html": [
       "<div>\n",
       "<style scoped>\n",
       "    .dataframe tbody tr th:only-of-type {\n",
       "        vertical-align: middle;\n",
       "    }\n",
       "\n",
       "    .dataframe tbody tr th {\n",
       "        vertical-align: top;\n",
       "    }\n",
       "\n",
       "    .dataframe thead th {\n",
       "        text-align: right;\n",
       "    }\n",
       "</style>\n",
       "<table border=\"1\" class=\"dataframe\">\n",
       "  <thead>\n",
       "    <tr style=\"text-align: right;\">\n",
       "      <th>loan_status</th>\n",
       "      <th>sub_grade</th>\n",
       "      <th>Charged Off</th>\n",
       "      <th>Current</th>\n",
       "      <th>Fully Paid</th>\n",
       "      <th>Total</th>\n",
       "      <th>Chargedoff_Proportion</th>\n",
       "    </tr>\n",
       "  </thead>\n",
       "  <tbody>\n",
       "    <tr>\n",
       "      <th>29</th>\n",
       "      <td>F5</td>\n",
       "      <td>54.0</td>\n",
       "      <td>5.0</td>\n",
       "      <td>59.0</td>\n",
       "      <td>118.0</td>\n",
       "      <td>0.457627</td>\n",
       "    </tr>\n",
       "    <tr>\n",
       "      <th>32</th>\n",
       "      <td>G3</td>\n",
       "      <td>19.0</td>\n",
       "      <td>3.0</td>\n",
       "      <td>26.0</td>\n",
       "      <td>48.0</td>\n",
       "      <td>0.395833</td>\n",
       "    </tr>\n",
       "    <tr>\n",
       "      <th>31</th>\n",
       "      <td>G2</td>\n",
       "      <td>27.0</td>\n",
       "      <td>1.0</td>\n",
       "      <td>49.0</td>\n",
       "      <td>77.0</td>\n",
       "      <td>0.350649</td>\n",
       "    </tr>\n",
       "    <tr>\n",
       "      <th>34</th>\n",
       "      <td>G5</td>\n",
       "      <td>10.0</td>\n",
       "      <td>1.0</td>\n",
       "      <td>19.0</td>\n",
       "      <td>30.0</td>\n",
       "      <td>0.333333</td>\n",
       "    </tr>\n",
       "    <tr>\n",
       "      <th>28</th>\n",
       "      <td>F4</td>\n",
       "      <td>52.0</td>\n",
       "      <td>17.0</td>\n",
       "      <td>96.0</td>\n",
       "      <td>165.0</td>\n",
       "      <td>0.315152</td>\n",
       "    </tr>\n",
       "    <tr>\n",
       "      <th>30</th>\n",
       "      <td>G1</td>\n",
       "      <td>30.0</td>\n",
       "      <td>10.0</td>\n",
       "      <td>63.0</td>\n",
       "      <td>103.0</td>\n",
       "      <td>0.291262</td>\n",
       "    </tr>\n",
       "    <tr>\n",
       "      <th>23</th>\n",
       "      <td>E4</td>\n",
       "      <td>126.0</td>\n",
       "      <td>30.0</td>\n",
       "      <td>298.0</td>\n",
       "      <td>454.0</td>\n",
       "      <td>0.277533</td>\n",
       "    </tr>\n",
       "    <tr>\n",
       "      <th>25</th>\n",
       "      <td>F1</td>\n",
       "      <td>91.0</td>\n",
       "      <td>24.0</td>\n",
       "      <td>213.0</td>\n",
       "      <td>328.0</td>\n",
       "      <td>0.277439</td>\n",
       "    </tr>\n",
       "    <tr>\n",
       "      <th>27</th>\n",
       "      <td>F3</td>\n",
       "      <td>51.0</td>\n",
       "      <td>11.0</td>\n",
       "      <td>123.0</td>\n",
       "      <td>185.0</td>\n",
       "      <td>0.275676</td>\n",
       "    </tr>\n",
       "    <tr>\n",
       "      <th>26</th>\n",
       "      <td>F2</td>\n",
       "      <td>68.0</td>\n",
       "      <td>16.0</td>\n",
       "      <td>163.0</td>\n",
       "      <td>247.0</td>\n",
       "      <td>0.275304</td>\n",
       "    </tr>\n",
       "    <tr>\n",
       "      <th>24</th>\n",
       "      <td>E5</td>\n",
       "      <td>108.0</td>\n",
       "      <td>29.0</td>\n",
       "      <td>274.0</td>\n",
       "      <td>411.0</td>\n",
       "      <td>0.262774</td>\n",
       "    </tr>\n",
       "    <tr>\n",
       "      <th>20</th>\n",
       "      <td>E1</td>\n",
       "      <td>198.0</td>\n",
       "      <td>41.0</td>\n",
       "      <td>524.0</td>\n",
       "      <td>763.0</td>\n",
       "      <td>0.259502</td>\n",
       "    </tr>\n",
       "    <tr>\n",
       "      <th>21</th>\n",
       "      <td>E2</td>\n",
       "      <td>160.0</td>\n",
       "      <td>42.0</td>\n",
       "      <td>451.0</td>\n",
       "      <td>653.0</td>\n",
       "      <td>0.245023</td>\n",
       "    </tr>\n",
       "    <tr>\n",
       "      <th>19</th>\n",
       "      <td>D5</td>\n",
       "      <td>209.0</td>\n",
       "      <td>40.0</td>\n",
       "      <td>623.0</td>\n",
       "      <td>872.0</td>\n",
       "      <td>0.239679</td>\n",
       "    </tr>\n",
       "    <tr>\n",
       "      <th>33</th>\n",
       "      <td>G4</td>\n",
       "      <td>13.0</td>\n",
       "      <td>2.0</td>\n",
       "      <td>41.0</td>\n",
       "      <td>56.0</td>\n",
       "      <td>0.232143</td>\n",
       "    </tr>\n",
       "    <tr>\n",
       "      <th>18</th>\n",
       "      <td>D4</td>\n",
       "      <td>215.0</td>\n",
       "      <td>63.0</td>\n",
       "      <td>701.0</td>\n",
       "      <td>979.0</td>\n",
       "      <td>0.219612</td>\n",
       "    </tr>\n",
       "    <tr>\n",
       "      <th>17</th>\n",
       "      <td>D3</td>\n",
       "      <td>255.0</td>\n",
       "      <td>57.0</td>\n",
       "      <td>857.0</td>\n",
       "      <td>1169.0</td>\n",
       "      <td>0.218135</td>\n",
       "    </tr>\n",
       "    <tr>\n",
       "      <th>22</th>\n",
       "      <td>E3</td>\n",
       "      <td>119.0</td>\n",
       "      <td>37.0</td>\n",
       "      <td>394.0</td>\n",
       "      <td>550.0</td>\n",
       "      <td>0.216364</td>\n",
       "    </tr>\n",
       "    <tr>\n",
       "      <th>16</th>\n",
       "      <td>D2</td>\n",
       "      <td>270.0</td>\n",
       "      <td>62.0</td>\n",
       "      <td>1013.0</td>\n",
       "      <td>1345.0</td>\n",
       "      <td>0.200743</td>\n",
       "    </tr>\n",
       "    <tr>\n",
       "      <th>15</th>\n",
       "      <td>D1</td>\n",
       "      <td>166.0</td>\n",
       "      <td>0.0</td>\n",
       "      <td>760.0</td>\n",
       "      <td>926.0</td>\n",
       "      <td>0.179266</td>\n",
       "    </tr>\n",
       "    <tr>\n",
       "      <th>12</th>\n",
       "      <td>C3</td>\n",
       "      <td>270.0</td>\n",
       "      <td>41.0</td>\n",
       "      <td>1216.0</td>\n",
       "      <td>1527.0</td>\n",
       "      <td>0.176817</td>\n",
       "    </tr>\n",
       "    <tr>\n",
       "      <th>14</th>\n",
       "      <td>C5</td>\n",
       "      <td>207.0</td>\n",
       "      <td>32.0</td>\n",
       "      <td>943.0</td>\n",
       "      <td>1182.0</td>\n",
       "      <td>0.175127</td>\n",
       "    </tr>\n",
       "    <tr>\n",
       "      <th>13</th>\n",
       "      <td>C4</td>\n",
       "      <td>212.0</td>\n",
       "      <td>30.0</td>\n",
       "      <td>993.0</td>\n",
       "      <td>1235.0</td>\n",
       "      <td>0.171660</td>\n",
       "    </tr>\n",
       "    <tr>\n",
       "      <th>11</th>\n",
       "      <td>C2</td>\n",
       "      <td>318.0</td>\n",
       "      <td>80.0</td>\n",
       "      <td>1608.0</td>\n",
       "      <td>2006.0</td>\n",
       "      <td>0.158524</td>\n",
       "    </tr>\n",
       "    <tr>\n",
       "      <th>10</th>\n",
       "      <td>C1</td>\n",
       "      <td>336.0</td>\n",
       "      <td>81.0</td>\n",
       "      <td>1717.0</td>\n",
       "      <td>2134.0</td>\n",
       "      <td>0.157451</td>\n",
       "    </tr>\n",
       "    <tr>\n",
       "      <th>9</th>\n",
       "      <td>B5</td>\n",
       "      <td>356.0</td>\n",
       "      <td>89.0</td>\n",
       "      <td>2259.0</td>\n",
       "      <td>2704.0</td>\n",
       "      <td>0.131657</td>\n",
       "    </tr>\n",
       "    <tr>\n",
       "      <th>8</th>\n",
       "      <td>B4</td>\n",
       "      <td>329.0</td>\n",
       "      <td>75.0</td>\n",
       "      <td>2106.0</td>\n",
       "      <td>2510.0</td>\n",
       "      <td>0.131076</td>\n",
       "    </tr>\n",
       "    <tr>\n",
       "      <th>7</th>\n",
       "      <td>B3</td>\n",
       "      <td>341.0</td>\n",
       "      <td>92.0</td>\n",
       "      <td>2484.0</td>\n",
       "      <td>2917.0</td>\n",
       "      <td>0.116901</td>\n",
       "    </tr>\n",
       "    <tr>\n",
       "      <th>6</th>\n",
       "      <td>B2</td>\n",
       "      <td>228.0</td>\n",
       "      <td>56.0</td>\n",
       "      <td>1773.0</td>\n",
       "      <td>2057.0</td>\n",
       "      <td>0.110841</td>\n",
       "    </tr>\n",
       "    <tr>\n",
       "      <th>5</th>\n",
       "      <td>B1</td>\n",
       "      <td>171.0</td>\n",
       "      <td>33.0</td>\n",
       "      <td>1625.0</td>\n",
       "      <td>1829.0</td>\n",
       "      <td>0.093494</td>\n",
       "    </tr>\n",
       "    <tr>\n",
       "      <th>4</th>\n",
       "      <td>A5</td>\n",
       "      <td>217.0</td>\n",
       "      <td>27.0</td>\n",
       "      <td>2498.0</td>\n",
       "      <td>2742.0</td>\n",
       "      <td>0.079139</td>\n",
       "    </tr>\n",
       "    <tr>\n",
       "      <th>3</th>\n",
       "      <td>A4</td>\n",
       "      <td>178.0</td>\n",
       "      <td>13.0</td>\n",
       "      <td>2695.0</td>\n",
       "      <td>2886.0</td>\n",
       "      <td>0.061677</td>\n",
       "    </tr>\n",
       "    <tr>\n",
       "      <th>2</th>\n",
       "      <td>A3</td>\n",
       "      <td>103.0</td>\n",
       "      <td>0.0</td>\n",
       "      <td>1706.0</td>\n",
       "      <td>1809.0</td>\n",
       "      <td>0.056938</td>\n",
       "    </tr>\n",
       "    <tr>\n",
       "      <th>1</th>\n",
       "      <td>A2</td>\n",
       "      <td>74.0</td>\n",
       "      <td>0.0</td>\n",
       "      <td>1434.0</td>\n",
       "      <td>1508.0</td>\n",
       "      <td>0.049072</td>\n",
       "    </tr>\n",
       "    <tr>\n",
       "      <th>0</th>\n",
       "      <td>A1</td>\n",
       "      <td>30.0</td>\n",
       "      <td>0.0</td>\n",
       "      <td>1109.0</td>\n",
       "      <td>1139.0</td>\n",
       "      <td>0.026339</td>\n",
       "    </tr>\n",
       "  </tbody>\n",
       "</table>\n",
       "</div>"
      ],
      "text/plain": [
       "loan_status sub_grade  Charged Off  Current  Fully Paid   Total  \\\n",
       "29                 F5         54.0      5.0        59.0   118.0   \n",
       "32                 G3         19.0      3.0        26.0    48.0   \n",
       "31                 G2         27.0      1.0        49.0    77.0   \n",
       "34                 G5         10.0      1.0        19.0    30.0   \n",
       "28                 F4         52.0     17.0        96.0   165.0   \n",
       "30                 G1         30.0     10.0        63.0   103.0   \n",
       "23                 E4        126.0     30.0       298.0   454.0   \n",
       "25                 F1         91.0     24.0       213.0   328.0   \n",
       "27                 F3         51.0     11.0       123.0   185.0   \n",
       "26                 F2         68.0     16.0       163.0   247.0   \n",
       "24                 E5        108.0     29.0       274.0   411.0   \n",
       "20                 E1        198.0     41.0       524.0   763.0   \n",
       "21                 E2        160.0     42.0       451.0   653.0   \n",
       "19                 D5        209.0     40.0       623.0   872.0   \n",
       "33                 G4         13.0      2.0        41.0    56.0   \n",
       "18                 D4        215.0     63.0       701.0   979.0   \n",
       "17                 D3        255.0     57.0       857.0  1169.0   \n",
       "22                 E3        119.0     37.0       394.0   550.0   \n",
       "16                 D2        270.0     62.0      1013.0  1345.0   \n",
       "15                 D1        166.0      0.0       760.0   926.0   \n",
       "12                 C3        270.0     41.0      1216.0  1527.0   \n",
       "14                 C5        207.0     32.0       943.0  1182.0   \n",
       "13                 C4        212.0     30.0       993.0  1235.0   \n",
       "11                 C2        318.0     80.0      1608.0  2006.0   \n",
       "10                 C1        336.0     81.0      1717.0  2134.0   \n",
       "9                  B5        356.0     89.0      2259.0  2704.0   \n",
       "8                  B4        329.0     75.0      2106.0  2510.0   \n",
       "7                  B3        341.0     92.0      2484.0  2917.0   \n",
       "6                  B2        228.0     56.0      1773.0  2057.0   \n",
       "5                  B1        171.0     33.0      1625.0  1829.0   \n",
       "4                  A5        217.0     27.0      2498.0  2742.0   \n",
       "3                  A4        178.0     13.0      2695.0  2886.0   \n",
       "2                  A3        103.0      0.0      1706.0  1809.0   \n",
       "1                  A2         74.0      0.0      1434.0  1508.0   \n",
       "0                  A1         30.0      0.0      1109.0  1139.0   \n",
       "\n",
       "loan_status  Chargedoff_Proportion  \n",
       "29                        0.457627  \n",
       "32                        0.395833  \n",
       "31                        0.350649  \n",
       "34                        0.333333  \n",
       "28                        0.315152  \n",
       "30                        0.291262  \n",
       "23                        0.277533  \n",
       "25                        0.277439  \n",
       "27                        0.275676  \n",
       "26                        0.275304  \n",
       "24                        0.262774  \n",
       "20                        0.259502  \n",
       "21                        0.245023  \n",
       "19                        0.239679  \n",
       "33                        0.232143  \n",
       "18                        0.219612  \n",
       "17                        0.218135  \n",
       "22                        0.216364  \n",
       "16                        0.200743  \n",
       "15                        0.179266  \n",
       "12                        0.176817  \n",
       "14                        0.175127  \n",
       "13                        0.171660  \n",
       "11                        0.158524  \n",
       "10                        0.157451  \n",
       "9                         0.131657  \n",
       "8                         0.131076  \n",
       "7                         0.116901  \n",
       "6                         0.110841  \n",
       "5                         0.093494  \n",
       "4                         0.079139  \n",
       "3                         0.061677  \n",
       "2                         0.056938  \n",
       "1                         0.049072  \n",
       "0                         0.026339  "
      ]
     },
     "execution_count": 44,
     "metadata": {},
     "output_type": "execute_result"
    }
   ],
   "source": [
    "subgrade_vs_loan_sorted"
   ]
  },
  {
   "cell_type": "code",
   "execution_count": 46,
   "id": "0eb87f85",
   "metadata": {},
   "outputs": [
    {
     "data": {
      "image/png": "[encoded data removed]",
      "text/plain": [
       "<Figure size 720x432 with 1 Axes>"
      ]
     },
     "metadata": {
      "needs_background": "light"
     },
     "output_type": "display_data"
    }
   ],
   "source": [
    "# Plotting the graph\n",
    "plt.figure(figsize=(10, 6))\n",
    "plt.bar(subgrade_vs_loan_sorted['sub_grade'], subgrade_vs_loan_sorted['Chargedoff_Proportion'])\n",
    "plt.xlabel('Sub Grade')\n",
    "plt.ylabel('Charged off Proportion')\n",
    "plt.title('Charged off Proportion by Sub Grade')\n",
    "plt.show()"
   ]
  },
  {
   "cell_type": "markdown",
   "id": "c0a988de",
   "metadata": {},
   "source": [
    "<h3>The analysis reveals the following observations: </h3><br>\n",
    "<li>\"A\" sub grades exhibit a significantly lower likelihood of being charged off.\n",
    "<li>\"F\" and \"G\" sub grades have a considerably higher likelihood of being charged off.\n",
    "<li>The proportion of charged off cases increases progressively as we move from \"A\" sub grades towards \"G\" sub grades."
   ]
  },
  {
   "cell_type": "code",
   "execution_count": null,
   "id": "5e2edac1",
   "metadata": {},
   "outputs": [],
   "source": []
  }
 ],
 "metadata": {
  "kernelspec": {
   "display_name": "Python 3 (ipykernel)",
   "language": "python",
   "name": "python3"
  },
  "language_info": {
   "codemirror_mode": {
    "name": "ipython",
    "version": 3
   },
   "file_extension": ".py",
   "mimetype": "text/x-python",
   "name": "python",
   "nbconvert_exporter": "python",
   "pygments_lexer": "ipython3",
   "version": "3.9.7"
  }
 },
 "nbformat": 4,
 "nbformat_minor": 5
}
