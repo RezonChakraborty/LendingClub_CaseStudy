{
 "cells": [
  {
   "cell_type": "markdown",
   "id": "2d6ffd0d",
   "metadata": {},
   "source": [
    "<h3>Importing Libs</h3>"
   ]
  },
  {
   "cell_type": "code",
   "execution_count": 1,
   "id": "14d94746",
   "metadata": {},
   "outputs": [],
   "source": [
    "import pandas as pd\n",
    "import os\n",
    "import matplotlib.pyplot as plt"
   ]
  },
  {
   "cell_type": "markdown",
   "id": "4972dcea",
   "metadata": {},
   "source": [
    "<h3> Loading Data </h3>"
   ]
  },
  {
   "cell_type": "code",
   "execution_count": 2,
   "id": "b8a519d3",
   "metadata": {},
   "outputs": [
    {
     "name": "stderr",
     "output_type": "stream",
     "text": [
      "C:\\Users\\ayush\\anaconda3\\lib\\site-packages\\IPython\\core\\interactiveshell.py:3444: DtypeWarning: Columns (47) have mixed types.Specify dtype option on import or set low_memory=False.\n",
      "  exec(code_obj, self.user_global_ns, self.user_ns)\n"
     ]
    },
    {
     "data": {
      "text/html": [
       "<div>\n",
       "<style scoped>\n",
       "    .dataframe tbody tr th:only-of-type {\n",
       "        vertical-align: middle;\n",
       "    }\n",
       "\n",
       "    .dataframe tbody tr th {\n",
       "        vertical-align: top;\n",
       "    }\n",
       "\n",
       "    .dataframe thead th {\n",
       "        text-align: right;\n",
       "    }\n",
       "</style>\n",
       "<table border=\"1\" class=\"dataframe\">\n",
       "  <thead>\n",
       "    <tr style=\"text-align: right;\">\n",
       "      <th></th>\n",
       "      <th>id</th>\n",
       "      <th>member_id</th>\n",
       "      <th>loan_amnt</th>\n",
       "      <th>funded_amnt</th>\n",
       "      <th>funded_amnt_inv</th>\n",
       "      <th>term</th>\n",
       "      <th>int_rate</th>\n",
       "      <th>installment</th>\n",
       "      <th>grade</th>\n",
       "      <th>sub_grade</th>\n",
       "      <th>...</th>\n",
       "      <th>num_tl_90g_dpd_24m</th>\n",
       "      <th>num_tl_op_past_12m</th>\n",
       "      <th>pct_tl_nvr_dlq</th>\n",
       "      <th>percent_bc_gt_75</th>\n",
       "      <th>pub_rec_bankruptcies</th>\n",
       "      <th>tax_liens</th>\n",
       "      <th>tot_hi_cred_lim</th>\n",
       "      <th>total_bal_ex_mort</th>\n",
       "      <th>total_bc_limit</th>\n",
       "      <th>total_il_high_credit_limit</th>\n",
       "    </tr>\n",
       "  </thead>\n",
       "  <tbody>\n",
       "    <tr>\n",
       "      <th>0</th>\n",
       "      <td>1077501</td>\n",
       "      <td>1296599</td>\n",
       "      <td>5000</td>\n",
       "      <td>5000</td>\n",
       "      <td>4975.0</td>\n",
       "      <td>36 months</td>\n",
       "      <td>10.65%</td>\n",
       "      <td>162.87</td>\n",
       "      <td>B</td>\n",
       "      <td>B2</td>\n",
       "      <td>...</td>\n",
       "      <td>NaN</td>\n",
       "      <td>NaN</td>\n",
       "      <td>NaN</td>\n",
       "      <td>NaN</td>\n",
       "      <td>0.0</td>\n",
       "      <td>0.0</td>\n",
       "      <td>NaN</td>\n",
       "      <td>NaN</td>\n",
       "      <td>NaN</td>\n",
       "      <td>NaN</td>\n",
       "    </tr>\n",
       "    <tr>\n",
       "      <th>1</th>\n",
       "      <td>1077430</td>\n",
       "      <td>1314167</td>\n",
       "      <td>2500</td>\n",
       "      <td>2500</td>\n",
       "      <td>2500.0</td>\n",
       "      <td>60 months</td>\n",
       "      <td>15.27%</td>\n",
       "      <td>59.83</td>\n",
       "      <td>C</td>\n",
       "      <td>C4</td>\n",
       "      <td>...</td>\n",
       "      <td>NaN</td>\n",
       "      <td>NaN</td>\n",
       "      <td>NaN</td>\n",
       "      <td>NaN</td>\n",
       "      <td>0.0</td>\n",
       "      <td>0.0</td>\n",
       "      <td>NaN</td>\n",
       "      <td>NaN</td>\n",
       "      <td>NaN</td>\n",
       "      <td>NaN</td>\n",
       "    </tr>\n",
       "    <tr>\n",
       "      <th>2</th>\n",
       "      <td>1077175</td>\n",
       "      <td>1313524</td>\n",
       "      <td>2400</td>\n",
       "      <td>2400</td>\n",
       "      <td>2400.0</td>\n",
       "      <td>36 months</td>\n",
       "      <td>15.96%</td>\n",
       "      <td>84.33</td>\n",
       "      <td>C</td>\n",
       "      <td>C5</td>\n",
       "      <td>...</td>\n",
       "      <td>NaN</td>\n",
       "      <td>NaN</td>\n",
       "      <td>NaN</td>\n",
       "      <td>NaN</td>\n",
       "      <td>0.0</td>\n",
       "      <td>0.0</td>\n",
       "      <td>NaN</td>\n",
       "      <td>NaN</td>\n",
       "      <td>NaN</td>\n",
       "      <td>NaN</td>\n",
       "    </tr>\n",
       "    <tr>\n",
       "      <th>3</th>\n",
       "      <td>1076863</td>\n",
       "      <td>1277178</td>\n",
       "      <td>10000</td>\n",
       "      <td>10000</td>\n",
       "      <td>10000.0</td>\n",
       "      <td>36 months</td>\n",
       "      <td>13.49%</td>\n",
       "      <td>339.31</td>\n",
       "      <td>C</td>\n",
       "      <td>C1</td>\n",
       "      <td>...</td>\n",
       "      <td>NaN</td>\n",
       "      <td>NaN</td>\n",
       "      <td>NaN</td>\n",
       "      <td>NaN</td>\n",
       "      <td>0.0</td>\n",
       "      <td>0.0</td>\n",
       "      <td>NaN</td>\n",
       "      <td>NaN</td>\n",
       "      <td>NaN</td>\n",
       "      <td>NaN</td>\n",
       "    </tr>\n",
       "    <tr>\n",
       "      <th>4</th>\n",
       "      <td>1075358</td>\n",
       "      <td>1311748</td>\n",
       "      <td>3000</td>\n",
       "      <td>3000</td>\n",
       "      <td>3000.0</td>\n",
       "      <td>60 months</td>\n",
       "      <td>12.69%</td>\n",
       "      <td>67.79</td>\n",
       "      <td>B</td>\n",
       "      <td>B5</td>\n",
       "      <td>...</td>\n",
       "      <td>NaN</td>\n",
       "      <td>NaN</td>\n",
       "      <td>NaN</td>\n",
       "      <td>NaN</td>\n",
       "      <td>0.0</td>\n",
       "      <td>0.0</td>\n",
       "      <td>NaN</td>\n",
       "      <td>NaN</td>\n",
       "      <td>NaN</td>\n",
       "      <td>NaN</td>\n",
       "    </tr>\n",
       "  </tbody>\n",
       "</table>\n",
       "<p>5 rows × 111 columns</p>\n",
       "</div>"
      ],
      "text/plain": [
       "        id  member_id  loan_amnt  funded_amnt  funded_amnt_inv        term  \\\n",
       "0  1077501    1296599       5000         5000           4975.0   36 months   \n",
       "1  1077430    1314167       2500         2500           2500.0   60 months   \n",
       "2  1077175    1313524       2400         2400           2400.0   36 months   \n",
       "3  1076863    1277178      10000        10000          10000.0   36 months   \n",
       "4  1075358    1311748       3000         3000           3000.0   60 months   \n",
       "\n",
       "  int_rate  installment grade sub_grade  ... num_tl_90g_dpd_24m  \\\n",
       "0   10.65%       162.87     B        B2  ...                NaN   \n",
       "1   15.27%        59.83     C        C4  ...                NaN   \n",
       "2   15.96%        84.33     C        C5  ...                NaN   \n",
       "3   13.49%       339.31     C        C1  ...                NaN   \n",
       "4   12.69%        67.79     B        B5  ...                NaN   \n",
       "\n",
       "  num_tl_op_past_12m pct_tl_nvr_dlq  percent_bc_gt_75 pub_rec_bankruptcies  \\\n",
       "0                NaN            NaN               NaN                  0.0   \n",
       "1                NaN            NaN               NaN                  0.0   \n",
       "2                NaN            NaN               NaN                  0.0   \n",
       "3                NaN            NaN               NaN                  0.0   \n",
       "4                NaN            NaN               NaN                  0.0   \n",
       "\n",
       "  tax_liens tot_hi_cred_lim total_bal_ex_mort total_bc_limit  \\\n",
       "0       0.0             NaN               NaN            NaN   \n",
       "1       0.0             NaN               NaN            NaN   \n",
       "2       0.0             NaN               NaN            NaN   \n",
       "3       0.0             NaN               NaN            NaN   \n",
       "4       0.0             NaN               NaN            NaN   \n",
       "\n",
       "  total_il_high_credit_limit  \n",
       "0                        NaN  \n",
       "1                        NaN  \n",
       "2                        NaN  \n",
       "3                        NaN  \n",
       "4                        NaN  \n",
       "\n",
       "[5 rows x 111 columns]"
      ]
     },
     "execution_count": 2,
     "metadata": {},
     "output_type": "execute_result"
    }
   ],
   "source": [
    "dataset_path = os.path.join('loan', 'loan.csv')\n",
    "df = pd.read_csv(dataset_path)\n",
    "df.head()"
   ]
  },
  {
   "cell_type": "markdown",
   "id": "8b07af4c",
   "metadata": {},
   "source": [
    "<h3>Dataset size</h3>"
   ]
  },
  {
   "cell_type": "code",
   "execution_count": 3,
   "id": "5947d205",
   "metadata": {},
   "outputs": [
    {
     "data": {
      "text/plain": [
       "(39717, 111)"
      ]
     },
     "execution_count": 3,
     "metadata": {},
     "output_type": "execute_result"
    }
   ],
   "source": [
    "df.shape"
   ]
  },
  {
   "cell_type": "markdown",
   "id": "53a349c6",
   "metadata": {},
   "source": [
    "<h3> Checking Null Values Count On Each Columns</h3>"
   ]
  },
  {
   "cell_type": "code",
   "execution_count": 4,
   "id": "ea752819",
   "metadata": {},
   "outputs": [
    {
     "data": {
      "text/plain": [
       "id                                0\n",
       "member_id                         0\n",
       "loan_amnt                         0\n",
       "funded_amnt                       0\n",
       "funded_amnt_inv                   0\n",
       "                              ...  \n",
       "tax_liens                        39\n",
       "tot_hi_cred_lim               39717\n",
       "total_bal_ex_mort             39717\n",
       "total_bc_limit                39717\n",
       "total_il_high_credit_limit    39717\n",
       "Length: 111, dtype: int64"
      ]
     },
     "execution_count": 4,
     "metadata": {},
     "output_type": "execute_result"
    }
   ],
   "source": [
    "null_counts = df.isnull().sum()\n",
    "\n",
    "null_counts"
   ]
  },
  {
   "cell_type": "markdown",
   "id": "79a624eb",
   "metadata": {},
   "source": [
    "<h3>Removing All Columns which are completly Null</h3>"
   ]
  },
  {
   "cell_type": "code",
   "execution_count": 5,
   "id": "6807285c",
   "metadata": {},
   "outputs": [
    {
     "data": {
      "text/plain": [
       "(39717, 57)"
      ]
     },
     "execution_count": 5,
     "metadata": {},
     "output_type": "execute_result"
    }
   ],
   "source": [
    "df = df.dropna(axis=1, how='all')\n",
    "df.shape"
   ]
  },
  {
   "cell_type": "markdown",
   "id": "aa3f2163",
   "metadata": {},
   "source": [
    "<font color='red'>Out of 111 Columns, 54 Columns contains only null value</font><br>\n",
    "<font color='red'>Removed 54 Columns Now we have 57 Columns left to Analysis</font>"
   ]
  },
  {
   "cell_type": "markdown",
   "id": "01ff333c",
   "metadata": {},
   "source": [
    "<h4>Now Analysing Null Value Count of Remaning Columns</h4>"
   ]
  },
  {
   "cell_type": "code",
   "execution_count": 6,
   "id": "c7ee1197",
   "metadata": {},
   "outputs": [
    {
     "data": {
      "image/png": "[encoded data removed]",
      "text/plain": [
       "<Figure size 432x288 with 1 Axes>"
      ]
     },
     "metadata": {
      "needs_background": "light"
     },
     "output_type": "display_data"
    },
    {
     "data": {
      "text/plain": [
       "<Figure size 864x576 with 0 Axes>"
      ]
     },
     "metadata": {},
     "output_type": "display_data"
    }
   ],
   "source": [
    "# Count the null values in each column\n",
    "null_counts = df.isnull().sum()\n",
    "null_counts = null_counts[null_counts > 0]\n",
    "# Create a bar plot\n",
    "null_counts.plot(kind='bar')\n",
    "\n",
    "# Customize the plot\n",
    "plt.title('Null Values by Column', fontsize=14)\n",
    "plt.xlabel('Columns', fontsize=12)\n",
    "plt.ylabel('Number of Null Values (log scale)', fontsize=12)  # Update the y-label text\n",
    "plt.xticks(rotation=45, ha='right', fontsize=10)\n",
    "\n",
    "# Increase the size of the plot window\n",
    "plt.figure(figsize=(12, 8))\n",
    "\n",
    "# Display the plot\n",
    "plt.tight_layout()\n",
    "plt.show()"
   ]
  },
  {
   "cell_type": "markdown",
   "id": "f8e3ccf6",
   "metadata": {},
   "source": [
    "<h3>Removing below Columns as it not possible to fix Missing Values</h3>\n",
    "    <br>\n",
    "<b><font color=\"Blue\">mths_since_last_delinq</font>&nbsp;</b> {The number of months since the borrower's last delinquency.} <br>\n",
    "<b><font color=\"Blue\">mths_since_last_record</font>&nbsp;</b> {The number of months since the last public record.}<br>\n",
    "<b><font color=\"Blue\">next_pymnt_d</font>&nbsp;</b>\t{Next scheduled payment date}<br>\n",
    "\n",
    "Also Removing <b><font color=\"Blue\">desc</font>&nbsp;</b> as it can't be standardised<br>\n",
    "<b><font color=\"Blue\">desc</font>&nbsp;</b>\t{Loan description provided by the borrower}<br>"
   ]
  },
  {
   "cell_type": "code",
   "execution_count": 7,
   "id": "d531244d",
   "metadata": {},
   "outputs": [
    {
     "data": {
      "text/plain": [
       "(39717, 53)"
      ]
     },
     "execution_count": 7,
     "metadata": {},
     "output_type": "execute_result"
    }
   ],
   "source": [
    "columns_to_drop = ['mths_since_last_delinq', 'mths_since_last_record', 'next_pymnt_d', 'desc']\n",
    "df = df.drop(columns=columns_to_drop)\n",
    "df.shape"
   ]
  },
  {
   "cell_type": "markdown",
   "id": "1bd1d814",
   "metadata": {},
   "source": [
    "<h6><font color='red'>Removed 4 columns now we left with 53 Columns</font></h6>"
   ]
  },
  {
   "cell_type": "code",
   "execution_count": 8,
   "id": "7ffc673b",
   "metadata": {},
   "outputs": [
    {
     "data": {
      "image/png": "[encoded data removed]",
      "text/plain": [
       "<Figure size 432x288 with 1 Axes>"
      ]
     },
     "metadata": {
      "needs_background": "light"
     },
     "output_type": "display_data"
    },
    {
     "data": {
      "text/plain": [
       "<Figure size 864x576 with 0 Axes>"
      ]
     },
     "metadata": {},
     "output_type": "display_data"
    }
   ],
   "source": [
    "# Count the null values in each column\n",
    "null_counts = df.isnull().sum()\n",
    "null_counts = null_counts[null_counts > 0]\n",
    "# Create a bar plot\n",
    "null_counts.plot(kind='bar')\n",
    "\n",
    "# Customize the plot\n",
    "plt.title('Null Values by Column', fontsize=14)\n",
    "plt.xlabel('Columns', fontsize=12)\n",
    "plt.ylabel('Number of Null Values (log scale)', fontsize=12)  # Update the y-label text\n",
    "plt.xticks(rotation=45, ha='right', fontsize=10)\n",
    "\n",
    "# Increase the size of the plot window\n",
    "plt.figure(figsize=(12, 8))\n",
    "\n",
    "# Display the plot\n",
    "plt.tight_layout()\n",
    "plt.show()"
   ]
  },
  {
   "cell_type": "code",
   "execution_count": 9,
   "id": "e0e992ec",
   "metadata": {},
   "outputs": [
    {
     "data": {
      "text/plain": [
       "Index(['id', 'member_id', 'loan_amnt', 'funded_amnt', 'funded_amnt_inv',\n",
       "       'term', 'int_rate', 'installment', 'grade', 'sub_grade', 'emp_title',\n",
       "       'emp_length', 'home_ownership', 'annual_inc', 'verification_status',\n",
       "       'issue_d', 'loan_status', 'pymnt_plan', 'url', 'purpose', 'title',\n",
       "       'zip_code', 'addr_state', 'dti', 'delinq_2yrs', 'earliest_cr_line',\n",
       "       'inq_last_6mths', 'open_acc', 'pub_rec', 'revol_bal', 'revol_util',\n",
       "       'total_acc', 'initial_list_status', 'out_prncp', 'out_prncp_inv',\n",
       "       'total_pymnt', 'total_pymnt_inv', 'total_rec_prncp', 'total_rec_int',\n",
       "       'total_rec_late_fee', 'recoveries', 'collection_recovery_fee',\n",
       "       'last_pymnt_d', 'last_pymnt_amnt', 'last_credit_pull_d',\n",
       "       'collections_12_mths_ex_med', 'policy_code', 'application_type',\n",
       "       'acc_now_delinq', 'chargeoff_within_12_mths', 'delinq_amnt',\n",
       "       'pub_rec_bankruptcies', 'tax_liens'],\n",
       "      dtype='object')"
      ]
     },
     "execution_count": 9,
     "metadata": {},
     "output_type": "execute_result"
    }
   ],
   "source": [
    "df.columns\n"
   ]
  },
  {
   "cell_type": "code",
   "execution_count": 12,
   "id": "4f523f93",
   "metadata": {},
   "outputs": [
    {
     "data": {
      "text/plain": [
       "(39717, 44)"
      ]
     },
     "execution_count": 12,
     "metadata": {},
     "output_type": "execute_result"
    }
   ],
   "source": [
    "#Droping Some Useless Columns\n",
    "useless_columns = ['id', 'member_id', 'emp_title', 'url', 'zip_code',\n",
    "                   'policy_code', 'application_type', 'chargeoff_within_12_mths',\n",
    "                  'emp_title', 'pymnt_plan']\n",
    "df = df.drop(columns=useless_columns)\n",
    "df.shape"
   ]
  },
  {
   "cell_type": "code",
   "execution_count": 13,
   "id": "53eaa943",
   "metadata": {},
   "outputs": [
    {
     "data": {
      "text/plain": [
       "Index(['loan_amnt', 'funded_amnt', 'funded_amnt_inv', 'term', 'int_rate',\n",
       "       'installment', 'grade', 'sub_grade', 'emp_length', 'home_ownership',\n",
       "       'annual_inc', 'verification_status', 'issue_d', 'loan_status',\n",
       "       'purpose', 'title', 'addr_state', 'dti', 'delinq_2yrs',\n",
       "       'earliest_cr_line', 'inq_last_6mths', 'open_acc', 'pub_rec',\n",
       "       'revol_bal', 'revol_util', 'total_acc', 'initial_list_status',\n",
       "       'out_prncp', 'out_prncp_inv', 'total_pymnt', 'total_pymnt_inv',\n",
       "       'total_rec_prncp', 'total_rec_int', 'total_rec_late_fee', 'recoveries',\n",
       "       'collection_recovery_fee', 'last_pymnt_d', 'last_pymnt_amnt',\n",
       "       'last_credit_pull_d', 'collections_12_mths_ex_med', 'acc_now_delinq',\n",
       "       'delinq_amnt', 'pub_rec_bankruptcies', 'tax_liens'],\n",
       "      dtype='object')"
      ]
     },
     "execution_count": 13,
     "metadata": {},
     "output_type": "execute_result"
    }
   ],
   "source": [
    "df.columns"
   ]
  },
  {
   "cell_type": "code",
   "execution_count": 16,
   "id": "10e5ddf4",
   "metadata": {},
   "outputs": [
    {
     "data": {
      "text/plain": [
       "0        0\n",
       "1        0\n",
       "2        0\n",
       "3        0\n",
       "4        0\n",
       "        ..\n",
       "39712    3\n",
       "39713    3\n",
       "39714    3\n",
       "39715    3\n",
       "39716    3\n",
       "Length: 39717, dtype: int64"
      ]
     },
     "execution_count": 16,
     "metadata": {},
     "output_type": "execute_result"
    }
   ],
   "source": [
    "#Check Missing Values in Rows\n",
    "df.isnull().sum(axis=1)"
   ]
  },
  {
   "cell_type": "code",
   "execution_count": 21,
   "id": "bae6170a",
   "metadata": {},
   "outputs": [
    {
     "data": {
      "text/plain": [
       "{'1 year',\n",
       " '10+ years',\n",
       " '2 years',\n",
       " '3 years',\n",
       " '4 years',\n",
       " '5 years',\n",
       " '6 years',\n",
       " '7 years',\n",
       " '8 years',\n",
       " '9 years',\n",
       " '< 1 year',\n",
       " nan}"
      ]
     },
     "execution_count": 21,
     "metadata": {},
     "output_type": "execute_result"
    }
   ],
   "source": [
    "set(df['emp_length'])"
   ]
  },
  {
   "cell_type": "code",
   "execution_count": 23,
   "id": "cda9c4fa",
   "metadata": {},
   "outputs": [
    {
     "data": {
      "text/plain": [
       "{0,\n",
       " '1 year',\n",
       " '10+ years',\n",
       " '2 years',\n",
       " '3 years',\n",
       " '4 years',\n",
       " '5 years',\n",
       " '6 years',\n",
       " '7 years',\n",
       " '8 years',\n",
       " '9 years',\n",
       " '< 1 year'}"
      ]
     },
     "execution_count": 23,
     "metadata": {},
     "output_type": "execute_result"
    }
   ],
   "source": [
    "#In emp_length there are nan values present, filling 'nan' with 0\n",
    "df['emp_length'] = df['emp_length'].fillna(0)\n",
    "set(df['emp_length'])"
   ]
  },
  {
   "cell_type": "code",
   "execution_count": 24,
   "id": "e51d106d",
   "metadata": {},
   "outputs": [
    {
     "data": {
      "text/plain": [
       "{'MORTGAGE', 'NONE', 'OTHER', 'OWN', 'RENT'}"
      ]
     },
     "execution_count": 24,
     "metadata": {},
     "output_type": "execute_result"
    }
   ],
   "source": [
    "set(df['home_ownership'])"
   ]
  },
  {
   "cell_type": "code",
   "execution_count": 30,
   "id": "fad0aa15",
   "metadata": {},
   "outputs": [
    {
     "data": {
      "text/plain": [
       "{'MORTGAGE', 'OTHER', 'OWN', 'RENT'}"
      ]
     },
     "execution_count": 30,
     "metadata": {},
     "output_type": "execute_result"
    }
   ],
   "source": [
    "#Remove Records which have None\n",
    "df = df[df['home_ownership']!='NONE']\n",
    "set(df['home_ownership'])"
   ]
  },
  {
   "cell_type": "code",
   "execution_count": 31,
   "id": "7fcd8207",
   "metadata": {},
   "outputs": [
    {
     "data": {
      "text/plain": [
       "(39714, 44)"
      ]
     },
     "execution_count": 31,
     "metadata": {},
     "output_type": "execute_result"
    }
   ],
   "source": [
    "df.shape\n"
   ]
  },
  {
   "cell_type": "code",
   "execution_count": 38,
   "id": "43519b46",
   "metadata": {},
   "outputs": [
    {
     "name": "stdout",
     "output_type": "stream",
     "text": [
      "<class 'pandas.core.frame.DataFrame'>\n",
      "Int64Index: 39714 entries, 0 to 39716\n",
      "Data columns (total 44 columns):\n",
      " #   Column                      Non-Null Count  Dtype  \n",
      "---  ------                      --------------  -----  \n",
      " 0   loan_amnt                   39714 non-null  int64  \n",
      " 1   funded_amnt                 39714 non-null  int64  \n",
      " 2   funded_amnt_inv             39714 non-null  float64\n",
      " 3   term                        39714 non-null  object \n",
      " 4   int_rate                    39714 non-null  object \n",
      " 5   installment                 39714 non-null  float64\n",
      " 6   grade                       39714 non-null  object \n",
      " 7   sub_grade                   39714 non-null  object \n",
      " 8   emp_length                  39714 non-null  object \n",
      " 9   home_ownership              39714 non-null  object \n",
      " 10  annual_inc                  39714 non-null  float64\n",
      " 11  verification_status         39714 non-null  object \n",
      " 12  issue_d                     39714 non-null  object \n",
      " 13  loan_status                 39714 non-null  object \n",
      " 14  purpose                     39714 non-null  object \n",
      " 15  title                       39703 non-null  object \n",
      " 16  addr_state                  39714 non-null  object \n",
      " 17  dti                         39714 non-null  float64\n",
      " 18  delinq_2yrs                 39714 non-null  int64  \n",
      " 19  earliest_cr_line            39714 non-null  object \n",
      " 20  inq_last_6mths              39714 non-null  int64  \n",
      " 21  open_acc                    39714 non-null  int64  \n",
      " 22  pub_rec                     39714 non-null  int64  \n",
      " 23  revol_bal                   39714 non-null  int64  \n",
      " 24  revol_util                  39664 non-null  object \n",
      " 25  total_acc                   39714 non-null  int64  \n",
      " 26  initial_list_status         39714 non-null  object \n",
      " 27  out_prncp                   39714 non-null  float64\n",
      " 28  out_prncp_inv               39714 non-null  float64\n",
      " 29  total_pymnt                 39714 non-null  float64\n",
      " 30  total_pymnt_inv             39714 non-null  float64\n",
      " 31  total_rec_prncp             39714 non-null  float64\n",
      " 32  total_rec_int               39714 non-null  float64\n",
      " 33  total_rec_late_fee          39714 non-null  float64\n",
      " 34  recoveries                  39714 non-null  float64\n",
      " 35  collection_recovery_fee     39714 non-null  float64\n",
      " 36  last_pymnt_d                39643 non-null  object \n",
      " 37  last_pymnt_amnt             39714 non-null  float64\n",
      " 38  last_credit_pull_d          39712 non-null  object \n",
      " 39  collections_12_mths_ex_med  39660 non-null  float64\n",
      " 40  acc_now_delinq              39714 non-null  int64  \n",
      " 41  delinq_amnt                 39714 non-null  int64  \n",
      " 42  pub_rec_bankruptcies        39020 non-null  float64\n",
      " 43  tax_liens                   39677 non-null  float64\n",
      "dtypes: float64(17), int64(10), object(17)\n",
      "memory usage: 13.6+ MB\n"
     ]
    }
   ],
   "source": [
    "df.info()"
   ]
  },
  {
   "cell_type": "code",
   "execution_count": 45,
   "id": "f5ccc6f7",
   "metadata": {},
   "outputs": [],
   "source": [
    "df= df[~df['revol_util'].isnull()]"
   ]
  },
  {
   "cell_type": "code",
   "execution_count": 46,
   "id": "5913cb3b",
   "metadata": {},
   "outputs": [
    {
     "data": {
      "text/plain": [
       "39664"
      ]
     },
     "execution_count": 46,
     "metadata": {},
     "output_type": "execute_result"
    }
   ],
   "source": [
    "df['revol_util'].isnull().count()"
   ]
  },
  {
   "cell_type": "code",
   "execution_count": 47,
   "id": "e0fc6353",
   "metadata": {},
   "outputs": [
    {
     "data": {
      "text/plain": [
       "0    83.70%\n",
       "1     9.40%\n",
       "2    98.50%\n",
       "3       21%\n",
       "4    53.90%\n",
       "Name: revol_util, dtype: object"
      ]
     },
     "execution_count": 47,
     "metadata": {},
     "output_type": "execute_result"
    }
   ],
   "source": [
    "df['revol_util'].head()"
   ]
  },
  {
   "cell_type": "code",
   "execution_count": 48,
   "id": "b862c819",
   "metadata": {},
   "outputs": [],
   "source": [
    "df['revol_util'] = df['revol_util'].str.rstrip('%')"
   ]
  },
  {
   "cell_type": "code",
   "execution_count": 49,
   "id": "f7362209",
   "metadata": {},
   "outputs": [
    {
     "data": {
      "text/plain": [
       "0    83.70\n",
       "1     9.40\n",
       "2    98.50\n",
       "3       21\n",
       "4    53.90\n",
       "Name: revol_util, dtype: object"
      ]
     },
     "execution_count": 49,
     "metadata": {},
     "output_type": "execute_result"
    }
   ],
   "source": [
    "df['revol_util'].head()"
   ]
  },
  {
   "cell_type": "code",
   "execution_count": 60,
   "id": "d9ca1975",
   "metadata": {},
   "outputs": [],
   "source": [
    "def revol_util_categgories_func(x):\n",
    "    value = float(x)\n",
    "    if value>=75:\n",
    "        return 'Extremly Risky'\n",
    "    elif value>=50:\n",
    "        return 'Risky'\n",
    "    elif value>=25:\n",
    "        return 'Moderate'\n",
    "    elif value>=10:\n",
    "        return 'Good'\n",
    "    return 'Extremly Good'"
   ]
  },
  {
   "cell_type": "code",
   "execution_count": 61,
   "id": "16b67420",
   "metadata": {},
   "outputs": [],
   "source": [
    "df['revol_util_categgories'] = df['revol_util'].apply(lambda x: revol_util_categgories_func(x))"
   ]
  },
  {
   "cell_type": "code",
   "execution_count": 66,
   "id": "cfe75f3a",
   "metadata": {},
   "outputs": [
    {
     "data": {
      "text/html": [
       "<div>\n",
       "<style scoped>\n",
       "    .dataframe tbody tr th:only-of-type {\n",
       "        vertical-align: middle;\n",
       "    }\n",
       "\n",
       "    .dataframe tbody tr th {\n",
       "        vertical-align: top;\n",
       "    }\n",
       "\n",
       "    .dataframe thead th {\n",
       "        text-align: right;\n",
       "    }\n",
       "</style>\n",
       "<table border=\"1\" class=\"dataframe\">\n",
       "  <thead>\n",
       "    <tr style=\"text-align: right;\">\n",
       "      <th></th>\n",
       "      <th>loan_amnt</th>\n",
       "      <th>funded_amnt</th>\n",
       "      <th>funded_amnt_inv</th>\n",
       "      <th>term</th>\n",
       "      <th>int_rate</th>\n",
       "      <th>installment</th>\n",
       "      <th>grade</th>\n",
       "      <th>sub_grade</th>\n",
       "      <th>emp_length</th>\n",
       "      <th>home_ownership</th>\n",
       "      <th>...</th>\n",
       "      <th>recoveries</th>\n",
       "      <th>collection_recovery_fee</th>\n",
       "      <th>last_pymnt_d</th>\n",
       "      <th>last_pymnt_amnt</th>\n",
       "      <th>last_credit_pull_d</th>\n",
       "      <th>collections_12_mths_ex_med</th>\n",
       "      <th>acc_now_delinq</th>\n",
       "      <th>delinq_amnt</th>\n",
       "      <th>pub_rec_bankruptcies</th>\n",
       "      <th>tax_liens</th>\n",
       "    </tr>\n",
       "    <tr>\n",
       "      <th>revol_util_categgories</th>\n",
       "      <th></th>\n",
       "      <th></th>\n",
       "      <th></th>\n",
       "      <th></th>\n",
       "      <th></th>\n",
       "      <th></th>\n",
       "      <th></th>\n",
       "      <th></th>\n",
       "      <th></th>\n",
       "      <th></th>\n",
       "      <th></th>\n",
       "      <th></th>\n",
       "      <th></th>\n",
       "      <th></th>\n",
       "      <th></th>\n",
       "      <th></th>\n",
       "      <th></th>\n",
       "      <th></th>\n",
       "      <th></th>\n",
       "      <th></th>\n",
       "      <th></th>\n",
       "    </tr>\n",
       "  </thead>\n",
       "  <tbody>\n",
       "    <tr>\n",
       "      <th>Extremly Good</th>\n",
       "      <td>4485</td>\n",
       "      <td>4485</td>\n",
       "      <td>4485</td>\n",
       "      <td>4485</td>\n",
       "      <td>4485</td>\n",
       "      <td>4485</td>\n",
       "      <td>4485</td>\n",
       "      <td>4485</td>\n",
       "      <td>4485</td>\n",
       "      <td>4485</td>\n",
       "      <td>...</td>\n",
       "      <td>4485</td>\n",
       "      <td>4485</td>\n",
       "      <td>4479</td>\n",
       "      <td>4485</td>\n",
       "      <td>4484</td>\n",
       "      <td>4473</td>\n",
       "      <td>4485</td>\n",
       "      <td>4485</td>\n",
       "      <td>4351</td>\n",
       "      <td>4477</td>\n",
       "    </tr>\n",
       "    <tr>\n",
       "      <th>Extremly Risky</th>\n",
       "      <td>8884</td>\n",
       "      <td>8884</td>\n",
       "      <td>8884</td>\n",
       "      <td>8884</td>\n",
       "      <td>8884</td>\n",
       "      <td>8884</td>\n",
       "      <td>8884</td>\n",
       "      <td>8884</td>\n",
       "      <td>8884</td>\n",
       "      <td>8884</td>\n",
       "      <td>...</td>\n",
       "      <td>8884</td>\n",
       "      <td>8884</td>\n",
       "      <td>8866</td>\n",
       "      <td>8884</td>\n",
       "      <td>8883</td>\n",
       "      <td>8879</td>\n",
       "      <td>8884</td>\n",
       "      <td>8884</td>\n",
       "      <td>8764</td>\n",
       "      <td>8881</td>\n",
       "    </tr>\n",
       "    <tr>\n",
       "      <th>Good</th>\n",
       "      <td>5259</td>\n",
       "      <td>5259</td>\n",
       "      <td>5259</td>\n",
       "      <td>5259</td>\n",
       "      <td>5259</td>\n",
       "      <td>5259</td>\n",
       "      <td>5259</td>\n",
       "      <td>5259</td>\n",
       "      <td>5259</td>\n",
       "      <td>5259</td>\n",
       "      <td>...</td>\n",
       "      <td>5259</td>\n",
       "      <td>5259</td>\n",
       "      <td>5251</td>\n",
       "      <td>5259</td>\n",
       "      <td>5259</td>\n",
       "      <td>5243</td>\n",
       "      <td>5259</td>\n",
       "      <td>5259</td>\n",
       "      <td>5168</td>\n",
       "      <td>5245</td>\n",
       "    </tr>\n",
       "    <tr>\n",
       "      <th>Moderate</th>\n",
       "      <td>10392</td>\n",
       "      <td>10392</td>\n",
       "      <td>10392</td>\n",
       "      <td>10392</td>\n",
       "      <td>10392</td>\n",
       "      <td>10392</td>\n",
       "      <td>10392</td>\n",
       "      <td>10392</td>\n",
       "      <td>10392</td>\n",
       "      <td>10392</td>\n",
       "      <td>...</td>\n",
       "      <td>10392</td>\n",
       "      <td>10392</td>\n",
       "      <td>10369</td>\n",
       "      <td>10392</td>\n",
       "      <td>10392</td>\n",
       "      <td>10378</td>\n",
       "      <td>10392</td>\n",
       "      <td>10392</td>\n",
       "      <td>10194</td>\n",
       "      <td>10384</td>\n",
       "    </tr>\n",
       "    <tr>\n",
       "      <th>Risky</th>\n",
       "      <td>10644</td>\n",
       "      <td>10644</td>\n",
       "      <td>10644</td>\n",
       "      <td>10644</td>\n",
       "      <td>10644</td>\n",
       "      <td>10644</td>\n",
       "      <td>10644</td>\n",
       "      <td>10644</td>\n",
       "      <td>10644</td>\n",
       "      <td>10644</td>\n",
       "      <td>...</td>\n",
       "      <td>10644</td>\n",
       "      <td>10644</td>\n",
       "      <td>10632</td>\n",
       "      <td>10644</td>\n",
       "      <td>10644</td>\n",
       "      <td>10637</td>\n",
       "      <td>10644</td>\n",
       "      <td>10644</td>\n",
       "      <td>10493</td>\n",
       "      <td>10640</td>\n",
       "    </tr>\n",
       "  </tbody>\n",
       "</table>\n",
       "<p>5 rows × 44 columns</p>\n",
       "</div>"
      ],
      "text/plain": [
       "                        loan_amnt  funded_amnt  funded_amnt_inv   term  \\\n",
       "revol_util_categgories                                                   \n",
       "Extremly Good                4485         4485             4485   4485   \n",
       "Extremly Risky               8884         8884             8884   8884   \n",
       "Good                         5259         5259             5259   5259   \n",
       "Moderate                    10392        10392            10392  10392   \n",
       "Risky                       10644        10644            10644  10644   \n",
       "\n",
       "                        int_rate  installment  grade  sub_grade  emp_length  \\\n",
       "revol_util_categgories                                                        \n",
       "Extremly Good               4485         4485   4485       4485        4485   \n",
       "Extremly Risky              8884         8884   8884       8884        8884   \n",
       "Good                        5259         5259   5259       5259        5259   \n",
       "Moderate                   10392        10392  10392      10392       10392   \n",
       "Risky                      10644        10644  10644      10644       10644   \n",
       "\n",
       "                        home_ownership  ...  recoveries  \\\n",
       "revol_util_categgories                  ...               \n",
       "Extremly Good                     4485  ...        4485   \n",
       "Extremly Risky                    8884  ...        8884   \n",
       "Good                              5259  ...        5259   \n",
       "Moderate                         10392  ...       10392   \n",
       "Risky                            10644  ...       10644   \n",
       "\n",
       "                        collection_recovery_fee  last_pymnt_d  \\\n",
       "revol_util_categgories                                          \n",
       "Extremly Good                              4485          4479   \n",
       "Extremly Risky                             8884          8866   \n",
       "Good                                       5259          5251   \n",
       "Moderate                                  10392         10369   \n",
       "Risky                                     10644         10632   \n",
       "\n",
       "                        last_pymnt_amnt  last_credit_pull_d  \\\n",
       "revol_util_categgories                                        \n",
       "Extremly Good                      4485                4484   \n",
       "Extremly Risky                     8884                8883   \n",
       "Good                               5259                5259   \n",
       "Moderate                          10392               10392   \n",
       "Risky                             10644               10644   \n",
       "\n",
       "                        collections_12_mths_ex_med  acc_now_delinq  \\\n",
       "revol_util_categgories                                               \n",
       "Extremly Good                                 4473            4485   \n",
       "Extremly Risky                                8879            8884   \n",
       "Good                                          5243            5259   \n",
       "Moderate                                     10378           10392   \n",
       "Risky                                        10637           10644   \n",
       "\n",
       "                        delinq_amnt  pub_rec_bankruptcies  tax_liens  \n",
       "revol_util_categgories                                                \n",
       "Extremly Good                  4485                  4351       4477  \n",
       "Extremly Risky                 8884                  8764       8881  \n",
       "Good                           5259                  5168       5245  \n",
       "Moderate                      10392                 10194      10384  \n",
       "Risky                         10644                 10493      10640  \n",
       "\n",
       "[5 rows x 44 columns]"
      ]
     },
     "execution_count": 66,
     "metadata": {},
     "output_type": "execute_result"
    }
   ],
   "source": [
    "df.groupby('revol_util_categgories').count()"
   ]
  },
  {
   "cell_type": "code",
   "execution_count": null,
   "id": "0a487bfc",
   "metadata": {},
   "outputs": [],
   "source": []
  }
 ],
 "metadata": {
  "kernelspec": {
   "display_name": "Python 3 (ipykernel)",
   "language": "python",
   "name": "python3"
  },
  "language_info": {
   "codemirror_mode": {
    "name": "ipython",
    "version": 3
   },
   "file_extension": ".py",
   "mimetype": "text/x-python",
   "name": "python",
   "nbconvert_exporter": "python",
   "pygments_lexer": "ipython3",
   "version": "3.9.7"
  }
 },
 "nbformat": 4,
 "nbformat_minor": 5
}
